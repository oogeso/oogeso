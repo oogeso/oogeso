{
 "cells": [
  {
   "cell_type": "markdown",
   "metadata": {},
   "source": [
    "# Offshore Oil and Gas Energy System Operation (OOGESO)\n",
    "# Test platform v1 (Nov 2020)\n",
    "Representing a hypothetical, but realistic Norwegian offshore oil and gas platform\n",
    "\n",
    "* wellstream: 50 Sm3/s, of which:\n",
    "    * gas: 49.75 Sm3/s = 4.3 mill Sm3/day = 4300 Sm3oe/day\n",
    "    * oil:  0.1 Sm3/s = 8640 Sm3/day  \n",
    "    * water: 0.15 Sm3/s = 12960 Sm3/day \n",
    "\n",
    "Gas oil ratio and water cut (standard units):\n",
    "* GOR = 4.3 mill/8640 = 497\n",
    "* WC = 12960/(12960+8640) = 0.6\n"
   ]
  },
  {
   "cell_type": "code",
   "execution_count": null,
   "metadata": {},
   "outputs": [],
   "source": [
    "%load_ext autoreload\n",
    "%autoreload 2\n",
    "import os\n",
    "import sys\n",
    "module_path = os.path.abspath(os.path.join('..'))\n",
    "if module_path not in sys.path:\n",
    "    sys.path.append(module_path)\n",
    "import oogeso\n",
    "from oogeso import plots\n",
    "import matplotlib.pyplot as plt\n",
    "import IPython.display\n",
    "import numpy as np\n",
    "import pandas as pd\n",
    "import logging\n",
    "import pprint\n",
    "import ipywidgets\n",
    "import cloudpickle\n",
    "import plotly.express as px\n",
    "import pyomo.environ as pyo"
   ]
  },
  {
   "cell_type": "markdown",
   "metadata": {},
   "source": [
    "## Read input data"
   ]
  },
  {
   "cell_type": "code",
   "execution_count": null,
   "metadata": {},
   "outputs": [],
   "source": [
    "#case='1' # base case without wind\n",
    "case='1a' # case with 24 MW wind capacity\n",
    "#case='1b' # case with 24 MW wind capacity AND 4 MW, 4 MWh battery\n",
    "#timerange=[0,12*24*7] #one week (with 5 min timestep)\n",
    "timerange=[0,40] # testing\n",
    "outpath = \"result/\"\n",
    "pickle_save='{}case{}.pkl'.format(outpath,case)\n",
    "plots.plotter=\"plotly\"\n",
    "\n",
    "mc = oogeso.Multicarrier(loglevel=logging.INFO,quadraticConstraints=False)\n",
    "data = oogeso.file_io.read_data_from_yaml('testplatform.yaml')\n",
    "profiles = oogeso.file_io.read_profiles_from_xlsx('testplatform_profiles.xlsx')\n",
    "\n",
    "for dev in ['Gen1','Gen2','Gen3']:\n",
    "    data['paramDevice'][dev]['isOn_init'] = 1\n",
    "\n",
    "if case=='1':\n",
    "    data['paramDevice']['wind']['Pmax']=0 # no wind\n",
    "elif case=='1a':\n",
    "    data['paramDevice']['wind']['Pmax']=8*3 # 3x8 MW, as agreed with ABB\n",
    "elif case=='1b':\n",
    "    data['paramDevice']['wind']['Pmax']=8*3 # 3x8 MW, as agreed with ABB\n",
    "    data['paramDeviceEnergyInitially']['battery'] = data['paramDevice']['battery']['Emax']\n",
    "\n",
    "\n",
    "# fixed production - not allowed to reduce:\n",
    "data['paramDevice']['wellL1']['Qmin'] = data['paramDevice']['wellL1']['Qmax']\n",
    "data['paramDevice']['wellL2']['Qmin'] = data['paramDevice']['wellL2']['Qmax']\n",
    "# modify reserve requirements:\n",
    "#data['paramParameters']['elReserveMargin'] = 4 #accept 4MW load loss\n",
    "#data['paramParameters']['elReserveMargin'] = 0 #accept no load loss (100% backup)\n",
    "#data['paramParameters']['elReserveMargin'] = -1 #skip constraint\n",
    "#data['paramParameters']['elBackupMargin'] = 5 #available unused power\n",
    "\n",
    "data = oogeso.file_io.create_initdata(data)\n",
    "instance = mc.createModelInstance(data,profiles)\n",
    "#print(\"Writing instance to file.\")\n",
    "#instance.pprint(outpath+\"problem_instance.txt\")"
   ]
  },
  {
   "cell_type": "markdown",
   "metadata": {},
   "source": [
    "### Inspect input data"
   ]
  },
  {
   "cell_type": "code",
   "execution_count": null,
   "metadata": {},
   "outputs": [],
   "source": [
    "xx=['','paramNode','paramEdge','paramDevice','paramCarriers','paramParameters','setProfile']\n",
    "#xx=['']+list(data.keys())\n",
    "@ipywidgets.interact(datagroup=xx)\n",
    "def showdata(datagroup):\n",
    "    pprint.pprint(data[datagroup],width=1) if datagroup!='' else print('')"
   ]
  },
  {
   "cell_type": "code",
   "execution_count": null,
   "metadata": {},
   "outputs": [],
   "source": [
    "# View profiles (entire available time windows)\n",
    "#plots.plotProfiles(profiles,filename=None)"
   ]
  },
  {
   "cell_type": "code",
   "execution_count": null,
   "metadata": {},
   "outputs": [],
   "source": [
    "fuelA = data['paramDevice']['Gen1']['fuelA']\n",
    "fuelB = data['paramDevice']['Gen1']['fuelB']\n",
    "Pmax = data['paramDevice']['Gen1']['Pmax']\n",
    "#plots.plotGasTurbineEfficiency(filename='gasturbine_Gen1.png',fuelA=fuelA,fuelB=fuelB,Pmax=Pmax)"
   ]
  },
  {
   "cell_type": "code",
   "execution_count": null,
   "metadata": {},
   "outputs": [],
   "source": [
    "# View energy system\n",
    "dotG=plots.plotNetwork(mc,timestep=None,filename=None)\n",
    "IPython.display.Image(dotG.create_png()) #scales automatically to page width"
   ]
  },
  {
   "cell_type": "markdown",
   "metadata": {},
   "source": [
    "### Some checks on input data"
   ]
  },
  {
   "cell_type": "code",
   "execution_count": null,
   "metadata": {},
   "outputs": [],
   "source": [
    "print(\"flow per pipe = {:.4} Sm3/s\".format(50/15))\n",
    "flow1=oogeso.milp_compute.darcy_weissbach_Q(p1=6.164,p2=6,f=0.001,rho=5.63,\n",
    "    diameter_mm=200,length_km=1,height_difference_m=100)\n",
    "flow2=oogeso.milp_compute.darcy_weissbach_Q(p1=6.164,p2=4,f=0.0136,rho=5.63,\n",
    "    diameter_mm=200,length_km=1,height_difference_m=100)\n",
    "flow3=oogeso.milp_compute.darcy_weissbach_Q(p1=7,p2=4,f=0.0189,rho=5.63,\n",
    "    diameter_mm=200,length_km=1,height_difference_m=100)\n",
    "print(\"flow1 (6.164->6): {:.4}\".format(flow1))\n",
    "print(\"flow2 (6.164->4): {:.4}\".format(flow2))\n",
    "print(\"flow3 (7->4):     {:.4}\".format(flow3))"
   ]
  },
  {
   "cell_type": "code",
   "execution_count": null,
   "metadata": {},
   "outputs": [],
   "source": [
    "# Water pipe pressure drop ('w3')\n",
    "#mc.instance.paramEdge['w3']['num_pipes']=15\n",
    "#mc.instance.paramEdge['w1']['diameter_mm']=200\n",
    "print(\"Pressure out={:.4} MPa\".format(oogeso.milp_compute.compute_edge_pressuredrop(mc.instance,'w1',p1=1.14,Q=1.15/3,linear=False)))\n",
    "print(mc.instance.paramEdge['w1'])"
   ]
  },
  {
   "cell_type": "code",
   "execution_count": null,
   "metadata": {},
   "outputs": [],
   "source": []
  },
  {
   "cell_type": "markdown",
   "metadata": {},
   "source": [
    "## Solve"
   ]
  },
  {
   "cell_type": "markdown",
   "metadata": {},
   "source": [
    "If the problem is infeasible, try \n",
    "* relaxing pressure deviation limits (generic value and per-node value)\n",
    "* add a high cost emergency generator (that could represent load shedding) to ensure energy balance can be satisfied\n",
    "* make sure excess heat/water/gas has a place to go\n"
   ]
  },
  {
   "cell_type": "code",
   "execution_count": null,
   "metadata": {},
   "outputs": [],
   "source": [
    "status = mc.solveMany(solver=\"cbc\",timerange=timerange,write_yaml=False,timelimit=60)\n",
    "\n",
    "sumCO2 = mc._dfCO2rate.mean()\n",
    "co2intensity = mc._dfCO2intensity.mean()\n",
    "exportrevenue = mc._dfExportRevenue.mean()\n",
    "print(\"Mean CO2 emission rate      = {:.1f} kgCO2/s\".format(sumCO2))\n",
    "print(\"Mean CO2 emission intensity = {:.1f} kgCO2/Sm3oe\".format(co2intensity))\n",
    "print(\"Mean export revenue         =\",*[\"{}:{:.1f} \".format(x,v) for x,v in mc._dfExportRevenue.mean().items() if v!=0],\"$/s\")"
   ]
  },
  {
   "cell_type": "code",
   "execution_count": null,
   "metadata": {},
   "outputs": [],
   "source": []
  },
  {
   "cell_type": "markdown",
   "metadata": {},
   "source": [
    "## Save/Load simulation results\n",
    "By saving to pickle file, it easy to later open and analyse the results without having to re-run the simulation"
   ]
  },
  {
   "cell_type": "code",
   "execution_count": null,
   "metadata": {},
   "outputs": [],
   "source": [
    "# Save (pickle) - for later opening and analysis\n",
    "with open(pickle_save, mode='wb') as file:\n",
    "   cloudpickle.dump(mc, file)\n",
    "print(\"Results were saved to {}\".format(pickle_save))"
   ]
  },
  {
   "cell_type": "code",
   "execution_count": null,
   "metadata": {},
   "outputs": [],
   "source": [
    "# Open previously saved object (including simulation results)\n",
    "#with open(pickle_save, mode='rb') as file:\n",
    "#   mc = cloudpickle.load(file)"
   ]
  },
  {
   "cell_type": "code",
   "execution_count": null,
   "metadata": {},
   "outputs": [],
   "source": []
  },
  {
   "cell_type": "markdown",
   "metadata": {},
   "source": [
    "## Analyse results"
   ]
  },
  {
   "cell_type": "code",
   "execution_count": null,
   "metadata": {},
   "outputs": [],
   "source": [
    "kpi = mc.compute_kpis(windturbines=['wind'])\n",
    "kpi = pd.DataFrame.from_dict(kpi,orient=\"index\",columns=[case])\n",
    "kpi"
   ]
  },
  {
   "cell_type": "code",
   "execution_count": null,
   "metadata": {},
   "outputs": [],
   "source": [
    "tstep=16\n",
    "gCombined = plots.plotNetwork(mc,timestep=tstep,numberformat=\"{:.3g}\",\n",
    "    filename=outpath+\"network_combined.png\")\n",
    "IPython.display.Image(gCombined.create_png())"
   ]
  },
  {
   "cell_type": "code",
   "execution_count": null,
   "metadata": {},
   "outputs": [],
   "source": [
    "print(\"CHECKING edge pressure drop on selected edges:\")\n",
    "print('w1: {:.5g} MPa'.format(oogeso.milp_compute.compute_edge_pressuredrop(mc.instance,edge='w1',Q=1.15,p1=0.7,linear=True)))\n",
    "print('w3: {:.5g} MPa'.format(oogeso.milp_compute.compute_edge_pressuredrop(mc.instance,edge='w3',Q=1.3/15,p1=7,linear=False)))\n",
    "print('o2: {:.5g} MPa'.format(oogeso.milp_compute.compute_edge_pressuredrop(mc.instance,edge='o2',Q=0.1,p1=5,linear=True)))\n",
    "print('g2: {:.5g} MPa'.format(oogeso.milp_compute.compute_edge_pressuredrop(mc.instance,edge='g2',Q=48,p1=10,linear=True)))"
   ]
  },
  {
   "cell_type": "code",
   "execution_count": null,
   "metadata": {},
   "outputs": [],
   "source": [
    "mc.checkEdgePressureDrop(timestep=1,var=\"outer\")"
   ]
  },
  {
   "cell_type": "code",
   "execution_count": null,
   "metadata": {},
   "outputs": [],
   "source": []
  },
  {
   "cell_type": "code",
   "execution_count": null,
   "metadata": {},
   "outputs": [],
   "source": [
    "plots.plotter='plotly'\n",
    "fig2=plots.plot_SumPowerMix(mc,carrier=\"el\",filename=None)\n",
    "fig2.update_layout(autosize=False,width=800,height=500,margin=dict(l=0,r=0,t=0,b=0))\n",
    "#fig2.write_image(\"{}/elpowermix_{}.png\".format(outpath,case))"
   ]
  },
  {
   "cell_type": "code",
   "execution_count": null,
   "metadata": {},
   "outputs": [],
   "source": []
  },
  {
   "cell_type": "code",
   "execution_count": null,
   "metadata": {},
   "outputs": [],
   "source": [
    "mean_el_demand = mc._dfDeviceFlow.unstack('carrier')['el'].unstack('terminal')['in'].dropna().unstack().T.mean()\n",
    "mean_heat_demand = mc._dfDeviceFlow.unstack('carrier')['heat'].unstack('terminal')['in'].dropna().unstack().T.mean()\n",
    "energydemand = pd.concat({'el':mean_el_demand,'heat':mean_heat_demand},axis=1)\n",
    "energydemand.drop('heatdump',inplace=True)\n",
    "energydemand.plot.barh(title=\"Mean power demand (MW)\")\n",
    "energydemand"
   ]
  },
  {
   "cell_type": "code",
   "execution_count": null,
   "metadata": {},
   "outputs": [],
   "source": [
    "print(\"Gas flow out ot terminal:\")\n",
    "mc._dfDeviceFlow.unstack('carrier')['gas'].unstack('terminal')['out'].dropna().unstack().T.mean()"
   ]
  },
  {
   "cell_type": "code",
   "execution_count": null,
   "metadata": {},
   "outputs": [],
   "source": [
    "well_inout=mc._dfDeviceFlow.unstack('device')[['wellL1','wellL2']].sum(axis=1).unstack('time').mean(axis=1).unstack('terminal')\n",
    "print(\"Net gas production = {:.5g} Sm3/s\".format((well_inout['out']-well_inout['in']).sum()))\n",
    "print(\"Gas circulated =     {:.5g} Sm3/s\".format(well_inout['in'].sum()))"
   ]
  },
  {
   "cell_type": "code",
   "execution_count": null,
   "metadata": {},
   "outputs": [],
   "source": [
    "# Check DUALS ()\n",
    "# display all duals\n",
    "for c in instance.component_objects(pyo.Constraint, active=True):\n",
    "    if len(c)>0:\n",
    "        print (\"   Constraint\",c, (len(c)))\n",
    "        ci=list(c)[0:6]\n",
    "        for index in ci:\n",
    "            thedual=instance.dual[c[index]]\n",
    "            if thedual!=0:\n",
    "                print (\"      \", index, thedual)"
   ]
  },
  {
   "cell_type": "code",
   "execution_count": null,
   "metadata": {},
   "outputs": [],
   "source": []
  },
  {
   "cell_type": "code",
   "execution_count": null,
   "metadata": {},
   "outputs": [],
   "source": [
    "plots.plotter=\"plotly\"\n",
    "gts = [d for d in mc.instance.setDevice \n",
    "       if mc.instance.paramDevice[d]['model']=='gasturbine']\n",
    "fig=plots.plot_deviceprofile(mc,devs=gts,filename=None,includeOnOff=True,includePrep=True)\n",
    "fig.update_layout(autosize=False,width=800,height=500,margin=dict(l=0,r=0,t=30,b=0))"
   ]
  },
  {
   "cell_type": "code",
   "execution_count": null,
   "metadata": {},
   "outputs": [],
   "source": [
    "# Print constraint for last rolling horizon optimisation\n",
    "gt='Gen2'\n",
    "print(\"GT is on initially ={}\".format(pyo.value(mc.instance.paramDeviceIsOnInitially[gt])))\n",
    "print(\"GT timesteps in startup preparation = {}\".format(pyo.value(mc.instance.paramDevicePrepTimestepsInitially[gt])))\n",
    "for t in range(6):\n",
    "    cstr=mc.instance.constrDevice_startup_shutdown[gt,t]\n",
    "    print(\"t={}: {} = {}\".format(t,cstr.body,cstr.upper))"
   ]
  },
  {
   "cell_type": "code",
   "execution_count": null,
   "metadata": {},
   "outputs": [],
   "source": [
    "dfStartopt = pd.DataFrame()\n",
    "for t in mc.instance.setHorizon: \n",
    "    dfStartopt.loc[t,'start']=mc.instance.varDeviceStarting['Gen2',t].value\n",
    "    dfStartopt.loc[t,'prep']=mc.instance.varDeviceIsPrep['Gen2',t].value\n",
    "    dfStartopt.loc[t,'on']=mc.instance.varDeviceIsOn['Gen2',t].value\n",
    "    dfStartopt.loc[t,'stop']=mc.instance.varDeviceStopping['Gen2',t].value\n",
    "#dfStartopt"
   ]
  },
  {
   "cell_type": "code",
   "execution_count": null,
   "metadata": {},
   "outputs": [],
   "source": [
    "plots.plotter='plotly'\n",
    "#plots.plotter='matplotlib'"
   ]
  },
  {
   "cell_type": "code",
   "execution_count": null,
   "metadata": {},
   "outputs": [],
   "source": [
    "fig=plots.plot_deviceprofile(mc,devs=['wind'],filename=None,includeForecasts=True)\n",
    "fig.update_layout(autosize=False,width=800,height=300,margin=dict(l=0,r=0,t=0,b=0))"
   ]
  },
  {
   "cell_type": "code",
   "execution_count": null,
   "metadata": {},
   "outputs": [],
   "source": [
    "df=mc._dfDeviceFlow.unstack([0,1,2])[[('ex_g','gas','in'),('ex_o','oil','in')]]\n",
    "df.columns=['gas','oil']\n",
    "df=df.reset_index()\n",
    "df = df.melt(var_name=\"Product\",value_name=\"Volume rate (Sm3/s)\",id_vars=('time'))\n",
    "px.line(df,x=\"time\",y=\"Volume rate (Sm3/s)\",color=\"Product\",title=\"Oil/gas export volumes (Sm3/s)\").show()\n",
    "\n",
    "plots.plot_ExportRevenue(mc)"
   ]
  },
  {
   "cell_type": "code",
   "execution_count": null,
   "metadata": {},
   "outputs": [],
   "source": []
  },
  {
   "cell_type": "code",
   "execution_count": null,
   "metadata": {},
   "outputs": [],
   "source": [
    "plots.plotter=\"plotly\"\n",
    "fig=plots.plot_deviceprofile(mc,devs=['wind'],includeForecasts=True,includeOnOff=False,\n",
    "                             filename=None)#outpath+\"WT_opt.png\")\n",
    "fig.update_layout(\n",
    "    margin=dict(l=20, r=20, t=20, b=20),width=800,height=300)\n",
    "fig.show()"
   ]
  },
  {
   "cell_type": "code",
   "execution_count": null,
   "metadata": {},
   "outputs": [],
   "source": [
    "plots.plotter=\"plotly\"\n",
    "if 'battery' in mc.instance.setDevice:\n",
    "    fig=plots.plot_devicePowerEnergy(mc,'battery',\n",
    "                                 filename=None)#outpath+\"battery_opt.png\")\n",
    "    fig.update_layout(autosize=False,width=800,height=300,margin=dict(l=0,r=0,t=30,b=0)).show()\n",
    "    oogeso.milp_plot.plotDevicePowerLastOptimisation1(mc,device='battery',\n",
    "                filename=None)#outpath+\"lastopt_battery.png\")"
   ]
  },
  {
   "cell_type": "code",
   "execution_count": null,
   "metadata": {},
   "outputs": [],
   "source": []
  },
  {
   "cell_type": "code",
   "execution_count": null,
   "metadata": {},
   "outputs": [],
   "source": [
    "plots.plotter=\"plotly\"\n",
    "fig=plots.plot_CO2rate_per_dev(mc,reverseLegend=True,filename=outpath+\"co2rate_opt.png\")\n",
    "fig.update_layout(autosize=False,width=800,height=300,margin=dict(l=0,r=0,t=0,b=0))"
   ]
  },
  {
   "cell_type": "code",
   "execution_count": null,
   "metadata": {},
   "outputs": [],
   "source": []
  },
  {
   "cell_type": "code",
   "execution_count": null,
   "metadata": {},
   "outputs": [],
   "source": [
    "fig=plots.plot_CO2_intensity(mc,filename=outpath+\"co2intensity_opt.png\")\n",
    "fig.update_layout(autosize=False,width=700,height=300,margin=dict(l=0,r=0,t=0,b=0))"
   ]
  },
  {
   "cell_type": "code",
   "execution_count": null,
   "metadata": {},
   "outputs": [],
   "source": [
    "plots.plotReserve(mc,dynamicMargin=True)"
   ]
  },
  {
   "cell_type": "code",
   "execution_count": null,
   "metadata": {},
   "outputs": [],
   "source": [
    "# This plot shows per device its output (dotted line) and the available online backup, iel reserve \n",
    "# by _other_ devices (solid line). MARGIN(t) = min_devices(backup(t) - output(t))\n",
    "#plots.plotElBackup(mc,showMargin=True,returnMargin=False)"
   ]
  },
  {
   "cell_type": "code",
   "execution_count": null,
   "metadata": {},
   "outputs": [],
   "source": []
  },
  {
   "cell_type": "code",
   "execution_count": null,
   "metadata": {},
   "outputs": [],
   "source": []
  }
 ],
 "metadata": {
  "kernelspec": {
   "display_name": "Python 3",
   "language": "python",
   "name": "python3"
  },
  "language_info": {
   "codemirror_mode": {
    "name": "ipython",
    "version": 3
   },
   "file_extension": ".py",
   "mimetype": "text/x-python",
   "name": "python",
   "nbconvert_exporter": "python",
   "pygments_lexer": "ipython3",
   "version": "3.7.4"
  },
  "widgets": {
   "application/vnd.jupyter.widget-state+json": {
    "state": {
     "14c9346021504fad87acb50aebaa1a4b": {
      "model_module": "@jupyter-widgets/output",
      "model_module_version": "1.0.0",
      "model_name": "OutputModel",
      "state": {
       "layout": "IPY_MODEL_74fd062f284d483a90c3de06b027dc64",
       "outputs": [
        {
         "name": "stdout",
         "output_type": "stream",
         "text": "\n"
        }
       ]
      }
     },
     "1ae74b29fb914e829b3acbbf5bb02625": {
      "model_module": "@jupyter-widgets/base",
      "model_module_version": "1.2.0",
      "model_name": "LayoutModel",
      "state": {}
     },
     "22fd6d15542c4a44acff1cc6d955711a": {
      "model_module": "@jupyter-widgets/base",
      "model_module_version": "1.2.0",
      "model_name": "LayoutModel",
      "state": {}
     },
     "267a0eab2cf9469892ee2890fbeffb6a": {
      "model_module": "@jupyter-widgets/controls",
      "model_module_version": "1.5.0",
      "model_name": "VBoxModel",
      "state": {
       "_dom_classes": [
        "widget-interact"
       ],
       "children": [
        "IPY_MODEL_d3d15215f5bb4bc5b83ba1c5926a4851",
        "IPY_MODEL_14c9346021504fad87acb50aebaa1a4b"
       ],
       "layout": "IPY_MODEL_43ee3cfee856455a869e3ab25c55de0c"
      }
     },
     "279edafd58f04ba6adbb54e73ad9d0bb": {
      "model_module": "@jupyter-widgets/controls",
      "model_module_version": "1.5.0",
      "model_name": "DropdownModel",
      "state": {
       "_options_labels": [
        "",
        "paramNode",
        "paramEdge",
        "paramDevice",
        "paramCarriers",
        "paramParameters",
        "setProfile"
       ],
       "description": "datagroup",
       "index": 0,
       "layout": "IPY_MODEL_2a3ca48b605f40f1892431d992619176",
       "style": "IPY_MODEL_38b3507b0a1b409eb00d214c78c03c29"
      }
     },
     "2a3ca48b605f40f1892431d992619176": {
      "model_module": "@jupyter-widgets/base",
      "model_module_version": "1.2.0",
      "model_name": "LayoutModel",
      "state": {}
     },
     "38b3507b0a1b409eb00d214c78c03c29": {
      "model_module": "@jupyter-widgets/controls",
      "model_module_version": "1.5.0",
      "model_name": "DescriptionStyleModel",
      "state": {
       "description_width": ""
      }
     },
     "43ee3cfee856455a869e3ab25c55de0c": {
      "model_module": "@jupyter-widgets/base",
      "model_module_version": "1.2.0",
      "model_name": "LayoutModel",
      "state": {}
     },
     "46cedfac98154a17aee7363ed071160e": {
      "model_module": "@jupyter-widgets/output",
      "model_module_version": "1.0.0",
      "model_name": "OutputModel",
      "state": {
       "layout": "IPY_MODEL_a6f570ee17254b019dd769b010a0fbec",
       "outputs": [
        {
         "name": "stdout",
         "output_type": "stream",
         "text": "\n"
        }
       ]
      }
     },
     "50155d1caae34580a79422301318b0f9": {
      "model_module": "@jupyter-widgets/controls",
      "model_module_version": "1.5.0",
      "model_name": "VBoxModel",
      "state": {
       "_dom_classes": [
        "widget-interact"
       ],
       "children": [
        "IPY_MODEL_279edafd58f04ba6adbb54e73ad9d0bb",
        "IPY_MODEL_46cedfac98154a17aee7363ed071160e"
       ],
       "layout": "IPY_MODEL_22fd6d15542c4a44acff1cc6d955711a"
      }
     },
     "74fd062f284d483a90c3de06b027dc64": {
      "model_module": "@jupyter-widgets/base",
      "model_module_version": "1.2.0",
      "model_name": "LayoutModel",
      "state": {}
     },
     "a6f570ee17254b019dd769b010a0fbec": {
      "model_module": "@jupyter-widgets/base",
      "model_module_version": "1.2.0",
      "model_name": "LayoutModel",
      "state": {}
     },
     "d35b07cb3da44079876880d779d80993": {
      "model_module": "@jupyter-widgets/controls",
      "model_module_version": "1.5.0",
      "model_name": "DescriptionStyleModel",
      "state": {
       "description_width": ""
      }
     },
     "d3d15215f5bb4bc5b83ba1c5926a4851": {
      "model_module": "@jupyter-widgets/controls",
      "model_module_version": "1.5.0",
      "model_name": "DropdownModel",
      "state": {
       "_options_labels": [
        "",
        "paramNode",
        "paramEdge",
        "paramDevice",
        "paramCarriers",
        "paramParameters",
        "setProfile"
       ],
       "description": "datagroup",
       "index": 0,
       "layout": "IPY_MODEL_1ae74b29fb914e829b3acbbf5bb02625",
       "style": "IPY_MODEL_d35b07cb3da44079876880d779d80993"
      }
     }
    },
    "version_major": 2,
    "version_minor": 0
   }
  }
 },
 "nbformat": 4,
 "nbformat_minor": 4
}
