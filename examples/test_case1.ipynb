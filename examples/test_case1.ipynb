{
 "cells": [
  {
   "cell_type": "code",
   "execution_count": 1,
   "id": "e2c99687-cb29-4e3b-85a0-52110316f0a2",
   "metadata": {},
   "outputs": [],
   "source": [
    "%load_ext autoreload\n",
    "%autoreload 2\n",
    "import oogeso.io\n",
    "import oogeso.plots as plots\n",
    "import IPython.display\n",
    "import ipywidgets\n",
    "import pprint\n",
    "import logging\n",
    "logging.basicConfig(level=\"INFO\",format=\"%(asctime)s %(levelname)s [%(name)s.%(funcName)s:%(lineno)d] %(message)s\")"
   ]
  },
  {
   "cell_type": "code",
   "execution_count": 2,
   "id": "42441d77-b366-45a1-94a0-4f618a16b78d",
   "metadata": {},
   "outputs": [],
   "source": [
    "energy_system = oogeso.io.read_data_from_yaml(\"../tests/test_data/testdata1.yaml\")"
   ]
  },
  {
   "cell_type": "code",
   "execution_count": 3,
   "id": "c60f5cb6-4a07-47ec-81cd-389193cc72ea",
   "metadata": {},
   "outputs": [
    {
     "name": "stderr",
     "output_type": "stream",
     "text": [
      "2022-01-25 09:30:51,263 INFO [oogeso.core.optimiser.__init__:45] profiles in use: []\n",
      "2022-01-25 09:30:51,268 INFO [oogeso.core.optimiser._specify_objective:321] Using objective function: penalty\n"
     ]
    }
   ],
   "source": [
    "simulator = oogeso.Simulator(data=energy_system)"
   ]
  },
  {
   "cell_type": "code",
   "execution_count": 4,
   "id": "6600b41c-1695-44da-b01a-c1b3b44efaf7",
   "metadata": {},
   "outputs": [
    {
     "data": {
      "text/plain": "interactive(children=(Dropdown(description='constraint', options=('', <pyomo.core.base.constraint.IndexedConst…",
      "application/vnd.jupyter.widget-view+json": {
       "version_major": 2,
       "version_minor": 0,
       "model_id": "29fc329e04774d9daa2bee7a37ec980f"
      }
     },
     "metadata": {},
     "output_type": "display_data"
    }
   ],
   "source": [
    "yy=[\"\"]+list(simulator.optimiser.component_objects(oogeso.optimiser.pyo.Constraint, active=True))\n",
    "@ipywidgets.interact(constraint=yy)\n",
    "def showdata(constraint):\n",
    "    pprint.pprint(constraint.pprint(),width=1) if constraint!=\"\" else print(\"\")"
   ]
  },
  {
   "cell_type": "code",
   "execution_count": 5,
   "id": "e7fbb682-6b26-485d-ae67-66f7a96af649",
   "metadata": {},
   "outputs": [
    {
     "name": "stdout",
     "output_type": "stream",
     "text": [
      "objObjective : Size=1, Index=None, Active=True\n",
      "    Key  : Active : Sense    : Expression\n",
      "    None :   True : minimize : (varDevicePenalty[source1,el,out,0] + varDevicePenalty[source1,el,out,1])/2\n"
     ]
    }
   ],
   "source": [
    "# Active objective(s):\n",
    "for ob in simulator.optimiser.component_objects(oogeso.optimiser.pyo.Objective, active=True): \n",
    "    ob.pprint()"
   ]
  },
  {
   "cell_type": "code",
   "execution_count": 6,
   "id": "17c38663-3b1f-47e9-8701-167deb0e2265",
   "metadata": {},
   "outputs": [
    {
     "name": "stderr",
     "output_type": "stream",
     "text": [
      "100%|██████████| 4/4 [00:00<00:00,  7.03it/s]\n"
     ]
    }
   ],
   "source": [
    "res = simulator.run_simulation(solver=\"cbc\",time_range=[0,4])"
   ]
  },
  {
   "cell_type": "code",
   "execution_count": 7,
   "id": "c371e4db-ad3a-40f5-8db5-08eca8d9185e",
   "metadata": {},
   "outputs": [
    {
     "data": {
      "image/png": "[encoded data removed]",
      "text/plain": "<IPython.core.display.Image object>"
     },
     "execution_count": 7,
     "metadata": {},
     "output_type": "execute_result"
    }
   ],
   "source": [
    "try:\n",
    "    IPython.display.Image(plots.plot_network(simulator,timestep=1).create_png())\n",
    "except:\n",
    "    pass"
   ]
  },
  {
   "cell_type": "code",
   "execution_count": 8,
   "id": "72e5ae54-34f3-4b9d-b9de-a088654481ef",
   "metadata": {},
   "outputs": [],
   "source": [
    "res_str=oogeso.dto.serialisation.serialize_oogeso_data(res)\n",
    "# with open(\"testdata1_result.json\",\"w\") as f:\n",
    "#    f.write(res_str)"
   ]
  },
  {
   "cell_type": "code",
   "execution_count": 9,
   "id": "8ccb7016-c7c4-429a-b658-a39aaff83908",
   "metadata": {},
   "outputs": [],
   "source": [
    "res2=oogeso.dto.serialisation.deserialize_oogeso_results(res_str)"
   ]
  },
  {
   "cell_type": "code",
   "execution_count": 10,
   "id": "6f021c04-98b0-4524-80ec-6f0f6a3668e2",
   "metadata": {},
   "outputs": [
    {
     "data": {
      "text/plain": "True"
     },
     "execution_count": 10,
     "metadata": {},
     "output_type": "execute_result"
    }
   ],
   "source": [
    "(res.edge_flow[\"el1\",]==15).all()"
   ]
  },
  {
   "cell_type": "code",
   "execution_count": 10,
   "id": "59b2ea94-d337-4c39-a381-d9a5b6fbdd2f",
   "metadata": {},
   "outputs": [],
   "source": []
  },
  {
   "cell_type": "code",
   "execution_count": 11,
   "id": "79c60603-ec83-4bb2-8d10-9f76759f9e08",
   "metadata": {},
   "outputs": [],
   "source": [
    "#oogeso.plots.plot_sum_power_mix(res,optimisation_model=simulator.optimiser,carrier=\"el\")"
   ]
  },
  {
   "cell_type": "code",
   "execution_count": 12,
   "id": "c844ba57-b860-40b2-b894-33ba2e990026",
   "metadata": {},
   "outputs": [
    {
     "data": {
      "text/plain": "device  dem source1\ntime               \n0       0.0     0.0\n1       0.0     0.0\n2       0.0     0.0\n3       0.0     0.0",
      "text/html": "<div>\n<style scoped>\n    .dataframe tbody tr th:only-of-type {\n        vertical-align: middle;\n    }\n\n    .dataframe tbody tr th {\n        vertical-align: top;\n    }\n\n    .dataframe thead th {\n        text-align: right;\n    }\n</style>\n<table border=\"1\" class=\"dataframe\">\n  <thead>\n    <tr style=\"text-align: right;\">\n      <th>device</th>\n      <th>dem</th>\n      <th>source1</th>\n    </tr>\n    <tr>\n      <th>time</th>\n      <th></th>\n      <th></th>\n    </tr>\n  </thead>\n  <tbody>\n    <tr>\n      <th>0</th>\n      <td>0.0</td>\n      <td>0.0</td>\n    </tr>\n    <tr>\n      <th>1</th>\n      <td>0.0</td>\n      <td>0.0</td>\n    </tr>\n    <tr>\n      <th>2</th>\n      <td>0.0</td>\n      <td>0.0</td>\n    </tr>\n    <tr>\n      <th>3</th>\n      <td>0.0</td>\n      <td>0.0</td>\n    </tr>\n  </tbody>\n</table>\n</div>"
     },
     "execution_count": 12,
     "metadata": {},
     "output_type": "execute_result"
    }
   ],
   "source": [
    "res.co2_rate_per_dev.unstack(\"device\")"
   ]
  },
  {
   "cell_type": "code",
   "execution_count": 12,
   "id": "f35e9afa-67d4-4184-aa6c-cca5e665301d",
   "metadata": {},
   "outputs": [],
   "source": []
  }
 ],
 "metadata": {
  "kernelspec": {
   "display_name": "Python 3 (ipykernel)",
   "language": "python",
   "name": "python3"
  },
  "language_info": {
   "codemirror_mode": {
    "name": "ipython",
    "version": 3
   },
   "file_extension": ".py",
   "mimetype": "text/x-python",
   "name": "python",
   "nbconvert_exporter": "python",
   "pygments_lexer": "ipython3",
   "version": "3.7.10"
  }
 },
 "nbformat": 4,
 "nbformat_minor": 5
}