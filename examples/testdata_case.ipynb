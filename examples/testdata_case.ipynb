{
 "cells": [
  {
   "cell_type": "code",
   "execution_count": 13,
   "id": "e2c99687-cb29-4e3b-85a0-52110316f0a2",
   "metadata": {},
   "outputs": [
    {
     "name": "stdout",
     "output_type": "stream",
     "text": [
      "The autoreload extension is already loaded. To reload it, use:\n",
      "  %reload_ext autoreload\n"
     ]
    }
   ],
   "source": [
    "%load_ext autoreload\n",
    "%autoreload 2\n",
    "import oogeso\n",
    "import oogeso.io\n",
    "import oogeso.plotting_utils.plots as plots\n",
    "import json\n",
    "import IPython.display\n",
    "import ipywidgets\n",
    "import pprint\n",
    "import logging\n",
    "logging.basicConfig(level=\"INFO\",format=\"%(asctime)s %(levelname)s [%(name)s.%(funcName)s:%(lineno)d] %(message)s\")"
   ]
  },
  {
   "cell_type": "code",
   "execution_count": 5,
   "id": "42441d77-b366-45a1-94a0-4f618a16b78d",
   "metadata": {},
   "outputs": [],
   "source": [
    "energy_system = oogeso.io.read_data_from_yaml(\"../tests/testdata1.yaml\")"
   ]
  },
  {
   "cell_type": "code",
   "execution_count": 6,
   "id": "c60f5cb6-4a07-47ec-81cd-389193cc72ea",
   "metadata": {},
   "outputs": [
    {
     "name": "stderr",
     "output_type": "stream",
     "text": [
      "2021-10-21 15:35:01,435 INFO [oogeso.core.optimiser.__init__:47] profiles in use: []\n",
      "2021-10-21 15:35:01,439 INFO [oogeso.core.optimiser._specify_objective:353] Using objective function: penalty\n"
     ]
    }
   ],
   "source": [
    "simulator = oogeso.Simulator(data=energy_system)"
   ]
  },
  {
   "cell_type": "code",
   "execution_count": 7,
   "id": "6600b41c-1695-44da-b01a-c1b3b44efaf7",
   "metadata": {},
   "outputs": [
    {
     "data": {
      "application/vnd.jupyter.widget-view+json": {
       "model_id": "d9ce1aa6f0db43b389f678fd72d2b0a1",
       "version_major": 2,
       "version_minor": 0
      },
      "text/plain": [
       "interactive(children=(Dropdown(description='constraint', options=('', <pyomo.core.base.constraint.IndexedConst…"
      ]
     },
     "metadata": {},
     "output_type": "display_data"
    }
   ],
   "source": [
    "yy=[\"\"]+list(simulator.optimiser.pyomo_instance.component_objects(oogeso.optimiser.pyo.Constraint, active=True))\n",
    "@ipywidgets.interact(constraint=yy)\n",
    "def showdata(constraint):\n",
    "    pprint.pprint(constraint.pprint(),width=1) if constraint!=\"\" else print(\"\")"
   ]
  },
  {
   "cell_type": "code",
   "execution_count": 8,
   "id": "75b4e8f0-7645-442b-b065-0c71e14a3d6c",
   "metadata": {},
   "outputs": [],
   "source": [
    "energy_system.parameters.optimisation_return_data= None"
   ]
  },
  {
   "cell_type": "code",
   "execution_count": 9,
   "id": "e7fbb682-6b26-485d-ae67-66f7a96af649",
   "metadata": {},
   "outputs": [
    {
     "name": "stdout",
     "output_type": "stream",
     "text": [
      "objObjective : Size=1, Index=None, Active=True\n",
      "    Key  : Active : Sense    : Expression\n",
      "    None :   True : minimize : (varDevicePenalty[source1,el,out,0] + varDevicePenalty[source1,el,out,1])/2\n"
     ]
    }
   ],
   "source": [
    "# Active objective(s):\n",
    "for ob in simulator.optimiser.pyomo_instance.component_objects(oogeso.optimiser.pyo.Objective, active=True): \n",
    "    ob.pprint()"
   ]
  },
  {
   "cell_type": "code",
   "execution_count": 10,
   "id": "17c38663-3b1f-47e9-8701-167deb0e2265",
   "metadata": {},
   "outputs": [
    {
     "name": "stderr",
     "output_type": "stream",
     "text": [
      "100%|████████████████████████████████████████████████████████████████████████████████████| 4/4 [00:02<00:00,  1.95it/s]\n"
     ]
    }
   ],
   "source": [
    "res = simulator.runSimulation(solver=\"cbc\",timerange=[0,4])"
   ]
  },
  {
   "cell_type": "code",
   "execution_count": 14,
   "id": "c371e4db-ad3a-40f5-8db5-08eca8d9185e",
   "metadata": {},
   "outputs": [
    {
     "data": {
      "image/png": "[encoded data removed]",
      "text/plain": [
       "<IPython.core.display.Image object>"
      ]
     },
     "execution_count": 14,
     "metadata": {},
     "output_type": "execute_result"
    }
   ],
   "source": [
    "IPython.display.Image(plots.plotNetwork(simulator,timestep=1).create_png())"
   ]
  },
  {
   "cell_type": "code",
   "execution_count": 53,
   "id": "72e5ae54-34f3-4b9d-b9de-a088654481ef",
   "metadata": {},
   "outputs": [],
   "source": [
    "res_str=oogeso.dto.serialisation.serialize_oogeso_data(res)\n",
    "with open(\"testresult.json\",\"w\") as f:\n",
    "    f.write(res_str)"
   ]
  },
  {
   "cell_type": "code",
   "execution_count": 59,
   "id": "8ccb7016-c7c4-429a-b658-a39aaff83908",
   "metadata": {},
   "outputs": [
    {
     "name": "stdout",
     "output_type": "stream",
     "text": [
      "dfDeviceFlow\n",
      "<class 'str'> <class 'dict'>\n",
      "dfDeviceIsPrep\n",
      "<class 'str'> <class 'dict'>\n",
      "dfDeviceIsOn\n",
      "<class 'str'> <class 'dict'>\n",
      "dfDeviceStarting\n",
      "<class 'str'> <class 'dict'>\n",
      "dfDeviceStopping\n",
      "<class 'str'> <class 'dict'>\n",
      "dfDeviceStorageEnergy\n",
      "<class 'str'> <class 'dict'>\n",
      "dfDeviceStoragePmax\n",
      "<class 'str'> <class 'dict'>\n",
      "dfPenalty\n",
      "<class 'str'> <class 'dict'>\n",
      "dfEdgeFlow\n",
      "<class 'str'> <class 'dict'>\n",
      "dfEdgeLoss\n",
      "<class 'str'> <class 'dict'>\n",
      "dfElVoltageAngle\n",
      "<class 'str'> <class 'dict'>\n",
      "dfTerminalPressure\n",
      "<class 'str'> <class 'dict'>\n",
      "dfTerminalFlow\n",
      "<class 'str'> <class 'dict'>\n",
      "dfCO2rate\n",
      "<class 'str'> <class 'dict'>\n",
      "dfCO2rate_per_dev\n",
      "<class 'str'> <class 'dict'>\n",
      "dfExportRevenue\n",
      "<class 'str'> <class 'dict'>\n",
      "dfCO2intensity\n",
      "<class 'str'> <class 'dict'>\n",
      "dfElReserve\n",
      "<class 'str'> <class 'dict'>\n",
      "dfElBackup\n",
      "<class 'str'> <class 'dict'>\n",
      "dfDuals\n",
      "df_profiles_forecast\n",
      "<class 'str'> <class 'dict'>\n",
      "df_profiles_nowcast\n",
      "<class 'str'> <class 'dict'>\n"
     ]
    }
   ],
   "source": [
    "res2=oogeso.dto.serialisation.deserialize_oogeso_results(res_str)"
   ]
  },
  {
   "cell_type": "code",
   "execution_count": 64,
   "id": "6f021c04-98b0-4524-80ec-6f0f6a3668e2",
   "metadata": {},
   "outputs": [
    {
     "data": {
      "text/plain": [
       "edge  time\n",
       "el1   0       15.0\n",
       "      1       15.0\n",
       "      2       15.0\n",
       "      3       15.0\n",
       "Name: value, dtype: float64"
      ]
     },
     "execution_count": 64,
     "metadata": {},
     "output_type": "execute_result"
    }
   ],
   "source": [
    "res.dfEdgeFlow"
   ]
  },
  {
   "cell_type": "code",
   "execution_count": 51,
   "id": "59b2ea94-d337-4c39-a381-d9a5b6fbdd2f",
   "metadata": {},
   "outputs": [
    {
     "data": {
      "text/html": [
       "<div>\n",
       "<style scoped>\n",
       "    .dataframe tbody tr th:only-of-type {\n",
       "        vertical-align: middle;\n",
       "    }\n",
       "\n",
       "    .dataframe tbody tr th {\n",
       "        vertical-align: top;\n",
       "    }\n",
       "\n",
       "    .dataframe thead th {\n",
       "        text-align: right;\n",
       "    }\n",
       "</style>\n",
       "<table border=\"1\" class=\"dataframe\">\n",
       "  <thead>\n",
       "    <tr style=\"text-align: right;\">\n",
       "      <th></th>\n",
       "      <th></th>\n",
       "      <th></th>\n",
       "      <th></th>\n",
       "      <th>value</th>\n",
       "    </tr>\n",
       "    <tr>\n",
       "      <th>device</th>\n",
       "      <th>carrier</th>\n",
       "      <th>terminal</th>\n",
       "      <th>time</th>\n",
       "      <th></th>\n",
       "    </tr>\n",
       "  </thead>\n",
       "  <tbody>\n",
       "    <tr>\n",
       "      <th rowspan=\"8\" valign=\"top\">dem</th>\n",
       "      <th rowspan=\"8\" valign=\"top\">el</th>\n",
       "      <th rowspan=\"4\" valign=\"top\">in</th>\n",
       "      <th>0</th>\n",
       "      <td>15.0</td>\n",
       "    </tr>\n",
       "    <tr>\n",
       "      <th>1</th>\n",
       "      <td>15.0</td>\n",
       "    </tr>\n",
       "    <tr>\n",
       "      <th>2</th>\n",
       "      <td>15.0</td>\n",
       "    </tr>\n",
       "    <tr>\n",
       "      <th>3</th>\n",
       "      <td>15.0</td>\n",
       "    </tr>\n",
       "    <tr>\n",
       "      <th rowspan=\"4\" valign=\"top\">out</th>\n",
       "      <th>0</th>\n",
       "      <td>0.0</td>\n",
       "    </tr>\n",
       "    <tr>\n",
       "      <th>1</th>\n",
       "      <td>0.0</td>\n",
       "    </tr>\n",
       "    <tr>\n",
       "      <th>2</th>\n",
       "      <td>0.0</td>\n",
       "    </tr>\n",
       "    <tr>\n",
       "      <th>3</th>\n",
       "      <td>0.0</td>\n",
       "    </tr>\n",
       "    <tr>\n",
       "      <th rowspan=\"8\" valign=\"top\">source1</th>\n",
       "      <th rowspan=\"8\" valign=\"top\">el</th>\n",
       "      <th rowspan=\"4\" valign=\"top\">in</th>\n",
       "      <th>0</th>\n",
       "      <td>0.0</td>\n",
       "    </tr>\n",
       "    <tr>\n",
       "      <th>1</th>\n",
       "      <td>0.0</td>\n",
       "    </tr>\n",
       "    <tr>\n",
       "      <th>2</th>\n",
       "      <td>0.0</td>\n",
       "    </tr>\n",
       "    <tr>\n",
       "      <th>3</th>\n",
       "      <td>0.0</td>\n",
       "    </tr>\n",
       "    <tr>\n",
       "      <th rowspan=\"4\" valign=\"top\">out</th>\n",
       "      <th>0</th>\n",
       "      <td>15.0</td>\n",
       "    </tr>\n",
       "    <tr>\n",
       "      <th>1</th>\n",
       "      <td>15.0</td>\n",
       "    </tr>\n",
       "    <tr>\n",
       "      <th>2</th>\n",
       "      <td>15.0</td>\n",
       "    </tr>\n",
       "    <tr>\n",
       "      <th>3</th>\n",
       "      <td>15.0</td>\n",
       "    </tr>\n",
       "  </tbody>\n",
       "</table>\n",
       "</div>"
      ],
      "text/plain": [
       "                               value\n",
       "device  carrier terminal time       \n",
       "dem     el      in       0      15.0\n",
       "                         1      15.0\n",
       "                         2      15.0\n",
       "                         3      15.0\n",
       "                out      0       0.0\n",
       "                         1       0.0\n",
       "                         2       0.0\n",
       "                         3       0.0\n",
       "source1 el      in       0       0.0\n",
       "                         1       0.0\n",
       "                         2       0.0\n",
       "                         3       0.0\n",
       "                out      0      15.0\n",
       "                         1      15.0\n",
       "                         2      15.0\n",
       "                         3      15.0"
      ]
     },
     "execution_count": 51,
     "metadata": {},
     "output_type": "execute_result"
    }
   ],
   "source": [
    "res_dct=json.loads(res_str)\n",
    "import pandas as pd\n",
    "df=pd.DataFrame.from_dict(res_dct[\"dfDeviceFlow\"])\n",
    "ind=[c for c in df.columns if c!=\"value\"]\n",
    "df.set_index(ind)"
   ]
  },
  {
   "cell_type": "code",
   "execution_count": 15,
   "id": "79c60603-ec83-4bb2-8d10-9f76759f9e08",
   "metadata": {},
   "outputs": [
    {
     "ename": "AttributeError",
     "evalue": "'SimulationResult' object has no attribute 'optimiser'",
     "output_type": "error",
     "traceback": [
      "\u001b[1;31m---------------------------------------------------------------------------\u001b[0m",
      "\u001b[1;31mAttributeError\u001b[0m                            Traceback (most recent call last)",
      "\u001b[1;32m~\\AppData\\Local\\Temp/ipykernel_23180/4202047253.py\u001b[0m in \u001b[0;36m<module>\u001b[1;34m\u001b[0m\n\u001b[1;32m----> 1\u001b[1;33m \u001b[0moogeso\u001b[0m\u001b[1;33m.\u001b[0m\u001b[0mplots\u001b[0m\u001b[1;33m.\u001b[0m\u001b[0mplot_SumPowerMix\u001b[0m\u001b[1;33m(\u001b[0m\u001b[0mres\u001b[0m\u001b[1;33m,\u001b[0m\u001b[1;34m\"el\"\u001b[0m\u001b[1;33m)\u001b[0m\u001b[1;33m\u001b[0m\u001b[1;33m\u001b[0m\u001b[0m\n\u001b[0m",
      "\u001b[1;32m~\\code\\oogeso\\src\\oogeso\\plotting_utils\\plots.py\u001b[0m in \u001b[0;36mplot_SumPowerMix\u001b[1;34m(sim_result, carrier, filename, reverseLegend, exclude_zero, devs_shareload)\u001b[0m\n\u001b[0;32m    338\u001b[0m     \u001b[1;31m# optimiser = simulator.optimiser\u001b[0m\u001b[1;33m\u001b[0m\u001b[1;33m\u001b[0m\u001b[1;33m\u001b[0m\u001b[0m\n\u001b[0;32m    339\u001b[0m     \u001b[0mres\u001b[0m \u001b[1;33m=\u001b[0m \u001b[0msim_result\u001b[0m\u001b[1;33m\u001b[0m\u001b[1;33m\u001b[0m\u001b[0m\n\u001b[1;32m--> 340\u001b[1;33m     \u001b[0moptimiser\u001b[0m \u001b[1;33m=\u001b[0m \u001b[0msim_result\u001b[0m\u001b[1;33m.\u001b[0m\u001b[0moptimiser\u001b[0m\u001b[1;33m\u001b[0m\u001b[1;33m\u001b[0m\u001b[0m\n\u001b[0m\u001b[0;32m    341\u001b[0m     \u001b[1;31m# Power flow in/out\u001b[0m\u001b[1;33m\u001b[0m\u001b[1;33m\u001b[0m\u001b[1;33m\u001b[0m\u001b[0m\n\u001b[0;32m    342\u001b[0m     \u001b[0mdfF\u001b[0m \u001b[1;33m=\u001b[0m \u001b[0mres\u001b[0m\u001b[1;33m.\u001b[0m\u001b[0mdfDeviceFlow\u001b[0m\u001b[1;33m\u001b[0m\u001b[1;33m\u001b[0m\u001b[0m\n",
      "\u001b[1;31mAttributeError\u001b[0m: 'SimulationResult' object has no attribute 'optimiser'"
     ]
    }
   ],
   "source": [
    "oogeso.plots.plot_SumPowerMix(res,\"el\")"
   ]
  },
  {
   "cell_type": "code",
   "execution_count": 66,
   "id": "08193333-9bae-4697-92ee-0ea1da1c3aa2",
   "metadata": {},
   "outputs": [
    {
     "name": "stdout",
     "output_type": "stream",
     "text": [
      "dfCO2intensity [None] <class 'pandas.core.series.Series'>\n",
      "dfCO2rate [None] <class 'pandas.core.series.Series'>\n",
      "dfCO2rate_per_dev [None] <class 'pandas.core.frame.DataFrame'>\n",
      "dfDeviceFlow ['device', 'carrier', 'terminal', 'time'] <class 'pandas.core.series.Series'>\n",
      "dfDeviceIsOn ['device', 'time'] <class 'pandas.core.series.Series'>\n",
      "dfDeviceIsPrep ['device', 'time'] <class 'pandas.core.series.Series'>\n",
      "dfDeviceStarting ['device', 'time'] <class 'pandas.core.series.Series'>\n",
      "dfDeviceStopping ['device', 'time'] <class 'pandas.core.series.Series'>\n",
      "dfDeviceStorageEnergy ['device', 'time'] <class 'pandas.core.series.Series'>\n",
      "dfDeviceStoragePmax ['device', 'time'] <class 'pandas.core.series.Series'>\n",
      "dfDuals -\n",
      "dfEdgeFlow ['edge', 'time'] <class 'pandas.core.series.Series'>\n",
      "dfEdgeLoss ['edge', 'time'] <class 'pandas.core.series.Series'>\n",
      "dfElBackup [None] <class 'pandas.core.frame.DataFrame'>\n",
      "dfElReserve [None] <class 'pandas.core.frame.DataFrame'>\n",
      "dfElVoltageAngle ['node', 'time'] <class 'pandas.core.series.Series'>\n",
      "dfExportRevenue [None] <class 'pandas.core.frame.DataFrame'>\n",
      "dfPenalty [None] <class 'pandas.core.frame.DataFrame'>\n",
      "dfTerminalFlow ['node', 'carrier', 'time'] <class 'pandas.core.series.Series'>\n",
      "dfTerminalPressure ['node', 'carrier', 'terminal', 'time'] <class 'pandas.core.series.Series'>\n",
      "df_profiles_forecast [None] <class 'pandas.core.frame.DataFrame'>\n",
      "df_profiles_nowcast [None] <class 'pandas.core.frame.DataFrame'>\n"
     ]
    }
   ],
   "source": [
    "for x in [a for a in dir(res) if a.startswith('df')]:\n",
    "    df=getattr(res,x)\n",
    "    if df is not None:\n",
    "        print(x, df.index.names, type(df))\n",
    "    else:\n",
    "        print(x, \"-\")"
   ]
  },
  {
   "cell_type": "code",
   "execution_count": 67,
   "id": "c844ba57-b860-40b2-b894-33ba2e990026",
   "metadata": {},
   "outputs": [
    {
     "data": {
      "text/html": [
       "<div>\n",
       "<style scoped>\n",
       "    .dataframe tbody tr th:only-of-type {\n",
       "        vertical-align: middle;\n",
       "    }\n",
       "\n",
       "    .dataframe tbody tr th {\n",
       "        vertical-align: top;\n",
       "    }\n",
       "\n",
       "    .dataframe thead th {\n",
       "        text-align: right;\n",
       "    }\n",
       "</style>\n",
       "<table border=\"1\" class=\"dataframe\">\n",
       "  <thead>\n",
       "    <tr style=\"text-align: right;\">\n",
       "      <th></th>\n",
       "      <th>source1</th>\n",
       "      <th>dem</th>\n",
       "    </tr>\n",
       "  </thead>\n",
       "  <tbody>\n",
       "    <tr>\n",
       "      <th>0</th>\n",
       "      <td>0.0</td>\n",
       "      <td>0.0</td>\n",
       "    </tr>\n",
       "    <tr>\n",
       "      <th>1</th>\n",
       "      <td>0.0</td>\n",
       "      <td>0.0</td>\n",
       "    </tr>\n",
       "    <tr>\n",
       "      <th>2</th>\n",
       "      <td>0.0</td>\n",
       "      <td>0.0</td>\n",
       "    </tr>\n",
       "    <tr>\n",
       "      <th>3</th>\n",
       "      <td>0.0</td>\n",
       "      <td>0.0</td>\n",
       "    </tr>\n",
       "  </tbody>\n",
       "</table>\n",
       "</div>"
      ],
      "text/plain": [
       "   source1  dem\n",
       "0      0.0  0.0\n",
       "1      0.0  0.0\n",
       "2      0.0  0.0\n",
       "3      0.0  0.0"
      ]
     },
     "execution_count": 67,
     "metadata": {},
     "output_type": "execute_result"
    }
   ],
   "source": [
    "res.dfCO2rate_per_dev"
   ]
  },
  {
   "cell_type": "code",
   "execution_count": 70,
   "id": "04e01632-62c7-4708-9950-459bf230ab26",
   "metadata": {},
   "outputs": [
    {
     "data": {
      "text/html": [
       "<div>\n",
       "<style scoped>\n",
       "    .dataframe tbody tr th:only-of-type {\n",
       "        vertical-align: middle;\n",
       "    }\n",
       "\n",
       "    .dataframe tbody tr th {\n",
       "        vertical-align: top;\n",
       "    }\n",
       "\n",
       "    .dataframe thead th {\n",
       "        text-align: right;\n",
       "    }\n",
       "</style>\n",
       "<table border=\"1\" class=\"dataframe\">\n",
       "  <thead>\n",
       "    <tr style=\"text-align: right;\">\n",
       "      <th></th>\n",
       "      <th></th>\n",
       "      <th></th>\n",
       "    </tr>\n",
       "    <tr>\n",
       "      <th>index</th>\n",
       "      <th>source1</th>\n",
       "      <th>dem</th>\n",
       "    </tr>\n",
       "  </thead>\n",
       "  <tbody>\n",
       "    <tr>\n",
       "      <th>0</th>\n",
       "      <th>0.0</th>\n",
       "      <th>0.0</th>\n",
       "    </tr>\n",
       "    <tr>\n",
       "      <th>1</th>\n",
       "      <th>0.0</th>\n",
       "      <th>0.0</th>\n",
       "    </tr>\n",
       "    <tr>\n",
       "      <th>2</th>\n",
       "      <th>0.0</th>\n",
       "      <th>0.0</th>\n",
       "    </tr>\n",
       "    <tr>\n",
       "      <th>3</th>\n",
       "      <th>0.0</th>\n",
       "      <th>0.0</th>\n",
       "    </tr>\n",
       "  </tbody>\n",
       "</table>\n",
       "</div>"
      ],
      "text/plain": [
       "Empty DataFrame\n",
       "Columns: []\n",
       "Index: [(0, 0.0, 0.0), (1, 0.0, 0.0), (2, 0.0, 0.0), (3, 0.0, 0.0)]"
      ]
     },
     "execution_count": 70,
     "metadata": {},
     "output_type": "execute_result"
    }
   ],
   "source": [
    "res2.dfCO2rate_per_dev"
   ]
  },
  {
   "cell_type": "code",
   "execution_count": null,
   "id": "f35e9afa-67d4-4184-aa6c-cca5e665301d",
   "metadata": {},
   "outputs": [],
   "source": []
  }
 ],
 "metadata": {
  "kernelspec": {
   "display_name": "Python 3 (ipykernel)",
   "language": "python",
   "name": "python3"
  },
  "language_info": {
   "codemirror_mode": {
    "name": "ipython",
    "version": 3
   },
   "file_extension": ".py",
   "mimetype": "text/x-python",
   "name": "python",
   "nbconvert_exporter": "python",
   "pygments_lexer": "ipython3",
   "version": "3.7.10"
  }
 },
 "nbformat": 4,
 "nbformat_minor": 5
}
