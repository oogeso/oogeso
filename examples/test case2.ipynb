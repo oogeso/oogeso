{
 "cells": [
  {
   "cell_type": "markdown",
   "metadata": {},
   "source": [
    "# Oogeso - test case 2\n",
    "Simple case for illustrating/testing the Oogeso model"
   ]
  },
  {
   "cell_type": "code",
   "execution_count": null,
   "metadata": {},
   "outputs": [],
   "source": [
    "%load_ext autoreload\n",
    "%autoreload 2\n",
    "import matplotlib.pyplot as plt\n",
    "import IPython\n",
    "import pyomo.environ as pyo\n",
    "import logging\n",
    "import pandas as pd\n",
    "import plotly.express as px\n",
    "import os\n",
    "import sys\n",
    "module_path = os.path.abspath(os.path.join('..'))\n",
    "if module_path not in sys.path:\n",
    "    sys.path.append(module_path)\n",
    "import oogeso\n",
    "#from oogeso import plots\n",
    "oogeso.plots.plotter='plotly'"
   ]
  },
  {
   "cell_type": "code",
   "execution_count": null,
   "metadata": {},
   "outputs": [],
   "source": [
    "data0 = oogeso.file_io.read_data_from_yaml('test case2.yaml')\n",
    "profiles = oogeso.file_io.read_profiles_from_xlsx('test case2 profiles.xlsx')\n",
    "store_duals = {\n",
    "    'elcost':{'constr':'constrDevicePmin','indx':('dem',None)},\n",
    "    #'wind': {'constr':'constrTerminalEnergyBalance','indx':('el','windfarm','out',None)},\n",
    "    }\n",
    "\n",
    "# MODIFY input data\n",
    "for dev in ['GT1','GT2']:\n",
    "    data0['paramDevice'][dev]['isOn_init'] = 1\n",
    "#data['paramParameters']['elReserveMargin'] = 0\n",
    "\n",
    "data = oogeso.file_io.create_initdata(data0)\n",
    "mc = oogeso.Multicarrier(loglevel=\"INFO\")\n",
    "mc.createModelInstance(data,profiles)"
   ]
  },
  {
   "cell_type": "code",
   "execution_count": null,
   "metadata": {},
   "outputs": [],
   "source": [
    "IPython.display.Image(oogeso.plots.plotNetwork(mc,timestep=None).create_png())"
   ]
  },
  {
   "cell_type": "code",
   "execution_count": null,
   "metadata": {},
   "outputs": [],
   "source": [
    "status = mc.solveMany(solver=\"cbc\",timerange=[0,90],write_yaml=False,\n",
    "                     store_duals=store_duals)"
   ]
  },
  {
   "cell_type": "code",
   "execution_count": null,
   "metadata": {},
   "outputs": [],
   "source": []
  },
  {
   "cell_type": "code",
   "execution_count": null,
   "metadata": {},
   "outputs": [],
   "source": [
    "#mc.instance.constrDevice_startup_delay._data['GT2',0].pprint()\n",
    "#mc.instance.constrDevice_startup_delay.clear()\n",
    "#mc.instance.constrDevice_startup_delay.construct()\n",
    "#mc.instance.constrDevice_startup_delay._data\n",
    "#mc.instance.constrDevice_startup_delay.reconstruct()\n",
    "mc.instance.constrTerminalEnergyBalance['el','node1','out',0].pprint()\n",
    "mc.instance.constrTerminalEnergyBalance['el','node1','in',0].pprint()\n",
    "#mc.instance.constrDevice_gasturbine.pprint()\n",
    "mc.instance.constrDevice_ramprate['GT2',1].pprint()\n",
    "\n",
    "#mc.instance.pprint()"
   ]
  },
  {
   "cell_type": "code",
   "execution_count": null,
   "metadata": {},
   "outputs": [],
   "source": [
    "gt='GT2'\n",
    "print(\"GT is on initially ={}\".format(pyo.value(mc.instance.paramDeviceIsOnInitially[gt])))\n",
    "print(\"GT timesteps in startup preparation = {}\".format(pyo.value(mc.instance.paramDevicePrepTimestepsInitially[gt])))\n",
    "for t in range(4):\n",
    "    cstr=mc.instance.constrDevice_startup_shutdown[gt,t]\n",
    "    print(\"t={}: {} = {}\".format(t,cstr.body,cstr.upper))\n",
    "for t in range(4):\n",
    "    cstr=mc.instance.constrDevice_startup_delay[gt,t]\n",
    "    print(\"t={}: {} = {}\".format(t,cstr.body,cstr.upper))\n",
    "for t in range(4):\n",
    "    cstr=mc.instance.constrDevicePmax[gt,t]\n",
    "    print(\"t={}: {} = {}\".format(t,cstr.body,cstr.upper))"
   ]
  },
  {
   "cell_type": "code",
   "execution_count": null,
   "metadata": {},
   "outputs": [],
   "source": [
    "dotG=oogeso.plots.plotNetwork(mc,timestep=15,filename=None)\n",
    "#IPython.display.SVG(dotG.create_svg()) #original size, vector graphics\n",
    "IPython.display.Image(dotG.create_png()) #scales automatically to page width"
   ]
  },
  {
   "cell_type": "code",
   "execution_count": null,
   "metadata": {},
   "outputs": [],
   "source": [
    "oogeso.plots.plot_SumPowerMix(mc,carrier=\"el\").show()"
   ]
  },
  {
   "cell_type": "code",
   "execution_count": null,
   "metadata": {},
   "outputs": [],
   "source": [
    "fig=px.line(mc._dfDuals,title=\"Specific cost, marginal cost, dual value\")\n",
    "cost_co2=mc.instance.paramParameters['co2_tax'] #NOK/kg\n",
    "gts=['GT1','GT2','GT3']\n",
    "# GTG specific cost (cost per power output)\n",
    "gtg_P=mc._dfDeviceFlow[:,'el','out',:].unstack('device')[gts] # MJ/s=MW\n",
    "gtg_co2=mc._dfCO2rate_per_dev[gts] # kg/s\n",
    "gtg_cost = cost_co2*gtg_co2/gtg_P # NOK/MJ\n",
    "gtg_avgcost = cost_co2*gtg_co2.sum(axis=1)/gtg_P.sum(axis=1) # NOK/kg x kg/s x 1/MW = NOK/MJ\n",
    "for col in gtg_cost:\n",
    "    fig.add_scatter(y=gtg_cost[col],x=gtg_cost.index, mode=\"lines\",name=col+' specific cost')\n",
    "fig.add_scatter(y=gtg_avgcost,x=gtg_avgcost.index, mode=\"lines\",name='Average GTG specific cost',\n",
    "                line={'dash':'dash'})\n",
    "\n",
    "# GTG marginal costs:\n",
    "for gt in gts:\n",
    "    fuelrate_per_power = (mc.instance.paramDevice[gt]['fuelA']\n",
    "                          /mc.instance.paramCarriers['gas']['energy_value']) #Sm3/MJ\n",
    "    costrate = (mc.instance.paramParameters['co2_tax']\n",
    "                *mc.instance.paramCarriers['gas']['CO2content']\n",
    "                *fuelrate_per_power) # kr/MJ\n",
    "    fig.add_scatter(y=[costrate,costrate],x=[gtg_avgcost.index[0],gtg_avgcost.index[-1]], \n",
    "                    mode=\"lines\",name=\"{} marginal cost\".format(gt))\n",
    "fig.update_xaxes(title_text='Timestep')\n",
    "fig.update_yaxes(title_text='Cost (NOK/MJ)')\n",
    "fig.show()"
   ]
  },
  {
   "cell_type": "code",
   "execution_count": null,
   "metadata": {},
   "outputs": [],
   "source": [
    "# Problem = isOn = isPrep, isStarting=0\n",
    "gt='GT2'\n",
    "dfStart=pd.concat([\n",
    "    mc._dfDeviceStarting[gt],\n",
    "    mc._dfDeviceIsPrep[gt],\n",
    "    mc._dfDeviceIsOn[gt],\n",
    "    mc._dfDeviceStopping[gt]],axis=1)\n",
    "dfStart.columns=['starting','prep','on','stopping']\n",
    "#dfStart[12:25]"
   ]
  },
  {
   "cell_type": "code",
   "execution_count": null,
   "metadata": {},
   "outputs": [],
   "source": [
    "#mc.instance.varDeviceIsPrep.pprint()"
   ]
  },
  {
   "cell_type": "code",
   "execution_count": null,
   "metadata": {},
   "outputs": [],
   "source": []
  },
  {
   "cell_type": "code",
   "execution_count": null,
   "metadata": {},
   "outputs": [],
   "source": [
    "oogeso.plots.plot_deviceprofile(mc,devs=['GT1','GT2','GT3'],includeOnOff=True,includePrep=True)"
   ]
  },
  {
   "cell_type": "code",
   "execution_count": null,
   "metadata": {},
   "outputs": [],
   "source": []
  },
  {
   "cell_type": "code",
   "execution_count": null,
   "metadata": {},
   "outputs": [],
   "source": [
    "#plots.plot_CO2rate(mc)\n",
    "oogeso.plots.plot_CO2rate_per_dev(mc)"
   ]
  },
  {
   "cell_type": "code",
   "execution_count": null,
   "metadata": {},
   "outputs": [],
   "source": [
    "oogeso.plots.plotReserve(mc)"
   ]
  },
  {
   "cell_type": "code",
   "execution_count": null,
   "metadata": {},
   "outputs": [],
   "source": [
    "oogeso.plots.plotElBackup(mc,showMargin=True)"
   ]
  },
  {
   "cell_type": "code",
   "execution_count": null,
   "metadata": {},
   "outputs": [],
   "source": []
  },
  {
   "cell_type": "code",
   "execution_count": null,
   "metadata": {},
   "outputs": [],
   "source": [
    "dfplot=mc._dfElReserve\n",
    "margin=mc.instance.paramParameters['elReserveMargin']\n",
    "x = [dfplot.index[0],dfplot.index[-1]]\n",
    "fig=px.line(dfplot,title=\"Reserve\")\n",
    "fig.add_scatter(x=x,y=[margin,margin],line=dict(dash='dot'),name=\"margin\",mode=\"lines\")\n",
    "fig.update_xaxes(title_text=\"Timestep\")\n",
    "fig.update_yaxes(title_text=\"Reserve power (MW)\",dtick = 5)\n",
    "fig.update_layout(autosize=False,width=800,height=300,margin=dict(l=0,r=0,t=30,b=0))"
   ]
  },
  {
   "cell_type": "code",
   "execution_count": null,
   "metadata": {},
   "outputs": [],
   "source": [
    "if 'battery' in mc.instance.setDevice:\n",
    "    fig=oogeso.plots.plot_devicePowerEnergy(mc,'battery',\n",
    "                                 filename=None)\n",
    "    fig.update_layout(autosize=False,width=800,height=300,margin=dict(l=0,r=0,t=30,b=0)).show()\n",
    "    print(\"Last optimisation scheduling:\")\n",
    "    oogeso.milp_plot.plotDevicePowerLastOptimisation1(mc,device='battery',\n",
    "                filename=None)"
   ]
  },
  {
   "cell_type": "code",
   "execution_count": null,
   "metadata": {},
   "outputs": [],
   "source": []
  }
 ],
 "metadata": {
  "kernelspec": {
   "display_name": "Python 3",
   "language": "python",
   "name": "python3"
  },
  "language_info": {
   "codemirror_mode": {
    "name": "ipython",
    "version": 3
   },
   "file_extension": ".py",
   "mimetype": "text/x-python",
   "name": "python",
   "nbconvert_exporter": "python",
   "pygments_lexer": "ipython3",
   "version": "3.7.4"
  },
  "widgets": {
   "application/vnd.jupyter.widget-state+json": {
    "state": {},
    "version_major": 2,
    "version_minor": 0
   }
  }
 },
 "nbformat": 4,
 "nbformat_minor": 4
}
