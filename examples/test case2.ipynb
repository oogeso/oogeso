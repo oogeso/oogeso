{
 "cells": [
  {
   "cell_type": "code",
   "execution_count": 83,
   "metadata": {},
   "outputs": [
    {
     "name": "stdout",
     "output_type": "stream",
     "text": [
      "The autoreload extension is already loaded. To reload it, use:\n",
      "  %reload_ext autoreload\n"
     ]
    }
   ],
   "source": [
    "%load_ext autoreload\n",
    "%autoreload 2\n",
    "from oogeso import multicarrier\n",
    "from oogeso import plots\n",
    "import matplotlib.pyplot as plt\n",
    "import IPython\n",
    "import pyomo.environ as pyo\n",
    "import logging\n",
    "plots.plotter='plotly'"
   ]
  },
  {
   "cell_type": "code",
   "execution_count": 91,
   "metadata": {},
   "outputs": [],
   "source": [
    "datafile = \"data_test2.xlsx\"\n",
    "data,profiles = multicarrier.read_data_from_xlsx(datafile)\n",
    "\n",
    "for dev in ['GT1','GT2']:\n",
    "    data['paramDeviceOnTimestepsInitially'][dev] = 10\n",
    "    data['paramDeviceIsOnInitially'][dev] = 1\n",
    "\n",
    "#plots.plotProfiles(profiles)"
   ]
  },
  {
   "cell_type": "code",
   "execution_count": 92,
   "metadata": {},
   "outputs": [
    {
     "name": "stderr",
     "output_type": "stream",
     "text": [
      "2020-11-03 12:44:29 INFO: TODO: objective function definition\n",
      "2020-11-03 12:44:29 INFO: TODO: separator power (eta) and heat (eta2) demand\n",
      "2020-11-03 12:44:29 INFO: TODO: gas turbine power vs heat output\n",
      "2020-11-03 12:44:29 INFO: TODO: startup cost\n",
      "2020-11-03 12:44:30 INFO: TODO: el source: dieselgen, fuel, on-off variables\n",
      "2020-11-03 12:44:30 INFO: TODO: liquid pump approximation ok?\n",
      "2020-11-03 12:44:30 INFO: TODO: startup delay does not work with Pmin>0\n",
      "2020-11-03 12:44:30 INFO:       -use of prevHasBeenOn does not work as intended\n",
      "2020-11-03 12:44:30 INFO: TODO: flow vs pressure equations for liquid flows\n",
      "2020-11-03 12:44:30 INFO: TODO: pressure deviation limits per node\n",
      "2020-11-03 12:44:30 INFO: TODO: Update Pmin constraint to allow GT startup delay\n",
      "2020-11-03 12:44:30 INFO: Valid elReserveMargin not defined -> no constraint\n"
     ]
    },
    {
     "data": {
      "text/plain": [
       "<pyomo.core.base.PyomoModel.ConcreteModel at 0x18bac92bae8>"
      ]
     },
     "execution_count": 92,
     "metadata": {},
     "output_type": "execute_result"
    }
   ],
   "source": [
    "mc = multicarrier.Multicarrier(loglevel=\"INFO\")\n",
    "mc.createModelInstance(data,profiles)"
   ]
  },
  {
   "cell_type": "code",
   "execution_count": 93,
   "metadata": {},
   "outputs": [
    {
     "name": "stderr",
     "output_type": "stream",
     "text": [
      "2020-11-03 12:44:30 INFO: Solving timestep=0\n"
     ]
    }
   ],
   "source": [
    "status = mc.solveMany(solver=\"cbc\",timerange=[0,1],write_yaml=False)"
   ]
  },
  {
   "cell_type": "code",
   "execution_count": 94,
   "metadata": {},
   "outputs": [
    {
     "name": "stdout",
     "output_type": "stream",
     "text": [
      "constrDevice_startup_delay : Size=270, Index=constrDevice_startup_delay_index, Active=True\n",
      "    Key            : Lower : Body                                                    : Upper : Active\n",
      "     ('GT1', 0, 0) :  -Inf :   varDeviceFlow[GT1,el,out,0] - 20*varDeviceIsOn[GT1,0] :   0.0 :   True\n",
      "     ('GT1', 1, 0) :  -Inf :   varDeviceFlow[GT1,el,out,1] - 20*varDeviceIsOn[GT1,1] :   0.0 :   True\n",
      "     ('GT1', 1, 1) :  -Inf :   varDeviceFlow[GT1,el,out,1] - 20*varDeviceIsOn[GT1,0] :   0.0 :   True\n",
      "     ('GT1', 2, 0) :  -Inf :   varDeviceFlow[GT1,el,out,2] - 20*varDeviceIsOn[GT1,2] :   0.0 :   True\n",
      "     ('GT1', 2, 1) :  -Inf :   varDeviceFlow[GT1,el,out,2] - 20*varDeviceIsOn[GT1,1] :   0.0 :   True\n",
      "     ('GT1', 2, 2) :  -Inf :   varDeviceFlow[GT1,el,out,2] - 20*varDeviceIsOn[GT1,0] :   0.0 :   True\n",
      "     ('GT1', 3, 0) :  -Inf :   varDeviceFlow[GT1,el,out,3] - 20*varDeviceIsOn[GT1,3] :   0.0 :   True\n",
      "     ('GT1', 3, 1) :  -Inf :   varDeviceFlow[GT1,el,out,3] - 20*varDeviceIsOn[GT1,2] :   0.0 :   True\n",
      "     ('GT1', 3, 2) :  -Inf :   varDeviceFlow[GT1,el,out,3] - 20*varDeviceIsOn[GT1,1] :   0.0 :   True\n",
      "     ('GT1', 3, 3) :  -Inf :   varDeviceFlow[GT1,el,out,3] - 20*varDeviceIsOn[GT1,0] :   0.0 :   True\n",
      "     ('GT1', 4, 0) :  -Inf :   varDeviceFlow[GT1,el,out,4] - 20*varDeviceIsOn[GT1,4] :   0.0 :   True\n",
      "     ('GT1', 4, 1) :  -Inf :   varDeviceFlow[GT1,el,out,4] - 20*varDeviceIsOn[GT1,3] :   0.0 :   True\n",
      "     ('GT1', 4, 2) :  -Inf :   varDeviceFlow[GT1,el,out,4] - 20*varDeviceIsOn[GT1,2] :   0.0 :   True\n",
      "     ('GT1', 4, 3) :  -Inf :   varDeviceFlow[GT1,el,out,4] - 20*varDeviceIsOn[GT1,1] :   0.0 :   True\n",
      "     ('GT1', 5, 0) :  -Inf :   varDeviceFlow[GT1,el,out,5] - 20*varDeviceIsOn[GT1,5] :   0.0 :   True\n",
      "     ('GT1', 5, 1) :  -Inf :   varDeviceFlow[GT1,el,out,5] - 20*varDeviceIsOn[GT1,4] :   0.0 :   True\n",
      "     ('GT1', 5, 2) :  -Inf :   varDeviceFlow[GT1,el,out,5] - 20*varDeviceIsOn[GT1,3] :   0.0 :   True\n",
      "     ('GT1', 5, 3) :  -Inf :   varDeviceFlow[GT1,el,out,5] - 20*varDeviceIsOn[GT1,2] :   0.0 :   True\n",
      "     ('GT1', 6, 0) :  -Inf :   varDeviceFlow[GT1,el,out,6] - 20*varDeviceIsOn[GT1,6] :   0.0 :   True\n",
      "     ('GT1', 6, 1) :  -Inf :   varDeviceFlow[GT1,el,out,6] - 20*varDeviceIsOn[GT1,5] :   0.0 :   True\n",
      "     ('GT1', 6, 2) :  -Inf :   varDeviceFlow[GT1,el,out,6] - 20*varDeviceIsOn[GT1,4] :   0.0 :   True\n",
      "     ('GT1', 6, 3) :  -Inf :   varDeviceFlow[GT1,el,out,6] - 20*varDeviceIsOn[GT1,3] :   0.0 :   True\n",
      "     ('GT1', 7, 0) :  -Inf :   varDeviceFlow[GT1,el,out,7] - 20*varDeviceIsOn[GT1,7] :   0.0 :   True\n",
      "     ('GT1', 7, 1) :  -Inf :   varDeviceFlow[GT1,el,out,7] - 20*varDeviceIsOn[GT1,6] :   0.0 :   True\n",
      "     ('GT1', 7, 2) :  -Inf :   varDeviceFlow[GT1,el,out,7] - 20*varDeviceIsOn[GT1,5] :   0.0 :   True\n",
      "     ('GT1', 7, 3) :  -Inf :   varDeviceFlow[GT1,el,out,7] - 20*varDeviceIsOn[GT1,4] :   0.0 :   True\n",
      "     ('GT1', 8, 0) :  -Inf :   varDeviceFlow[GT1,el,out,8] - 20*varDeviceIsOn[GT1,8] :   0.0 :   True\n",
      "     ('GT1', 8, 1) :  -Inf :   varDeviceFlow[GT1,el,out,8] - 20*varDeviceIsOn[GT1,7] :   0.0 :   True\n",
      "     ('GT1', 8, 2) :  -Inf :   varDeviceFlow[GT1,el,out,8] - 20*varDeviceIsOn[GT1,6] :   0.0 :   True\n",
      "     ('GT1', 8, 3) :  -Inf :   varDeviceFlow[GT1,el,out,8] - 20*varDeviceIsOn[GT1,5] :   0.0 :   True\n",
      "     ('GT1', 9, 0) :  -Inf :   varDeviceFlow[GT1,el,out,9] - 20*varDeviceIsOn[GT1,9] :   0.0 :   True\n",
      "     ('GT1', 9, 1) :  -Inf :   varDeviceFlow[GT1,el,out,9] - 20*varDeviceIsOn[GT1,8] :   0.0 :   True\n",
      "     ('GT1', 9, 2) :  -Inf :   varDeviceFlow[GT1,el,out,9] - 20*varDeviceIsOn[GT1,7] :   0.0 :   True\n",
      "     ('GT1', 9, 3) :  -Inf :   varDeviceFlow[GT1,el,out,9] - 20*varDeviceIsOn[GT1,6] :   0.0 :   True\n",
      "    ('GT1', 10, 0) :  -Inf : varDeviceFlow[GT1,el,out,10] - 20*varDeviceIsOn[GT1,10] :   0.0 :   True\n",
      "    ('GT1', 10, 1) :  -Inf :  varDeviceFlow[GT1,el,out,10] - 20*varDeviceIsOn[GT1,9] :   0.0 :   True\n",
      "    ('GT1', 10, 2) :  -Inf :  varDeviceFlow[GT1,el,out,10] - 20*varDeviceIsOn[GT1,8] :   0.0 :   True\n",
      "    ('GT1', 10, 3) :  -Inf :  varDeviceFlow[GT1,el,out,10] - 20*varDeviceIsOn[GT1,7] :   0.0 :   True\n",
      "    ('GT1', 11, 0) :  -Inf : varDeviceFlow[GT1,el,out,11] - 20*varDeviceIsOn[GT1,11] :   0.0 :   True\n",
      "    ('GT1', 11, 1) :  -Inf : varDeviceFlow[GT1,el,out,11] - 20*varDeviceIsOn[GT1,10] :   0.0 :   True\n",
      "    ('GT1', 11, 2) :  -Inf :  varDeviceFlow[GT1,el,out,11] - 20*varDeviceIsOn[GT1,9] :   0.0 :   True\n",
      "    ('GT1', 11, 3) :  -Inf :  varDeviceFlow[GT1,el,out,11] - 20*varDeviceIsOn[GT1,8] :   0.0 :   True\n",
      "    ('GT1', 12, 0) :  -Inf : varDeviceFlow[GT1,el,out,12] - 20*varDeviceIsOn[GT1,12] :   0.0 :   True\n",
      "    ('GT1', 12, 1) :  -Inf : varDeviceFlow[GT1,el,out,12] - 20*varDeviceIsOn[GT1,11] :   0.0 :   True\n",
      "    ('GT1', 12, 2) :  -Inf : varDeviceFlow[GT1,el,out,12] - 20*varDeviceIsOn[GT1,10] :   0.0 :   True\n",
      "    ('GT1', 12, 3) :  -Inf :  varDeviceFlow[GT1,el,out,12] - 20*varDeviceIsOn[GT1,9] :   0.0 :   True\n",
      "    ('GT1', 13, 0) :  -Inf : varDeviceFlow[GT1,el,out,13] - 20*varDeviceIsOn[GT1,13] :   0.0 :   True\n",
      "    ('GT1', 13, 1) :  -Inf : varDeviceFlow[GT1,el,out,13] - 20*varDeviceIsOn[GT1,12] :   0.0 :   True\n",
      "    ('GT1', 13, 2) :  -Inf : varDeviceFlow[GT1,el,out,13] - 20*varDeviceIsOn[GT1,11] :   0.0 :   True\n",
      "    ('GT1', 13, 3) :  -Inf : varDeviceFlow[GT1,el,out,13] - 20*varDeviceIsOn[GT1,10] :   0.0 :   True\n",
      "    ('GT1', 14, 0) :  -Inf : varDeviceFlow[GT1,el,out,14] - 20*varDeviceIsOn[GT1,14] :   0.0 :   True\n",
      "    ('GT1', 14, 1) :  -Inf : varDeviceFlow[GT1,el,out,14] - 20*varDeviceIsOn[GT1,13] :   0.0 :   True\n",
      "    ('GT1', 14, 2) :  -Inf : varDeviceFlow[GT1,el,out,14] - 20*varDeviceIsOn[GT1,12] :   0.0 :   True\n",
      "    ('GT1', 14, 3) :  -Inf : varDeviceFlow[GT1,el,out,14] - 20*varDeviceIsOn[GT1,11] :   0.0 :   True\n",
      "    ('GT1', 15, 0) :  -Inf : varDeviceFlow[GT1,el,out,15] - 20*varDeviceIsOn[GT1,15] :   0.0 :   True\n",
      "    ('GT1', 15, 1) :  -Inf : varDeviceFlow[GT1,el,out,15] - 20*varDeviceIsOn[GT1,14] :   0.0 :   True\n",
      "    ('GT1', 15, 2) :  -Inf : varDeviceFlow[GT1,el,out,15] - 20*varDeviceIsOn[GT1,13] :   0.0 :   True\n",
      "    ('GT1', 15, 3) :  -Inf : varDeviceFlow[GT1,el,out,15] - 20*varDeviceIsOn[GT1,12] :   0.0 :   True\n",
      "    ('GT1', 16, 0) :  -Inf : varDeviceFlow[GT1,el,out,16] - 20*varDeviceIsOn[GT1,16] :   0.0 :   True\n",
      "    ('GT1', 16, 1) :  -Inf : varDeviceFlow[GT1,el,out,16] - 20*varDeviceIsOn[GT1,15] :   0.0 :   True\n",
      "    ('GT1', 16, 2) :  -Inf : varDeviceFlow[GT1,el,out,16] - 20*varDeviceIsOn[GT1,14] :   0.0 :   True\n",
      "    ('GT1', 16, 3) :  -Inf : varDeviceFlow[GT1,el,out,16] - 20*varDeviceIsOn[GT1,13] :   0.0 :   True\n",
      "    ('GT1', 17, 0) :  -Inf : varDeviceFlow[GT1,el,out,17] - 20*varDeviceIsOn[GT1,17] :   0.0 :   True\n",
      "    ('GT1', 17, 1) :  -Inf : varDeviceFlow[GT1,el,out,17] - 20*varDeviceIsOn[GT1,16] :   0.0 :   True\n",
      "    ('GT1', 17, 2) :  -Inf : varDeviceFlow[GT1,el,out,17] - 20*varDeviceIsOn[GT1,15] :   0.0 :   True\n",
      "    ('GT1', 17, 3) :  -Inf : varDeviceFlow[GT1,el,out,17] - 20*varDeviceIsOn[GT1,14] :   0.0 :   True\n",
      "    ('GT1', 18, 0) :  -Inf : varDeviceFlow[GT1,el,out,18] - 20*varDeviceIsOn[GT1,18] :   0.0 :   True\n",
      "    ('GT1', 18, 1) :  -Inf : varDeviceFlow[GT1,el,out,18] - 20*varDeviceIsOn[GT1,17] :   0.0 :   True\n",
      "    ('GT1', 18, 2) :  -Inf : varDeviceFlow[GT1,el,out,18] - 20*varDeviceIsOn[GT1,16] :   0.0 :   True\n",
      "    ('GT1', 18, 3) :  -Inf : varDeviceFlow[GT1,el,out,18] - 20*varDeviceIsOn[GT1,15] :   0.0 :   True\n",
      "    ('GT1', 19, 0) :  -Inf : varDeviceFlow[GT1,el,out,19] - 20*varDeviceIsOn[GT1,19] :   0.0 :   True\n",
      "    ('GT1', 19, 1) :  -Inf : varDeviceFlow[GT1,el,out,19] - 20*varDeviceIsOn[GT1,18] :   0.0 :   True\n",
      "    ('GT1', 19, 2) :  -Inf : varDeviceFlow[GT1,el,out,19] - 20*varDeviceIsOn[GT1,17] :   0.0 :   True\n",
      "    ('GT1', 19, 3) :  -Inf : varDeviceFlow[GT1,el,out,19] - 20*varDeviceIsOn[GT1,16] :   0.0 :   True\n",
      "    ('GT1', 20, 0) :  -Inf : varDeviceFlow[GT1,el,out,20] - 20*varDeviceIsOn[GT1,20] :   0.0 :   True\n",
      "    ('GT1', 20, 1) :  -Inf : varDeviceFlow[GT1,el,out,20] - 20*varDeviceIsOn[GT1,19] :   0.0 :   True\n",
      "    ('GT1', 20, 2) :  -Inf : varDeviceFlow[GT1,el,out,20] - 20*varDeviceIsOn[GT1,18] :   0.0 :   True\n",
      "    ('GT1', 20, 3) :  -Inf : varDeviceFlow[GT1,el,out,20] - 20*varDeviceIsOn[GT1,17] :   0.0 :   True\n",
      "    ('GT1', 21, 0) :  -Inf : varDeviceFlow[GT1,el,out,21] - 20*varDeviceIsOn[GT1,21] :   0.0 :   True\n",
      "    ('GT1', 21, 1) :  -Inf : varDeviceFlow[GT1,el,out,21] - 20*varDeviceIsOn[GT1,20] :   0.0 :   True\n",
      "    ('GT1', 21, 2) :  -Inf : varDeviceFlow[GT1,el,out,21] - 20*varDeviceIsOn[GT1,19] :   0.0 :   True\n",
      "    ('GT1', 21, 3) :  -Inf : varDeviceFlow[GT1,el,out,21] - 20*varDeviceIsOn[GT1,18] :   0.0 :   True\n",
      "    ('GT1', 22, 0) :  -Inf : varDeviceFlow[GT1,el,out,22] - 20*varDeviceIsOn[GT1,22] :   0.0 :   True\n",
      "    ('GT1', 22, 1) :  -Inf : varDeviceFlow[GT1,el,out,22] - 20*varDeviceIsOn[GT1,21] :   0.0 :   True\n",
      "    ('GT1', 22, 2) :  -Inf : varDeviceFlow[GT1,el,out,22] - 20*varDeviceIsOn[GT1,20] :   0.0 :   True\n",
      "    ('GT1', 22, 3) :  -Inf : varDeviceFlow[GT1,el,out,22] - 20*varDeviceIsOn[GT1,19] :   0.0 :   True\n",
      "    ('GT1', 23, 0) :  -Inf : varDeviceFlow[GT1,el,out,23] - 20*varDeviceIsOn[GT1,23] :   0.0 :   True\n",
      "    ('GT1', 23, 1) :  -Inf : varDeviceFlow[GT1,el,out,23] - 20*varDeviceIsOn[GT1,22] :   0.0 :   True\n",
      "    ('GT1', 23, 2) :  -Inf : varDeviceFlow[GT1,el,out,23] - 20*varDeviceIsOn[GT1,21] :   0.0 :   True\n",
      "    ('GT1', 23, 3) :  -Inf : varDeviceFlow[GT1,el,out,23] - 20*varDeviceIsOn[GT1,20] :   0.0 :   True\n",
      "     ('GT2', 0, 0) :  -Inf :   varDeviceFlow[GT2,el,out,0] - 20*varDeviceIsOn[GT2,0] :   0.0 :   True\n",
      "     ('GT2', 1, 0) :  -Inf :   varDeviceFlow[GT2,el,out,1] - 20*varDeviceIsOn[GT2,1] :   0.0 :   True\n",
      "     ('GT2', 1, 1) :  -Inf :   varDeviceFlow[GT2,el,out,1] - 20*varDeviceIsOn[GT2,0] :   0.0 :   True\n",
      "     ('GT2', 2, 0) :  -Inf :   varDeviceFlow[GT2,el,out,2] - 20*varDeviceIsOn[GT2,2] :   0.0 :   True\n",
      "     ('GT2', 2, 1) :  -Inf :   varDeviceFlow[GT2,el,out,2] - 20*varDeviceIsOn[GT2,1] :   0.0 :   True\n",
      "     ('GT2', 2, 2) :  -Inf :   varDeviceFlow[GT2,el,out,2] - 20*varDeviceIsOn[GT2,0] :   0.0 :   True\n",
      "     ('GT2', 3, 0) :  -Inf :   varDeviceFlow[GT2,el,out,3] - 20*varDeviceIsOn[GT2,3] :   0.0 :   True\n",
      "     ('GT2', 3, 1) :  -Inf :   varDeviceFlow[GT2,el,out,3] - 20*varDeviceIsOn[GT2,2] :   0.0 :   True\n",
      "     ('GT2', 3, 2) :  -Inf :   varDeviceFlow[GT2,el,out,3] - 20*varDeviceIsOn[GT2,1] :   0.0 :   True\n",
      "     ('GT2', 3, 3) :  -Inf :   varDeviceFlow[GT2,el,out,3] - 20*varDeviceIsOn[GT2,0] :   0.0 :   True\n",
      "     ('GT2', 4, 0) :  -Inf :   varDeviceFlow[GT2,el,out,4] - 20*varDeviceIsOn[GT2,4] :   0.0 :   True\n",
      "     ('GT2', 4, 1) :  -Inf :   varDeviceFlow[GT2,el,out,4] - 20*varDeviceIsOn[GT2,3] :   0.0 :   True\n",
      "     ('GT2', 4, 2) :  -Inf :   varDeviceFlow[GT2,el,out,4] - 20*varDeviceIsOn[GT2,2] :   0.0 :   True\n",
      "     ('GT2', 4, 3) :  -Inf :   varDeviceFlow[GT2,el,out,4] - 20*varDeviceIsOn[GT2,1] :   0.0 :   True\n",
      "     ('GT2', 5, 0) :  -Inf :   varDeviceFlow[GT2,el,out,5] - 20*varDeviceIsOn[GT2,5] :   0.0 :   True\n",
      "     ('GT2', 5, 1) :  -Inf :   varDeviceFlow[GT2,el,out,5] - 20*varDeviceIsOn[GT2,4] :   0.0 :   True\n",
      "     ('GT2', 5, 2) :  -Inf :   varDeviceFlow[GT2,el,out,5] - 20*varDeviceIsOn[GT2,3] :   0.0 :   True\n",
      "     ('GT2', 5, 3) :  -Inf :   varDeviceFlow[GT2,el,out,5] - 20*varDeviceIsOn[GT2,2] :   0.0 :   True\n",
      "     ('GT2', 6, 0) :  -Inf :   varDeviceFlow[GT2,el,out,6] - 20*varDeviceIsOn[GT2,6] :   0.0 :   True\n",
      "     ('GT2', 6, 1) :  -Inf :   varDeviceFlow[GT2,el,out,6] - 20*varDeviceIsOn[GT2,5] :   0.0 :   True\n",
      "     ('GT2', 6, 2) :  -Inf :   varDeviceFlow[GT2,el,out,6] - 20*varDeviceIsOn[GT2,4] :   0.0 :   True\n",
      "     ('GT2', 6, 3) :  -Inf :   varDeviceFlow[GT2,el,out,6] - 20*varDeviceIsOn[GT2,3] :   0.0 :   True\n",
      "     ('GT2', 7, 0) :  -Inf :   varDeviceFlow[GT2,el,out,7] - 20*varDeviceIsOn[GT2,7] :   0.0 :   True\n",
      "     ('GT2', 7, 1) :  -Inf :   varDeviceFlow[GT2,el,out,7] - 20*varDeviceIsOn[GT2,6] :   0.0 :   True\n",
      "     ('GT2', 7, 2) :  -Inf :   varDeviceFlow[GT2,el,out,7] - 20*varDeviceIsOn[GT2,5] :   0.0 :   True\n",
      "     ('GT2', 7, 3) :  -Inf :   varDeviceFlow[GT2,el,out,7] - 20*varDeviceIsOn[GT2,4] :   0.0 :   True\n",
      "     ('GT2', 8, 0) :  -Inf :   varDeviceFlow[GT2,el,out,8] - 20*varDeviceIsOn[GT2,8] :   0.0 :   True\n",
      "     ('GT2', 8, 1) :  -Inf :   varDeviceFlow[GT2,el,out,8] - 20*varDeviceIsOn[GT2,7] :   0.0 :   True\n",
      "     ('GT2', 8, 2) :  -Inf :   varDeviceFlow[GT2,el,out,8] - 20*varDeviceIsOn[GT2,6] :   0.0 :   True\n",
      "     ('GT2', 8, 3) :  -Inf :   varDeviceFlow[GT2,el,out,8] - 20*varDeviceIsOn[GT2,5] :   0.0 :   True\n",
      "     ('GT2', 9, 0) :  -Inf :   varDeviceFlow[GT2,el,out,9] - 20*varDeviceIsOn[GT2,9] :   0.0 :   True\n",
      "     ('GT2', 9, 1) :  -Inf :   varDeviceFlow[GT2,el,out,9] - 20*varDeviceIsOn[GT2,8] :   0.0 :   True\n",
      "     ('GT2', 9, 2) :  -Inf :   varDeviceFlow[GT2,el,out,9] - 20*varDeviceIsOn[GT2,7] :   0.0 :   True\n",
      "     ('GT2', 9, 3) :  -Inf :   varDeviceFlow[GT2,el,out,9] - 20*varDeviceIsOn[GT2,6] :   0.0 :   True\n",
      "    ('GT2', 10, 0) :  -Inf : varDeviceFlow[GT2,el,out,10] - 20*varDeviceIsOn[GT2,10] :   0.0 :   True\n",
      "    ('GT2', 10, 1) :  -Inf :  varDeviceFlow[GT2,el,out,10] - 20*varDeviceIsOn[GT2,9] :   0.0 :   True\n",
      "    ('GT2', 10, 2) :  -Inf :  varDeviceFlow[GT2,el,out,10] - 20*varDeviceIsOn[GT2,8] :   0.0 :   True\n",
      "    ('GT2', 10, 3) :  -Inf :  varDeviceFlow[GT2,el,out,10] - 20*varDeviceIsOn[GT2,7] :   0.0 :   True\n",
      "    ('GT2', 11, 0) :  -Inf : varDeviceFlow[GT2,el,out,11] - 20*varDeviceIsOn[GT2,11] :   0.0 :   True\n",
      "    ('GT2', 11, 1) :  -Inf : varDeviceFlow[GT2,el,out,11] - 20*varDeviceIsOn[GT2,10] :   0.0 :   True\n",
      "    ('GT2', 11, 2) :  -Inf :  varDeviceFlow[GT2,el,out,11] - 20*varDeviceIsOn[GT2,9] :   0.0 :   True\n",
      "    ('GT2', 11, 3) :  -Inf :  varDeviceFlow[GT2,el,out,11] - 20*varDeviceIsOn[GT2,8] :   0.0 :   True\n",
      "    ('GT2', 12, 0) :  -Inf : varDeviceFlow[GT2,el,out,12] - 20*varDeviceIsOn[GT2,12] :   0.0 :   True\n",
      "    ('GT2', 12, 1) :  -Inf : varDeviceFlow[GT2,el,out,12] - 20*varDeviceIsOn[GT2,11] :   0.0 :   True\n",
      "    ('GT2', 12, 2) :  -Inf : varDeviceFlow[GT2,el,out,12] - 20*varDeviceIsOn[GT2,10] :   0.0 :   True\n",
      "    ('GT2', 12, 3) :  -Inf :  varDeviceFlow[GT2,el,out,12] - 20*varDeviceIsOn[GT2,9] :   0.0 :   True\n",
      "    ('GT2', 13, 0) :  -Inf : varDeviceFlow[GT2,el,out,13] - 20*varDeviceIsOn[GT2,13] :   0.0 :   True\n",
      "    ('GT2', 13, 1) :  -Inf : varDeviceFlow[GT2,el,out,13] - 20*varDeviceIsOn[GT2,12] :   0.0 :   True\n",
      "    ('GT2', 13, 2) :  -Inf : varDeviceFlow[GT2,el,out,13] - 20*varDeviceIsOn[GT2,11] :   0.0 :   True\n",
      "    ('GT2', 13, 3) :  -Inf : varDeviceFlow[GT2,el,out,13] - 20*varDeviceIsOn[GT2,10] :   0.0 :   True\n",
      "    ('GT2', 14, 0) :  -Inf : varDeviceFlow[GT2,el,out,14] - 20*varDeviceIsOn[GT2,14] :   0.0 :   True\n",
      "    ('GT2', 14, 1) :  -Inf : varDeviceFlow[GT2,el,out,14] - 20*varDeviceIsOn[GT2,13] :   0.0 :   True\n",
      "    ('GT2', 14, 2) :  -Inf : varDeviceFlow[GT2,el,out,14] - 20*varDeviceIsOn[GT2,12] :   0.0 :   True\n",
      "    ('GT2', 14, 3) :  -Inf : varDeviceFlow[GT2,el,out,14] - 20*varDeviceIsOn[GT2,11] :   0.0 :   True\n",
      "    ('GT2', 15, 0) :  -Inf : varDeviceFlow[GT2,el,out,15] - 20*varDeviceIsOn[GT2,15] :   0.0 :   True\n",
      "    ('GT2', 15, 1) :  -Inf : varDeviceFlow[GT2,el,out,15] - 20*varDeviceIsOn[GT2,14] :   0.0 :   True\n",
      "    ('GT2', 15, 2) :  -Inf : varDeviceFlow[GT2,el,out,15] - 20*varDeviceIsOn[GT2,13] :   0.0 :   True\n",
      "    ('GT2', 15, 3) :  -Inf : varDeviceFlow[GT2,el,out,15] - 20*varDeviceIsOn[GT2,12] :   0.0 :   True\n",
      "    ('GT2', 16, 0) :  -Inf : varDeviceFlow[GT2,el,out,16] - 20*varDeviceIsOn[GT2,16] :   0.0 :   True\n",
      "    ('GT2', 16, 1) :  -Inf : varDeviceFlow[GT2,el,out,16] - 20*varDeviceIsOn[GT2,15] :   0.0 :   True\n",
      "    ('GT2', 16, 2) :  -Inf : varDeviceFlow[GT2,el,out,16] - 20*varDeviceIsOn[GT2,14] :   0.0 :   True\n",
      "    ('GT2', 16, 3) :  -Inf : varDeviceFlow[GT2,el,out,16] - 20*varDeviceIsOn[GT2,13] :   0.0 :   True\n",
      "    ('GT2', 17, 0) :  -Inf : varDeviceFlow[GT2,el,out,17] - 20*varDeviceIsOn[GT2,17] :   0.0 :   True\n",
      "    ('GT2', 17, 1) :  -Inf : varDeviceFlow[GT2,el,out,17] - 20*varDeviceIsOn[GT2,16] :   0.0 :   True\n",
      "    ('GT2', 17, 2) :  -Inf : varDeviceFlow[GT2,el,out,17] - 20*varDeviceIsOn[GT2,15] :   0.0 :   True\n",
      "    ('GT2', 17, 3) :  -Inf : varDeviceFlow[GT2,el,out,17] - 20*varDeviceIsOn[GT2,14] :   0.0 :   True\n",
      "    ('GT2', 18, 0) :  -Inf : varDeviceFlow[GT2,el,out,18] - 20*varDeviceIsOn[GT2,18] :   0.0 :   True\n",
      "    ('GT2', 18, 1) :  -Inf : varDeviceFlow[GT2,el,out,18] - 20*varDeviceIsOn[GT2,17] :   0.0 :   True\n",
      "    ('GT2', 18, 2) :  -Inf : varDeviceFlow[GT2,el,out,18] - 20*varDeviceIsOn[GT2,16] :   0.0 :   True\n",
      "    ('GT2', 18, 3) :  -Inf : varDeviceFlow[GT2,el,out,18] - 20*varDeviceIsOn[GT2,15] :   0.0 :   True\n",
      "    ('GT2', 19, 0) :  -Inf : varDeviceFlow[GT2,el,out,19] - 20*varDeviceIsOn[GT2,19] :   0.0 :   True\n",
      "    ('GT2', 19, 1) :  -Inf : varDeviceFlow[GT2,el,out,19] - 20*varDeviceIsOn[GT2,18] :   0.0 :   True\n",
      "    ('GT2', 19, 2) :  -Inf : varDeviceFlow[GT2,el,out,19] - 20*varDeviceIsOn[GT2,17] :   0.0 :   True\n",
      "    ('GT2', 19, 3) :  -Inf : varDeviceFlow[GT2,el,out,19] - 20*varDeviceIsOn[GT2,16] :   0.0 :   True\n",
      "    ('GT2', 20, 0) :  -Inf : varDeviceFlow[GT2,el,out,20] - 20*varDeviceIsOn[GT2,20] :   0.0 :   True\n",
      "    ('GT2', 20, 1) :  -Inf : varDeviceFlow[GT2,el,out,20] - 20*varDeviceIsOn[GT2,19] :   0.0 :   True\n",
      "    ('GT2', 20, 2) :  -Inf : varDeviceFlow[GT2,el,out,20] - 20*varDeviceIsOn[GT2,18] :   0.0 :   True\n",
      "    ('GT2', 20, 3) :  -Inf : varDeviceFlow[GT2,el,out,20] - 20*varDeviceIsOn[GT2,17] :   0.0 :   True\n",
      "    ('GT2', 21, 0) :  -Inf : varDeviceFlow[GT2,el,out,21] - 20*varDeviceIsOn[GT2,21] :   0.0 :   True\n",
      "    ('GT2', 21, 1) :  -Inf : varDeviceFlow[GT2,el,out,21] - 20*varDeviceIsOn[GT2,20] :   0.0 :   True\n",
      "    ('GT2', 21, 2) :  -Inf : varDeviceFlow[GT2,el,out,21] - 20*varDeviceIsOn[GT2,19] :   0.0 :   True\n",
      "    ('GT2', 21, 3) :  -Inf : varDeviceFlow[GT2,el,out,21] - 20*varDeviceIsOn[GT2,18] :   0.0 :   True\n",
      "    ('GT2', 22, 0) :  -Inf : varDeviceFlow[GT2,el,out,22] - 20*varDeviceIsOn[GT2,22] :   0.0 :   True\n",
      "    ('GT2', 22, 1) :  -Inf : varDeviceFlow[GT2,el,out,22] - 20*varDeviceIsOn[GT2,21] :   0.0 :   True\n",
      "    ('GT2', 22, 2) :  -Inf : varDeviceFlow[GT2,el,out,22] - 20*varDeviceIsOn[GT2,20] :   0.0 :   True\n",
      "    ('GT2', 22, 3) :  -Inf : varDeviceFlow[GT2,el,out,22] - 20*varDeviceIsOn[GT2,19] :   0.0 :   True\n",
      "    ('GT2', 23, 0) :  -Inf : varDeviceFlow[GT2,el,out,23] - 20*varDeviceIsOn[GT2,23] :   0.0 :   True\n",
      "    ('GT2', 23, 1) :  -Inf : varDeviceFlow[GT2,el,out,23] - 20*varDeviceIsOn[GT2,22] :   0.0 :   True\n",
      "    ('GT2', 23, 2) :  -Inf : varDeviceFlow[GT2,el,out,23] - 20*varDeviceIsOn[GT2,21] :   0.0 :   True\n",
      "    ('GT2', 23, 3) :  -Inf : varDeviceFlow[GT2,el,out,23] - 20*varDeviceIsOn[GT2,20] :   0.0 :   True\n",
      "     ('GT3', 0, 0) :  -Inf :                             varDeviceFlow[GT3,el,out,0] :   0.0 :   True\n",
      "     ('GT3', 1, 0) :  -Inf :                             varDeviceFlow[GT3,el,out,1] :   0.0 :   True\n",
      "     ('GT3', 1, 1) :  -Inf :                             varDeviceFlow[GT3,el,out,1] :   0.0 :   True\n",
      "     ('GT3', 2, 0) :  -Inf :                             varDeviceFlow[GT3,el,out,2] :   0.0 :   True\n",
      "     ('GT3', 2, 1) :  -Inf :                             varDeviceFlow[GT3,el,out,2] :   0.0 :   True\n",
      "     ('GT3', 2, 2) :  -Inf :                             varDeviceFlow[GT3,el,out,2] :   0.0 :   True\n",
      "     ('GT3', 3, 0) :  -Inf :                             varDeviceFlow[GT3,el,out,3] :   0.0 :   True\n",
      "     ('GT3', 3, 1) :  -Inf :                             varDeviceFlow[GT3,el,out,3] :   0.0 :   True\n",
      "     ('GT3', 3, 2) :  -Inf :                             varDeviceFlow[GT3,el,out,3] :   0.0 :   True\n",
      "     ('GT3', 3, 3) :  -Inf :                             varDeviceFlow[GT3,el,out,3] :   0.0 :   True\n",
      "     ('GT3', 4, 0) :  -Inf :   varDeviceFlow[GT3,el,out,4] - 20*varDeviceIsOn[GT3,4] :   0.0 :   True\n",
      "     ('GT3', 4, 1) :  -Inf :   varDeviceFlow[GT3,el,out,4] - 20*varDeviceIsOn[GT3,3] :   0.0 :   True\n",
      "     ('GT3', 4, 2) :  -Inf :   varDeviceFlow[GT3,el,out,4] - 20*varDeviceIsOn[GT3,2] :   0.0 :   True\n",
      "     ('GT3', 4, 3) :  -Inf :   varDeviceFlow[GT3,el,out,4] - 20*varDeviceIsOn[GT3,1] :   0.0 :   True\n",
      "     ('GT3', 5, 0) :  -Inf :   varDeviceFlow[GT3,el,out,5] - 20*varDeviceIsOn[GT3,5] :   0.0 :   True\n",
      "     ('GT3', 5, 1) :  -Inf :   varDeviceFlow[GT3,el,out,5] - 20*varDeviceIsOn[GT3,4] :   0.0 :   True\n",
      "     ('GT3', 5, 2) :  -Inf :   varDeviceFlow[GT3,el,out,5] - 20*varDeviceIsOn[GT3,3] :   0.0 :   True\n",
      "     ('GT3', 5, 3) :  -Inf :   varDeviceFlow[GT3,el,out,5] - 20*varDeviceIsOn[GT3,2] :   0.0 :   True\n",
      "     ('GT3', 6, 0) :  -Inf :   varDeviceFlow[GT3,el,out,6] - 20*varDeviceIsOn[GT3,6] :   0.0 :   True\n",
      "     ('GT3', 6, 1) :  -Inf :   varDeviceFlow[GT3,el,out,6] - 20*varDeviceIsOn[GT3,5] :   0.0 :   True\n",
      "     ('GT3', 6, 2) :  -Inf :   varDeviceFlow[GT3,el,out,6] - 20*varDeviceIsOn[GT3,4] :   0.0 :   True\n",
      "     ('GT3', 6, 3) :  -Inf :   varDeviceFlow[GT3,el,out,6] - 20*varDeviceIsOn[GT3,3] :   0.0 :   True\n",
      "     ('GT3', 7, 0) :  -Inf :   varDeviceFlow[GT3,el,out,7] - 20*varDeviceIsOn[GT3,7] :   0.0 :   True\n",
      "     ('GT3', 7, 1) :  -Inf :   varDeviceFlow[GT3,el,out,7] - 20*varDeviceIsOn[GT3,6] :   0.0 :   True\n",
      "     ('GT3', 7, 2) :  -Inf :   varDeviceFlow[GT3,el,out,7] - 20*varDeviceIsOn[GT3,5] :   0.0 :   True\n",
      "     ('GT3', 7, 3) :  -Inf :   varDeviceFlow[GT3,el,out,7] - 20*varDeviceIsOn[GT3,4] :   0.0 :   True\n",
      "     ('GT3', 8, 0) :  -Inf :   varDeviceFlow[GT3,el,out,8] - 20*varDeviceIsOn[GT3,8] :   0.0 :   True\n",
      "     ('GT3', 8, 1) :  -Inf :   varDeviceFlow[GT3,el,out,8] - 20*varDeviceIsOn[GT3,7] :   0.0 :   True\n",
      "     ('GT3', 8, 2) :  -Inf :   varDeviceFlow[GT3,el,out,8] - 20*varDeviceIsOn[GT3,6] :   0.0 :   True\n",
      "     ('GT3', 8, 3) :  -Inf :   varDeviceFlow[GT3,el,out,8] - 20*varDeviceIsOn[GT3,5] :   0.0 :   True\n",
      "     ('GT3', 9, 0) :  -Inf :   varDeviceFlow[GT3,el,out,9] - 20*varDeviceIsOn[GT3,9] :   0.0 :   True\n",
      "     ('GT3', 9, 1) :  -Inf :   varDeviceFlow[GT3,el,out,9] - 20*varDeviceIsOn[GT3,8] :   0.0 :   True\n",
      "     ('GT3', 9, 2) :  -Inf :   varDeviceFlow[GT3,el,out,9] - 20*varDeviceIsOn[GT3,7] :   0.0 :   True\n",
      "     ('GT3', 9, 3) :  -Inf :   varDeviceFlow[GT3,el,out,9] - 20*varDeviceIsOn[GT3,6] :   0.0 :   True\n",
      "    ('GT3', 10, 0) :  -Inf : varDeviceFlow[GT3,el,out,10] - 20*varDeviceIsOn[GT3,10] :   0.0 :   True\n",
      "    ('GT3', 10, 1) :  -Inf :  varDeviceFlow[GT3,el,out,10] - 20*varDeviceIsOn[GT3,9] :   0.0 :   True\n",
      "    ('GT3', 10, 2) :  -Inf :  varDeviceFlow[GT3,el,out,10] - 20*varDeviceIsOn[GT3,8] :   0.0 :   True\n",
      "    ('GT3', 10, 3) :  -Inf :  varDeviceFlow[GT3,el,out,10] - 20*varDeviceIsOn[GT3,7] :   0.0 :   True\n",
      "    ('GT3', 11, 0) :  -Inf : varDeviceFlow[GT3,el,out,11] - 20*varDeviceIsOn[GT3,11] :   0.0 :   True\n",
      "    ('GT3', 11, 1) :  -Inf : varDeviceFlow[GT3,el,out,11] - 20*varDeviceIsOn[GT3,10] :   0.0 :   True\n",
      "    ('GT3', 11, 2) :  -Inf :  varDeviceFlow[GT3,el,out,11] - 20*varDeviceIsOn[GT3,9] :   0.0 :   True\n",
      "    ('GT3', 11, 3) :  -Inf :  varDeviceFlow[GT3,el,out,11] - 20*varDeviceIsOn[GT3,8] :   0.0 :   True\n",
      "    ('GT3', 12, 0) :  -Inf : varDeviceFlow[GT3,el,out,12] - 20*varDeviceIsOn[GT3,12] :   0.0 :   True\n",
      "    ('GT3', 12, 1) :  -Inf : varDeviceFlow[GT3,el,out,12] - 20*varDeviceIsOn[GT3,11] :   0.0 :   True\n",
      "    ('GT3', 12, 2) :  -Inf : varDeviceFlow[GT3,el,out,12] - 20*varDeviceIsOn[GT3,10] :   0.0 :   True\n",
      "    ('GT3', 12, 3) :  -Inf :  varDeviceFlow[GT3,el,out,12] - 20*varDeviceIsOn[GT3,9] :   0.0 :   True\n",
      "    ('GT3', 13, 0) :  -Inf : varDeviceFlow[GT3,el,out,13] - 20*varDeviceIsOn[GT3,13] :   0.0 :   True\n",
      "    ('GT3', 13, 1) :  -Inf : varDeviceFlow[GT3,el,out,13] - 20*varDeviceIsOn[GT3,12] :   0.0 :   True\n",
      "    ('GT3', 13, 2) :  -Inf : varDeviceFlow[GT3,el,out,13] - 20*varDeviceIsOn[GT3,11] :   0.0 :   True\n",
      "    ('GT3', 13, 3) :  -Inf : varDeviceFlow[GT3,el,out,13] - 20*varDeviceIsOn[GT3,10] :   0.0 :   True\n",
      "    ('GT3', 14, 0) :  -Inf : varDeviceFlow[GT3,el,out,14] - 20*varDeviceIsOn[GT3,14] :   0.0 :   True\n",
      "    ('GT3', 14, 1) :  -Inf : varDeviceFlow[GT3,el,out,14] - 20*varDeviceIsOn[GT3,13] :   0.0 :   True\n",
      "    ('GT3', 14, 2) :  -Inf : varDeviceFlow[GT3,el,out,14] - 20*varDeviceIsOn[GT3,12] :   0.0 :   True\n",
      "    ('GT3', 14, 3) :  -Inf : varDeviceFlow[GT3,el,out,14] - 20*varDeviceIsOn[GT3,11] :   0.0 :   True\n",
      "    ('GT3', 15, 0) :  -Inf : varDeviceFlow[GT3,el,out,15] - 20*varDeviceIsOn[GT3,15] :   0.0 :   True\n",
      "    ('GT3', 15, 1) :  -Inf : varDeviceFlow[GT3,el,out,15] - 20*varDeviceIsOn[GT3,14] :   0.0 :   True\n",
      "    ('GT3', 15, 2) :  -Inf : varDeviceFlow[GT3,el,out,15] - 20*varDeviceIsOn[GT3,13] :   0.0 :   True\n",
      "    ('GT3', 15, 3) :  -Inf : varDeviceFlow[GT3,el,out,15] - 20*varDeviceIsOn[GT3,12] :   0.0 :   True\n",
      "    ('GT3', 16, 0) :  -Inf : varDeviceFlow[GT3,el,out,16] - 20*varDeviceIsOn[GT3,16] :   0.0 :   True\n",
      "    ('GT3', 16, 1) :  -Inf : varDeviceFlow[GT3,el,out,16] - 20*varDeviceIsOn[GT3,15] :   0.0 :   True\n",
      "    ('GT3', 16, 2) :  -Inf : varDeviceFlow[GT3,el,out,16] - 20*varDeviceIsOn[GT3,14] :   0.0 :   True\n",
      "    ('GT3', 16, 3) :  -Inf : varDeviceFlow[GT3,el,out,16] - 20*varDeviceIsOn[GT3,13] :   0.0 :   True\n",
      "    ('GT3', 17, 0) :  -Inf : varDeviceFlow[GT3,el,out,17] - 20*varDeviceIsOn[GT3,17] :   0.0 :   True\n",
      "    ('GT3', 17, 1) :  -Inf : varDeviceFlow[GT3,el,out,17] - 20*varDeviceIsOn[GT3,16] :   0.0 :   True\n",
      "    ('GT3', 17, 2) :  -Inf : varDeviceFlow[GT3,el,out,17] - 20*varDeviceIsOn[GT3,15] :   0.0 :   True\n",
      "    ('GT3', 17, 3) :  -Inf : varDeviceFlow[GT3,el,out,17] - 20*varDeviceIsOn[GT3,14] :   0.0 :   True\n",
      "    ('GT3', 18, 0) :  -Inf : varDeviceFlow[GT3,el,out,18] - 20*varDeviceIsOn[GT3,18] :   0.0 :   True\n",
      "    ('GT3', 18, 1) :  -Inf : varDeviceFlow[GT3,el,out,18] - 20*varDeviceIsOn[GT3,17] :   0.0 :   True\n",
      "    ('GT3', 18, 2) :  -Inf : varDeviceFlow[GT3,el,out,18] - 20*varDeviceIsOn[GT3,16] :   0.0 :   True\n",
      "    ('GT3', 18, 3) :  -Inf : varDeviceFlow[GT3,el,out,18] - 20*varDeviceIsOn[GT3,15] :   0.0 :   True\n",
      "    ('GT3', 19, 0) :  -Inf : varDeviceFlow[GT3,el,out,19] - 20*varDeviceIsOn[GT3,19] :   0.0 :   True\n",
      "    ('GT3', 19, 1) :  -Inf : varDeviceFlow[GT3,el,out,19] - 20*varDeviceIsOn[GT3,18] :   0.0 :   True\n",
      "    ('GT3', 19, 2) :  -Inf : varDeviceFlow[GT3,el,out,19] - 20*varDeviceIsOn[GT3,17] :   0.0 :   True\n",
      "    ('GT3', 19, 3) :  -Inf : varDeviceFlow[GT3,el,out,19] - 20*varDeviceIsOn[GT3,16] :   0.0 :   True\n",
      "    ('GT3', 20, 0) :  -Inf : varDeviceFlow[GT3,el,out,20] - 20*varDeviceIsOn[GT3,20] :   0.0 :   True\n",
      "    ('GT3', 20, 1) :  -Inf : varDeviceFlow[GT3,el,out,20] - 20*varDeviceIsOn[GT3,19] :   0.0 :   True\n",
      "    ('GT3', 20, 2) :  -Inf : varDeviceFlow[GT3,el,out,20] - 20*varDeviceIsOn[GT3,18] :   0.0 :   True\n",
      "    ('GT3', 20, 3) :  -Inf : varDeviceFlow[GT3,el,out,20] - 20*varDeviceIsOn[GT3,17] :   0.0 :   True\n",
      "    ('GT3', 21, 0) :  -Inf : varDeviceFlow[GT3,el,out,21] - 20*varDeviceIsOn[GT3,21] :   0.0 :   True\n",
      "    ('GT3', 21, 1) :  -Inf : varDeviceFlow[GT3,el,out,21] - 20*varDeviceIsOn[GT3,20] :   0.0 :   True\n",
      "    ('GT3', 21, 2) :  -Inf : varDeviceFlow[GT3,el,out,21] - 20*varDeviceIsOn[GT3,19] :   0.0 :   True\n",
      "    ('GT3', 21, 3) :  -Inf : varDeviceFlow[GT3,el,out,21] - 20*varDeviceIsOn[GT3,18] :   0.0 :   True\n",
      "    ('GT3', 22, 0) :  -Inf : varDeviceFlow[GT3,el,out,22] - 20*varDeviceIsOn[GT3,22] :   0.0 :   True\n",
      "    ('GT3', 22, 1) :  -Inf : varDeviceFlow[GT3,el,out,22] - 20*varDeviceIsOn[GT3,21] :   0.0 :   True\n",
      "    ('GT3', 22, 2) :  -Inf : varDeviceFlow[GT3,el,out,22] - 20*varDeviceIsOn[GT3,20] :   0.0 :   True\n",
      "    ('GT3', 22, 3) :  -Inf : varDeviceFlow[GT3,el,out,22] - 20*varDeviceIsOn[GT3,19] :   0.0 :   True\n",
      "    ('GT3', 23, 0) :  -Inf : varDeviceFlow[GT3,el,out,23] - 20*varDeviceIsOn[GT3,23] :   0.0 :   True\n",
      "    ('GT3', 23, 1) :  -Inf : varDeviceFlow[GT3,el,out,23] - 20*varDeviceIsOn[GT3,22] :   0.0 :   True\n",
      "    ('GT3', 23, 2) :  -Inf : varDeviceFlow[GT3,el,out,23] - 20*varDeviceIsOn[GT3,21] :   0.0 :   True\n",
      "    ('GT3', 23, 3) :  -Inf : varDeviceFlow[GT3,el,out,23] - 20*varDeviceIsOn[GT3,20] :   0.0 :   True\n"
     ]
    }
   ],
   "source": [
    "mc.instance.constrDevice_startup_delay.pprint()"
   ]
  },
  {
   "cell_type": "code",
   "execution_count": 42,
   "metadata": {},
   "outputs": [
    {
     "data": {
      "image/png": "[encoded data removed]",
      "text/plain": [
       "<IPython.core.display.Image object>"
      ]
     },
     "execution_count": 42,
     "metadata": {},
     "output_type": "execute_result"
    }
   ],
   "source": [
    "dotG=plots.plotNetwork(mc,timestep=None,filename=None)\n",
    "#IPython.display.SVG(dotG.create_svg()) #original size, vector graphics\n",
    "IPython.display.Image(dotG.create_png()) #scales automatically to page width"
   ]
  },
  {
   "cell_type": "code",
   "execution_count": 37,
   "metadata": {},
   "outputs": [
    {
     "data": {
      "application/vnd.plotly.v1+json": {
       "config": {
        "plotlyServerURL": "https://plot.ly"
       },
       "data": [
        {
         "legendgroup": "dem",
         "line": {
          "shape": "hv"
         },
         "name": "in:dem",
         "stackgroup": "in",
         "type": "scatter",
         "xaxis": "x2",
         "y": [
          50,
          50,
          50,
          50,
          50,
          50,
          50,
          50,
          50,
          50,
          50,
          50,
          50,
          50,
          50,
          50,
          50,
          50,
          50,
          50,
          50,
          50,
          50,
          50,
          50,
          50,
          50,
          50,
          50,
          50,
          50,
          50
         ],
         "yaxis": "y2"
        },
        {
         "legendgroup": "GT1",
         "line": {
          "shape": "hv"
         },
         "name": "out:GT1",
         "stackgroup": "out",
         "type": "scatter",
         "xaxis": "x",
         "y": [
          5,
          5,
          5,
          5,
          5,
          5,
          5,
          5,
          5,
          5,
          5,
          6,
          7,
          8,
          9,
          10,
          5,
          5,
          5,
          9,
          5,
          5,
          12,
          13,
          5,
          15,
          5,
          5,
          5,
          19,
          5,
          6
         ],
         "yaxis": "y"
        },
        {
         "legendgroup": "GT2",
         "line": {
          "shape": "hv"
         },
         "name": "out:GT2",
         "stackgroup": "out",
         "type": "scatter",
         "xaxis": "x",
         "y": [
          5,
          5,
          5,
          5,
          5,
          5,
          5,
          5,
          5,
          5,
          5,
          5,
          5,
          5,
          5,
          5,
          6,
          7,
          8,
          5,
          10,
          11,
          5,
          5,
          14,
          5,
          16,
          17,
          18,
          5,
          20,
          20
         ],
         "yaxis": "y"
        },
        {
         "legendgroup": "GT3",
         "line": {
          "shape": "hv"
         },
         "name": "out:GT3",
         "stackgroup": "out",
         "type": "scatter",
         "xaxis": "x",
         "y": [
          0,
          0,
          0,
          0,
          0,
          0,
          0,
          0,
          0,
          0,
          0,
          0,
          0,
          0,
          0,
          0,
          5,
          5,
          5,
          5,
          5,
          5,
          5,
          5,
          5,
          5,
          5,
          5,
          5,
          5,
          5,
          5
         ],
         "yaxis": "y"
        },
        {
         "legendgroup": "WT",
         "line": {
          "shape": "hv"
         },
         "name": "out:WT",
         "stackgroup": "out",
         "type": "scatter",
         "xaxis": "x",
         "y": [
          40,
          40,
          40,
          40,
          40,
          40,
          40,
          40,
          40,
          40,
          40,
          39,
          38,
          37,
          36,
          35,
          34,
          33,
          32,
          31,
          30,
          29,
          28,
          27,
          26,
          25,
          24,
          23,
          22,
          21,
          20,
          19
         ],
         "yaxis": "y"
        }
       ],
       "layout": {
        "autosize": true,
        "legend": {
         "traceorder": "reversed"
        },
        "template": {
         "data": {
          "bar": [
           {
            "error_x": {
             "color": "#2a3f5f"
            },
            "error_y": {
             "color": "#2a3f5f"
            },
            "marker": {
             "line": {
              "color": "#E5ECF6",
              "width": 0.5
             }
            },
            "type": "bar"
           }
          ],
          "barpolar": [
           {
            "marker": {
             "line": {
              "color": "#E5ECF6",
              "width": 0.5
             }
            },
            "type": "barpolar"
           }
          ],
          "carpet": [
           {
            "aaxis": {
             "endlinecolor": "#2a3f5f",
             "gridcolor": "white",
             "linecolor": "white",
             "minorgridcolor": "white",
             "startlinecolor": "#2a3f5f"
            },
            "baxis": {
             "endlinecolor": "#2a3f5f",
             "gridcolor": "white",
             "linecolor": "white",
             "minorgridcolor": "white",
             "startlinecolor": "#2a3f5f"
            },
            "type": "carpet"
           }
          ],
          "choropleth": [
           {
            "colorbar": {
             "outlinewidth": 0,
             "ticks": ""
            },
            "type": "choropleth"
           }
          ],
          "contour": [
           {
            "colorbar": {
             "outlinewidth": 0,
             "ticks": ""
            },
            "colorscale": [
             [
              0,
              "#0d0887"
             ],
             [
              0.1111111111111111,
              "#46039f"
             ],
             [
              0.2222222222222222,
              "#7201a8"
             ],
             [
              0.3333333333333333,
              "#9c179e"
             ],
             [
              0.4444444444444444,
              "#bd3786"
             ],
             [
              0.5555555555555556,
              "#d8576b"
             ],
             [
              0.6666666666666666,
              "#ed7953"
             ],
             [
              0.7777777777777778,
              "#fb9f3a"
             ],
             [
              0.8888888888888888,
              "#fdca26"
             ],
             [
              1,
              "#f0f921"
             ]
            ],
            "type": "contour"
           }
          ],
          "contourcarpet": [
           {
            "colorbar": {
             "outlinewidth": 0,
             "ticks": ""
            },
            "type": "contourcarpet"
           }
          ],
          "heatmap": [
           {
            "colorbar": {
             "outlinewidth": 0,
             "ticks": ""
            },
            "colorscale": [
             [
              0,
              "#0d0887"
             ],
             [
              0.1111111111111111,
              "#46039f"
             ],
             [
              0.2222222222222222,
              "#7201a8"
             ],
             [
              0.3333333333333333,
              "#9c179e"
             ],
             [
              0.4444444444444444,
              "#bd3786"
             ],
             [
              0.5555555555555556,
              "#d8576b"
             ],
             [
              0.6666666666666666,
              "#ed7953"
             ],
             [
              0.7777777777777778,
              "#fb9f3a"
             ],
             [
              0.8888888888888888,
              "#fdca26"
             ],
             [
              1,
              "#f0f921"
             ]
            ],
            "type": "heatmap"
           }
          ],
          "heatmapgl": [
           {
            "colorbar": {
             "outlinewidth": 0,
             "ticks": ""
            },
            "colorscale": [
             [
              0,
              "#0d0887"
             ],
             [
              0.1111111111111111,
              "#46039f"
             ],
             [
              0.2222222222222222,
              "#7201a8"
             ],
             [
              0.3333333333333333,
              "#9c179e"
             ],
             [
              0.4444444444444444,
              "#bd3786"
             ],
             [
              0.5555555555555556,
              "#d8576b"
             ],
             [
              0.6666666666666666,
              "#ed7953"
             ],
             [
              0.7777777777777778,
              "#fb9f3a"
             ],
             [
              0.8888888888888888,
              "#fdca26"
             ],
             [
              1,
              "#f0f921"
             ]
            ],
            "type": "heatmapgl"
           }
          ],
          "histogram": [
           {
            "marker": {
             "colorbar": {
              "outlinewidth": 0,
              "ticks": ""
             }
            },
            "type": "histogram"
           }
          ],
          "histogram2d": [
           {
            "colorbar": {
             "outlinewidth": 0,
             "ticks": ""
            },
            "colorscale": [
             [
              0,
              "#0d0887"
             ],
             [
              0.1111111111111111,
              "#46039f"
             ],
             [
              0.2222222222222222,
              "#7201a8"
             ],
             [
              0.3333333333333333,
              "#9c179e"
             ],
             [
              0.4444444444444444,
              "#bd3786"
             ],
             [
              0.5555555555555556,
              "#d8576b"
             ],
             [
              0.6666666666666666,
              "#ed7953"
             ],
             [
              0.7777777777777778,
              "#fb9f3a"
             ],
             [
              0.8888888888888888,
              "#fdca26"
             ],
             [
              1,
              "#f0f921"
             ]
            ],
            "type": "histogram2d"
           }
          ],
          "histogram2dcontour": [
           {
            "colorbar": {
             "outlinewidth": 0,
             "ticks": ""
            },
            "colorscale": [
             [
              0,
              "#0d0887"
             ],
             [
              0.1111111111111111,
              "#46039f"
             ],
             [
              0.2222222222222222,
              "#7201a8"
             ],
             [
              0.3333333333333333,
              "#9c179e"
             ],
             [
              0.4444444444444444,
              "#bd3786"
             ],
             [
              0.5555555555555556,
              "#d8576b"
             ],
             [
              0.6666666666666666,
              "#ed7953"
             ],
             [
              0.7777777777777778,
              "#fb9f3a"
             ],
             [
              0.8888888888888888,
              "#fdca26"
             ],
             [
              1,
              "#f0f921"
             ]
            ],
            "type": "histogram2dcontour"
           }
          ],
          "mesh3d": [
           {
            "colorbar": {
             "outlinewidth": 0,
             "ticks": ""
            },
            "type": "mesh3d"
           }
          ],
          "parcoords": [
           {
            "line": {
             "colorbar": {
              "outlinewidth": 0,
              "ticks": ""
             }
            },
            "type": "parcoords"
           }
          ],
          "pie": [
           {
            "automargin": true,
            "type": "pie"
           }
          ],
          "scatter": [
           {
            "marker": {
             "colorbar": {
              "outlinewidth": 0,
              "ticks": ""
             }
            },
            "type": "scatter"
           }
          ],
          "scatter3d": [
           {
            "line": {
             "colorbar": {
              "outlinewidth": 0,
              "ticks": ""
             }
            },
            "marker": {
             "colorbar": {
              "outlinewidth": 0,
              "ticks": ""
             }
            },
            "type": "scatter3d"
           }
          ],
          "scattercarpet": [
           {
            "marker": {
             "colorbar": {
              "outlinewidth": 0,
              "ticks": ""
             }
            },
            "type": "scattercarpet"
           }
          ],
          "scattergeo": [
           {
            "marker": {
             "colorbar": {
              "outlinewidth": 0,
              "ticks": ""
             }
            },
            "type": "scattergeo"
           }
          ],
          "scattergl": [
           {
            "marker": {
             "colorbar": {
              "outlinewidth": 0,
              "ticks": ""
             }
            },
            "type": "scattergl"
           }
          ],
          "scattermapbox": [
           {
            "marker": {
             "colorbar": {
              "outlinewidth": 0,
              "ticks": ""
             }
            },
            "type": "scattermapbox"
           }
          ],
          "scatterpolar": [
           {
            "marker": {
             "colorbar": {
              "outlinewidth": 0,
              "ticks": ""
             }
            },
            "type": "scatterpolar"
           }
          ],
          "scatterpolargl": [
           {
            "marker": {
             "colorbar": {
              "outlinewidth": 0,
              "ticks": ""
             }
            },
            "type": "scatterpolargl"
           }
          ],
          "scatterternary": [
           {
            "marker": {
             "colorbar": {
              "outlinewidth": 0,
              "ticks": ""
             }
            },
            "type": "scatterternary"
           }
          ],
          "surface": [
           {
            "colorbar": {
             "outlinewidth": 0,
             "ticks": ""
            },
            "colorscale": [
             [
              0,
              "#0d0887"
             ],
             [
              0.1111111111111111,
              "#46039f"
             ],
             [
              0.2222222222222222,
              "#7201a8"
             ],
             [
              0.3333333333333333,
              "#9c179e"
             ],
             [
              0.4444444444444444,
              "#bd3786"
             ],
             [
              0.5555555555555556,
              "#d8576b"
             ],
             [
              0.6666666666666666,
              "#ed7953"
             ],
             [
              0.7777777777777778,
              "#fb9f3a"
             ],
             [
              0.8888888888888888,
              "#fdca26"
             ],
             [
              1,
              "#f0f921"
             ]
            ],
            "type": "surface"
           }
          ],
          "table": [
           {
            "cells": {
             "fill": {
              "color": "#EBF0F8"
             },
             "line": {
              "color": "white"
             }
            },
            "header": {
             "fill": {
              "color": "#C8D4E3"
             },
             "line": {
              "color": "white"
             }
            },
            "type": "table"
           }
          ]
         },
         "layout": {
          "annotationdefaults": {
           "arrowcolor": "#2a3f5f",
           "arrowhead": 0,
           "arrowwidth": 1
          },
          "coloraxis": {
           "colorbar": {
            "outlinewidth": 0,
            "ticks": ""
           }
          },
          "colorscale": {
           "diverging": [
            [
             0,
             "#8e0152"
            ],
            [
             0.1,
             "#c51b7d"
            ],
            [
             0.2,
             "#de77ae"
            ],
            [
             0.3,
             "#f1b6da"
            ],
            [
             0.4,
             "#fde0ef"
            ],
            [
             0.5,
             "#f7f7f7"
            ],
            [
             0.6,
             "#e6f5d0"
            ],
            [
             0.7,
             "#b8e186"
            ],
            [
             0.8,
             "#7fbc41"
            ],
            [
             0.9,
             "#4d9221"
            ],
            [
             1,
             "#276419"
            ]
           ],
           "sequential": [
            [
             0,
             "#0d0887"
            ],
            [
             0.1111111111111111,
             "#46039f"
            ],
            [
             0.2222222222222222,
             "#7201a8"
            ],
            [
             0.3333333333333333,
             "#9c179e"
            ],
            [
             0.4444444444444444,
             "#bd3786"
            ],
            [
             0.5555555555555556,
             "#d8576b"
            ],
            [
             0.6666666666666666,
             "#ed7953"
            ],
            [
             0.7777777777777778,
             "#fb9f3a"
            ],
            [
             0.8888888888888888,
             "#fdca26"
            ],
            [
             1,
             "#f0f921"
            ]
           ],
           "sequentialminus": [
            [
             0,
             "#0d0887"
            ],
            [
             0.1111111111111111,
             "#46039f"
            ],
            [
             0.2222222222222222,
             "#7201a8"
            ],
            [
             0.3333333333333333,
             "#9c179e"
            ],
            [
             0.4444444444444444,
             "#bd3786"
            ],
            [
             0.5555555555555556,
             "#d8576b"
            ],
            [
             0.6666666666666666,
             "#ed7953"
            ],
            [
             0.7777777777777778,
             "#fb9f3a"
            ],
            [
             0.8888888888888888,
             "#fdca26"
            ],
            [
             1,
             "#f0f921"
            ]
           ]
          },
          "colorway": [
           "#636efa",
           "#EF553B",
           "#00cc96",
           "#ab63fa",
           "#FFA15A",
           "#19d3f3",
           "#FF6692",
           "#B6E880",
           "#FF97FF",
           "#FECB52"
          ],
          "font": {
           "color": "#2a3f5f"
          },
          "geo": {
           "bgcolor": "white",
           "lakecolor": "white",
           "landcolor": "#E5ECF6",
           "showlakes": true,
           "showland": true,
           "subunitcolor": "white"
          },
          "hoverlabel": {
           "align": "left"
          },
          "hovermode": "closest",
          "mapbox": {
           "style": "light"
          },
          "paper_bgcolor": "white",
          "plot_bgcolor": "#E5ECF6",
          "polar": {
           "angularaxis": {
            "gridcolor": "white",
            "linecolor": "white",
            "ticks": ""
           },
           "bgcolor": "#E5ECF6",
           "radialaxis": {
            "gridcolor": "white",
            "linecolor": "white",
            "ticks": ""
           }
          },
          "scene": {
           "xaxis": {
            "backgroundcolor": "#E5ECF6",
            "gridcolor": "white",
            "gridwidth": 2,
            "linecolor": "white",
            "showbackground": true,
            "ticks": "",
            "zerolinecolor": "white"
           },
           "yaxis": {
            "backgroundcolor": "#E5ECF6",
            "gridcolor": "white",
            "gridwidth": 2,
            "linecolor": "white",
            "showbackground": true,
            "ticks": "",
            "zerolinecolor": "white"
           },
           "zaxis": {
            "backgroundcolor": "#E5ECF6",
            "gridcolor": "white",
            "gridwidth": 2,
            "linecolor": "white",
            "showbackground": true,
            "ticks": "",
            "zerolinecolor": "white"
           }
          },
          "shapedefaults": {
           "line": {
            "color": "#2a3f5f"
           }
          },
          "ternary": {
           "aaxis": {
            "gridcolor": "white",
            "linecolor": "white",
            "ticks": ""
           },
           "baxis": {
            "gridcolor": "white",
            "linecolor": "white",
            "ticks": ""
           },
           "bgcolor": "#E5ECF6",
           "caxis": {
            "gridcolor": "white",
            "linecolor": "white",
            "ticks": ""
           }
          },
          "title": {
           "x": 0.05
          },
          "xaxis": {
           "automargin": true,
           "gridcolor": "white",
           "linecolor": "white",
           "ticks": "",
           "title": {
            "standoff": 15
           },
           "zerolinecolor": "white",
           "zerolinewidth": 2
          },
          "yaxis": {
           "automargin": true,
           "gridcolor": "white",
           "linecolor": "white",
           "ticks": "",
           "title": {
            "standoff": 15
           },
           "zerolinecolor": "white",
           "zerolinewidth": 2
          }
         }
        },
        "xaxis": {
         "anchor": "y",
         "autorange": true,
         "domain": [
          0,
          1
         ],
         "matches": "x2",
         "range": [
          0,
          31
         ],
         "showticklabels": false,
         "title": {
          "text": ""
         }
        },
        "xaxis2": {
         "anchor": "y2",
         "autorange": true,
         "domain": [
          0,
          1
         ],
         "range": [
          0,
          31
         ],
         "title": {
          "text": "Timestep"
         }
        },
        "yaxis": {
         "anchor": "x",
         "autorange": true,
         "domain": [
          0.575,
          1
         ],
         "range": [
          0,
          52.63157894736842
         ],
         "title": {
          "text": "Power supply (MW)"
         },
         "type": "linear"
        },
        "yaxis2": {
         "anchor": "x2",
         "autorange": true,
         "domain": [
          0,
          0.425
         ],
         "range": [
          0,
          52.631578947368425
         ],
         "title": {
          "text": "Power consumption (MW)"
         },
         "type": "linear"
        }
       }
      },
      "image/png": "[encoded data removed]",
      "text/html": [
       "<div>\n",
       "        \n",
       "        \n",
       "            <div id=\"fcffccb3-ff86-4aad-94e3-85aff258af4d\" class=\"plotly-graph-div\" style=\"height:600px; width:100%;\"></div>\n",
       "            <script type=\"text/javascript\">\n",
       "                require([\"plotly\"], function(Plotly) {\n",
       "                    window.PLOTLYENV=window.PLOTLYENV || {};\n",
       "                    \n",
       "                if (document.getElementById(\"fcffccb3-ff86-4aad-94e3-85aff258af4d\")) {\n",
       "                    Plotly.newPlot(\n",
       "                        'fcffccb3-ff86-4aad-94e3-85aff258af4d',\n",
       "                        [{\"legendgroup\": \"dem\", \"line\": {\"shape\": \"hv\"}, \"name\": \"in:dem\", \"stackgroup\": \"in\", \"type\": \"scatter\", \"xaxis\": \"x2\", \"y\": [50.0, 50.0, 50.0, 50.0, 50.0, 50.0, 50.0, 50.0, 50.0, 50.0, 50.0, 50.0, 50.0, 50.0, 50.0, 50.0, 50.0, 50.0, 50.0, 50.0, 50.0, 50.0, 50.0, 50.0, 50.0, 50.0, 50.0, 50.0, 50.0, 50.0, 50.0, 50.0], \"yaxis\": \"y2\"}, {\"legendgroup\": \"GT1\", \"line\": {\"shape\": \"hv\"}, \"name\": \"out:GT1\", \"stackgroup\": \"out\", \"type\": \"scatter\", \"xaxis\": \"x\", \"y\": [5.0, 5.0, 5.0, 5.0, 5.0, 5.0, 5.0, 5.0, 5.0, 5.0, 5.0, 6.0, 7.0, 8.0, 9.0, 10.0, 5.0, 5.0, 5.0, 9.0, 5.0, 5.0, 12.0, 13.0, 5.0, 15.0, 5.0, 5.0, 5.0, 19.0, 5.0, 6.0], \"yaxis\": \"y\"}, {\"legendgroup\": \"GT2\", \"line\": {\"shape\": \"hv\"}, \"name\": \"out:GT2\", \"stackgroup\": \"out\", \"type\": \"scatter\", \"xaxis\": \"x\", \"y\": [5.0, 5.0, 5.0, 5.0, 5.0, 5.0, 5.0, 5.0, 5.0, 5.0, 5.0, 5.0, 5.0, 5.0, 5.0, 5.0, 6.0, 7.0, 8.0, 5.0, 10.0, 11.0, 5.0, 5.0, 14.0, 5.0, 16.0, 17.0, 18.0, 5.0, 20.0, 20.0], \"yaxis\": \"y\"}, {\"legendgroup\": \"GT3\", \"line\": {\"shape\": \"hv\"}, \"name\": \"out:GT3\", \"stackgroup\": \"out\", \"type\": \"scatter\", \"xaxis\": \"x\", \"y\": [0.0, 0.0, 0.0, 0.0, 0.0, 0.0, 0.0, 0.0, 0.0, 0.0, 0.0, 0.0, 0.0, 0.0, 0.0, 0.0, 5.0, 5.0, 5.0, 5.0, 5.0, 5.0, 5.0, 5.0, 5.0, 5.0, 5.0, 5.0, 5.0, 5.0, 5.0, 5.0], \"yaxis\": \"y\"}, {\"legendgroup\": \"WT\", \"line\": {\"shape\": \"hv\"}, \"name\": \"out:WT\", \"stackgroup\": \"out\", \"type\": \"scatter\", \"xaxis\": \"x\", \"y\": [40.0, 40.0, 40.0, 40.0, 40.0, 40.0, 40.0, 40.0, 40.0, 40.0, 40.0, 39.0, 38.0, 37.0, 36.0, 35.0, 34.0, 33.0, 32.0, 31.0, 30.0, 29.0, 28.0, 27.0, 26.0, 25.0, 24.0, 23.0, 22.0, 21.0, 20.0, 19.0], \"yaxis\": \"y\"}],\n",
       "                        {\"height\": 600, \"legend\": {\"traceorder\": \"reversed\"}, \"template\": {\"data\": {\"bar\": [{\"error_x\": {\"color\": \"#2a3f5f\"}, \"error_y\": {\"color\": \"#2a3f5f\"}, \"marker\": {\"line\": {\"color\": \"#E5ECF6\", \"width\": 0.5}}, \"type\": \"bar\"}], \"barpolar\": [{\"marker\": {\"line\": {\"color\": \"#E5ECF6\", \"width\": 0.5}}, \"type\": \"barpolar\"}], \"carpet\": [{\"aaxis\": {\"endlinecolor\": \"#2a3f5f\", \"gridcolor\": \"white\", \"linecolor\": \"white\", \"minorgridcolor\": \"white\", \"startlinecolor\": \"#2a3f5f\"}, \"baxis\": {\"endlinecolor\": \"#2a3f5f\", \"gridcolor\": \"white\", \"linecolor\": \"white\", \"minorgridcolor\": \"white\", \"startlinecolor\": \"#2a3f5f\"}, \"type\": \"carpet\"}], \"choropleth\": [{\"colorbar\": {\"outlinewidth\": 0, \"ticks\": \"\"}, \"type\": \"choropleth\"}], \"contour\": [{\"colorbar\": {\"outlinewidth\": 0, \"ticks\": \"\"}, \"colorscale\": [[0.0, \"#0d0887\"], [0.1111111111111111, \"#46039f\"], [0.2222222222222222, \"#7201a8\"], [0.3333333333333333, \"#9c179e\"], [0.4444444444444444, \"#bd3786\"], [0.5555555555555556, \"#d8576b\"], [0.6666666666666666, \"#ed7953\"], [0.7777777777777778, \"#fb9f3a\"], [0.8888888888888888, \"#fdca26\"], [1.0, \"#f0f921\"]], \"type\": \"contour\"}], \"contourcarpet\": [{\"colorbar\": {\"outlinewidth\": 0, \"ticks\": \"\"}, \"type\": \"contourcarpet\"}], \"heatmap\": [{\"colorbar\": {\"outlinewidth\": 0, \"ticks\": \"\"}, \"colorscale\": [[0.0, \"#0d0887\"], [0.1111111111111111, \"#46039f\"], [0.2222222222222222, \"#7201a8\"], [0.3333333333333333, \"#9c179e\"], [0.4444444444444444, \"#bd3786\"], [0.5555555555555556, \"#d8576b\"], [0.6666666666666666, \"#ed7953\"], [0.7777777777777778, \"#fb9f3a\"], [0.8888888888888888, \"#fdca26\"], [1.0, \"#f0f921\"]], \"type\": \"heatmap\"}], \"heatmapgl\": [{\"colorbar\": {\"outlinewidth\": 0, \"ticks\": \"\"}, \"colorscale\": [[0.0, \"#0d0887\"], [0.1111111111111111, \"#46039f\"], [0.2222222222222222, \"#7201a8\"], [0.3333333333333333, \"#9c179e\"], [0.4444444444444444, \"#bd3786\"], [0.5555555555555556, \"#d8576b\"], [0.6666666666666666, \"#ed7953\"], [0.7777777777777778, \"#fb9f3a\"], [0.8888888888888888, \"#fdca26\"], [1.0, \"#f0f921\"]], \"type\": \"heatmapgl\"}], \"histogram\": [{\"marker\": {\"colorbar\": {\"outlinewidth\": 0, \"ticks\": \"\"}}, \"type\": \"histogram\"}], \"histogram2d\": [{\"colorbar\": {\"outlinewidth\": 0, \"ticks\": \"\"}, \"colorscale\": [[0.0, \"#0d0887\"], [0.1111111111111111, \"#46039f\"], [0.2222222222222222, \"#7201a8\"], [0.3333333333333333, \"#9c179e\"], [0.4444444444444444, \"#bd3786\"], [0.5555555555555556, \"#d8576b\"], [0.6666666666666666, \"#ed7953\"], [0.7777777777777778, \"#fb9f3a\"], [0.8888888888888888, \"#fdca26\"], [1.0, \"#f0f921\"]], \"type\": \"histogram2d\"}], \"histogram2dcontour\": [{\"colorbar\": {\"outlinewidth\": 0, \"ticks\": \"\"}, \"colorscale\": [[0.0, \"#0d0887\"], [0.1111111111111111, \"#46039f\"], [0.2222222222222222, \"#7201a8\"], [0.3333333333333333, \"#9c179e\"], [0.4444444444444444, \"#bd3786\"], [0.5555555555555556, \"#d8576b\"], [0.6666666666666666, \"#ed7953\"], [0.7777777777777778, \"#fb9f3a\"], [0.8888888888888888, \"#fdca26\"], [1.0, \"#f0f921\"]], \"type\": \"histogram2dcontour\"}], \"mesh3d\": [{\"colorbar\": {\"outlinewidth\": 0, \"ticks\": \"\"}, \"type\": \"mesh3d\"}], \"parcoords\": [{\"line\": {\"colorbar\": {\"outlinewidth\": 0, \"ticks\": \"\"}}, \"type\": \"parcoords\"}], \"pie\": [{\"automargin\": true, \"type\": \"pie\"}], \"scatter\": [{\"marker\": {\"colorbar\": {\"outlinewidth\": 0, \"ticks\": \"\"}}, \"type\": \"scatter\"}], \"scatter3d\": [{\"line\": {\"colorbar\": {\"outlinewidth\": 0, \"ticks\": \"\"}}, \"marker\": {\"colorbar\": {\"outlinewidth\": 0, \"ticks\": \"\"}}, \"type\": \"scatter3d\"}], \"scattercarpet\": [{\"marker\": {\"colorbar\": {\"outlinewidth\": 0, \"ticks\": \"\"}}, \"type\": \"scattercarpet\"}], \"scattergeo\": [{\"marker\": {\"colorbar\": {\"outlinewidth\": 0, \"ticks\": \"\"}}, \"type\": \"scattergeo\"}], \"scattergl\": [{\"marker\": {\"colorbar\": {\"outlinewidth\": 0, \"ticks\": \"\"}}, \"type\": \"scattergl\"}], \"scattermapbox\": [{\"marker\": {\"colorbar\": {\"outlinewidth\": 0, \"ticks\": \"\"}}, \"type\": \"scattermapbox\"}], \"scatterpolar\": [{\"marker\": {\"colorbar\": {\"outlinewidth\": 0, \"ticks\": \"\"}}, \"type\": \"scatterpolar\"}], \"scatterpolargl\": [{\"marker\": {\"colorbar\": {\"outlinewidth\": 0, \"ticks\": \"\"}}, \"type\": \"scatterpolargl\"}], \"scatterternary\": [{\"marker\": {\"colorbar\": {\"outlinewidth\": 0, \"ticks\": \"\"}}, \"type\": \"scatterternary\"}], \"surface\": [{\"colorbar\": {\"outlinewidth\": 0, \"ticks\": \"\"}, \"colorscale\": [[0.0, \"#0d0887\"], [0.1111111111111111, \"#46039f\"], [0.2222222222222222, \"#7201a8\"], [0.3333333333333333, \"#9c179e\"], [0.4444444444444444, \"#bd3786\"], [0.5555555555555556, \"#d8576b\"], [0.6666666666666666, \"#ed7953\"], [0.7777777777777778, \"#fb9f3a\"], [0.8888888888888888, \"#fdca26\"], [1.0, \"#f0f921\"]], \"type\": \"surface\"}], \"table\": [{\"cells\": {\"fill\": {\"color\": \"#EBF0F8\"}, \"line\": {\"color\": \"white\"}}, \"header\": {\"fill\": {\"color\": \"#C8D4E3\"}, \"line\": {\"color\": \"white\"}}, \"type\": \"table\"}]}, \"layout\": {\"annotationdefaults\": {\"arrowcolor\": \"#2a3f5f\", \"arrowhead\": 0, \"arrowwidth\": 1}, \"coloraxis\": {\"colorbar\": {\"outlinewidth\": 0, \"ticks\": \"\"}}, \"colorscale\": {\"diverging\": [[0, \"#8e0152\"], [0.1, \"#c51b7d\"], [0.2, \"#de77ae\"], [0.3, \"#f1b6da\"], [0.4, \"#fde0ef\"], [0.5, \"#f7f7f7\"], [0.6, \"#e6f5d0\"], [0.7, \"#b8e186\"], [0.8, \"#7fbc41\"], [0.9, \"#4d9221\"], [1, \"#276419\"]], \"sequential\": [[0.0, \"#0d0887\"], [0.1111111111111111, \"#46039f\"], [0.2222222222222222, \"#7201a8\"], [0.3333333333333333, \"#9c179e\"], [0.4444444444444444, \"#bd3786\"], [0.5555555555555556, \"#d8576b\"], [0.6666666666666666, \"#ed7953\"], [0.7777777777777778, \"#fb9f3a\"], [0.8888888888888888, \"#fdca26\"], [1.0, \"#f0f921\"]], \"sequentialminus\": [[0.0, \"#0d0887\"], [0.1111111111111111, \"#46039f\"], [0.2222222222222222, \"#7201a8\"], [0.3333333333333333, \"#9c179e\"], [0.4444444444444444, \"#bd3786\"], [0.5555555555555556, \"#d8576b\"], [0.6666666666666666, \"#ed7953\"], [0.7777777777777778, \"#fb9f3a\"], [0.8888888888888888, \"#fdca26\"], [1.0, \"#f0f921\"]]}, \"colorway\": [\"#636efa\", \"#EF553B\", \"#00cc96\", \"#ab63fa\", \"#FFA15A\", \"#19d3f3\", \"#FF6692\", \"#B6E880\", \"#FF97FF\", \"#FECB52\"], \"font\": {\"color\": \"#2a3f5f\"}, \"geo\": {\"bgcolor\": \"white\", \"lakecolor\": \"white\", \"landcolor\": \"#E5ECF6\", \"showlakes\": true, \"showland\": true, \"subunitcolor\": \"white\"}, \"hoverlabel\": {\"align\": \"left\"}, \"hovermode\": \"closest\", \"mapbox\": {\"style\": \"light\"}, \"paper_bgcolor\": \"white\", \"plot_bgcolor\": \"#E5ECF6\", \"polar\": {\"angularaxis\": {\"gridcolor\": \"white\", \"linecolor\": \"white\", \"ticks\": \"\"}, \"bgcolor\": \"#E5ECF6\", \"radialaxis\": {\"gridcolor\": \"white\", \"linecolor\": \"white\", \"ticks\": \"\"}}, \"scene\": {\"xaxis\": {\"backgroundcolor\": \"#E5ECF6\", \"gridcolor\": \"white\", \"gridwidth\": 2, \"linecolor\": \"white\", \"showbackground\": true, \"ticks\": \"\", \"zerolinecolor\": \"white\"}, \"yaxis\": {\"backgroundcolor\": \"#E5ECF6\", \"gridcolor\": \"white\", \"gridwidth\": 2, \"linecolor\": \"white\", \"showbackground\": true, \"ticks\": \"\", \"zerolinecolor\": \"white\"}, \"zaxis\": {\"backgroundcolor\": \"#E5ECF6\", \"gridcolor\": \"white\", \"gridwidth\": 2, \"linecolor\": \"white\", \"showbackground\": true, \"ticks\": \"\", \"zerolinecolor\": \"white\"}}, \"shapedefaults\": {\"line\": {\"color\": \"#2a3f5f\"}}, \"ternary\": {\"aaxis\": {\"gridcolor\": \"white\", \"linecolor\": \"white\", \"ticks\": \"\"}, \"baxis\": {\"gridcolor\": \"white\", \"linecolor\": \"white\", \"ticks\": \"\"}, \"bgcolor\": \"#E5ECF6\", \"caxis\": {\"gridcolor\": \"white\", \"linecolor\": \"white\", \"ticks\": \"\"}}, \"title\": {\"x\": 0.05}, \"xaxis\": {\"automargin\": true, \"gridcolor\": \"white\", \"linecolor\": \"white\", \"ticks\": \"\", \"title\": {\"standoff\": 15}, \"zerolinecolor\": \"white\", \"zerolinewidth\": 2}, \"yaxis\": {\"automargin\": true, \"gridcolor\": \"white\", \"linecolor\": \"white\", \"ticks\": \"\", \"title\": {\"standoff\": 15}, \"zerolinecolor\": \"white\", \"zerolinewidth\": 2}}}, \"xaxis\": {\"anchor\": \"y\", \"domain\": [0.0, 1.0], \"matches\": \"x2\", \"showticklabels\": false, \"title\": {\"text\": \"\"}}, \"xaxis2\": {\"anchor\": \"y2\", \"domain\": [0.0, 1.0], \"title\": {\"text\": \"Timestep\"}}, \"yaxis\": {\"anchor\": \"x\", \"domain\": [0.575, 1.0], \"title\": {\"text\": \"Power supply (MW)\"}}, \"yaxis2\": {\"anchor\": \"x2\", \"domain\": [0.0, 0.425], \"title\": {\"text\": \"Power consumption (MW)\"}}},\n",
       "                        {\"responsive\": true}\n",
       "                    ).then(function(){\n",
       "                            \n",
       "var gd = document.getElementById('fcffccb3-ff86-4aad-94e3-85aff258af4d');\n",
       "var x = new MutationObserver(function (mutations, observer) {{\n",
       "        var display = window.getComputedStyle(gd).display;\n",
       "        if (!display || display === 'none') {{\n",
       "            console.log([gd, 'removed!']);\n",
       "            Plotly.purge(gd);\n",
       "            observer.disconnect();\n",
       "        }}\n",
       "}});\n",
       "\n",
       "// Listen for the removal of the full notebook cells\n",
       "var notebookContainer = gd.closest('#notebook-container');\n",
       "if (notebookContainer) {{\n",
       "    x.observe(notebookContainer, {childList: true});\n",
       "}}\n",
       "\n",
       "// Listen for the clearing of the current output cell\n",
       "var outputEl = gd.closest('.output');\n",
       "if (outputEl) {{\n",
       "    x.observe(outputEl, {childList: true});\n",
       "}}\n",
       "\n",
       "                        })\n",
       "                };\n",
       "                });\n",
       "            </script>\n",
       "        </div>"
      ]
     },
     "metadata": {},
     "output_type": "display_data"
    }
   ],
   "source": [
    "fig=plots.plot_SumPowerMix(mc,carrier=\"el\")"
   ]
  },
  {
   "cell_type": "code",
   "execution_count": null,
   "metadata": {},
   "outputs": [],
   "source": []
  },
  {
   "cell_type": "code",
   "execution_count": null,
   "metadata": {},
   "outputs": [],
   "source": []
  },
  {
   "cell_type": "code",
   "execution_count": 163,
   "metadata": {},
   "outputs": [],
   "source": []
  },
  {
   "cell_type": "code",
   "execution_count": 19,
   "metadata": {},
   "outputs": [
    {
     "data": {
      "application/vnd.plotly.v1+json": {
       "config": {
        "plotlyServerURL": "https://plot.ly"
       },
       "data": [
        {
         "legendgroup": "GT1",
         "line": {
          "color": "rgb(255, 127, 14)",
          "shape": "hv"
         },
         "name": "GT1",
         "stackgroup": "P",
         "type": "scatter",
         "xaxis": "x",
         "y": [
          5,
          5,
          5,
          5,
          5,
          5,
          5,
          5,
          5,
          5,
          5,
          6,
          7,
          8,
          9,
          10,
          5,
          5,
          5,
          9,
          5,
          5,
          12,
          13,
          5,
          15,
          5,
          5,
          5,
          19,
          5,
          6
         ],
         "yaxis": "y"
        },
        {
         "legendgroup": "GT1",
         "line": {
          "color": "rgb(255, 127, 14)",
          "dash": "dash",
          "shape": "hv"
         },
         "name": "GT1",
         "showlegend": false,
         "stackgroup": "ison",
         "type": "scatter",
         "xaxis": "x2",
         "y": [
          1,
          1,
          1,
          1,
          1,
          1,
          1,
          1,
          1,
          1,
          1,
          1,
          1,
          1,
          1,
          1,
          1,
          1,
          1,
          1,
          1,
          1,
          1,
          1,
          1,
          1,
          1,
          1,
          1,
          1,
          1,
          1
         ],
         "yaxis": "y2"
        },
        {
         "legendgroup": "GT2",
         "line": {
          "color": "rgb(44, 160, 44)",
          "shape": "hv"
         },
         "name": "GT2",
         "stackgroup": "P",
         "type": "scatter",
         "xaxis": "x",
         "y": [
          5,
          5,
          5,
          5,
          5,
          5,
          5,
          5,
          5,
          5,
          5,
          5,
          5,
          5,
          5,
          5,
          6,
          7,
          8,
          5,
          10,
          11,
          5,
          5,
          14,
          5,
          16,
          17,
          18,
          5,
          20,
          20
         ],
         "yaxis": "y"
        },
        {
         "legendgroup": "GT2",
         "line": {
          "color": "rgb(44, 160, 44)",
          "dash": "dash",
          "shape": "hv"
         },
         "name": "GT2",
         "showlegend": false,
         "stackgroup": "ison",
         "type": "scatter",
         "xaxis": "x2",
         "y": [
          1,
          1,
          1,
          1,
          1,
          1,
          1,
          1,
          1,
          1,
          1,
          1,
          1,
          1,
          1,
          1,
          1,
          1,
          1,
          1,
          1,
          1,
          1,
          1,
          1,
          1,
          1,
          1,
          1,
          1,
          1,
          1
         ],
         "yaxis": "y2"
        },
        {
         "legendgroup": "GT3",
         "line": {
          "color": "rgb(214, 39, 40)",
          "shape": "hv"
         },
         "name": "GT3",
         "stackgroup": "P",
         "type": "scatter",
         "xaxis": "x",
         "y": [
          0,
          0,
          0,
          0,
          0,
          0,
          0,
          0,
          0,
          0,
          0,
          0,
          0,
          0,
          0,
          0,
          5,
          5,
          5,
          5,
          5,
          5,
          5,
          5,
          5,
          5,
          5,
          5,
          5,
          5,
          5,
          5
         ],
         "yaxis": "y"
        },
        {
         "legendgroup": "GT3",
         "line": {
          "color": "rgb(214, 39, 40)",
          "dash": "dash",
          "shape": "hv"
         },
         "name": "GT3",
         "showlegend": false,
         "stackgroup": "ison",
         "type": "scatter",
         "xaxis": "x2",
         "y": [
          0,
          0,
          0,
          0,
          0,
          0,
          0,
          0,
          0,
          0,
          0,
          0,
          0,
          0,
          0,
          0,
          1,
          1,
          1,
          1,
          1,
          1,
          1,
          1,
          1,
          1,
          1,
          1,
          1,
          1,
          1,
          1
         ],
         "yaxis": "y2"
        }
       ],
       "layout": {
        "autosize": true,
        "legend": {
         "traceorder": "reversed"
        },
        "template": {
         "data": {
          "bar": [
           {
            "error_x": {
             "color": "#2a3f5f"
            },
            "error_y": {
             "color": "#2a3f5f"
            },
            "marker": {
             "line": {
              "color": "#E5ECF6",
              "width": 0.5
             }
            },
            "type": "bar"
           }
          ],
          "barpolar": [
           {
            "marker": {
             "line": {
              "color": "#E5ECF6",
              "width": 0.5
             }
            },
            "type": "barpolar"
           }
          ],
          "carpet": [
           {
            "aaxis": {
             "endlinecolor": "#2a3f5f",
             "gridcolor": "white",
             "linecolor": "white",
             "minorgridcolor": "white",
             "startlinecolor": "#2a3f5f"
            },
            "baxis": {
             "endlinecolor": "#2a3f5f",
             "gridcolor": "white",
             "linecolor": "white",
             "minorgridcolor": "white",
             "startlinecolor": "#2a3f5f"
            },
            "type": "carpet"
           }
          ],
          "choropleth": [
           {
            "colorbar": {
             "outlinewidth": 0,
             "ticks": ""
            },
            "type": "choropleth"
           }
          ],
          "contour": [
           {
            "colorbar": {
             "outlinewidth": 0,
             "ticks": ""
            },
            "colorscale": [
             [
              0,
              "#0d0887"
             ],
             [
              0.1111111111111111,
              "#46039f"
             ],
             [
              0.2222222222222222,
              "#7201a8"
             ],
             [
              0.3333333333333333,
              "#9c179e"
             ],
             [
              0.4444444444444444,
              "#bd3786"
             ],
             [
              0.5555555555555556,
              "#d8576b"
             ],
             [
              0.6666666666666666,
              "#ed7953"
             ],
             [
              0.7777777777777778,
              "#fb9f3a"
             ],
             [
              0.8888888888888888,
              "#fdca26"
             ],
             [
              1,
              "#f0f921"
             ]
            ],
            "type": "contour"
           }
          ],
          "contourcarpet": [
           {
            "colorbar": {
             "outlinewidth": 0,
             "ticks": ""
            },
            "type": "contourcarpet"
           }
          ],
          "heatmap": [
           {
            "colorbar": {
             "outlinewidth": 0,
             "ticks": ""
            },
            "colorscale": [
             [
              0,
              "#0d0887"
             ],
             [
              0.1111111111111111,
              "#46039f"
             ],
             [
              0.2222222222222222,
              "#7201a8"
             ],
             [
              0.3333333333333333,
              "#9c179e"
             ],
             [
              0.4444444444444444,
              "#bd3786"
             ],
             [
              0.5555555555555556,
              "#d8576b"
             ],
             [
              0.6666666666666666,
              "#ed7953"
             ],
             [
              0.7777777777777778,
              "#fb9f3a"
             ],
             [
              0.8888888888888888,
              "#fdca26"
             ],
             [
              1,
              "#f0f921"
             ]
            ],
            "type": "heatmap"
           }
          ],
          "heatmapgl": [
           {
            "colorbar": {
             "outlinewidth": 0,
             "ticks": ""
            },
            "colorscale": [
             [
              0,
              "#0d0887"
             ],
             [
              0.1111111111111111,
              "#46039f"
             ],
             [
              0.2222222222222222,
              "#7201a8"
             ],
             [
              0.3333333333333333,
              "#9c179e"
             ],
             [
              0.4444444444444444,
              "#bd3786"
             ],
             [
              0.5555555555555556,
              "#d8576b"
             ],
             [
              0.6666666666666666,
              "#ed7953"
             ],
             [
              0.7777777777777778,
              "#fb9f3a"
             ],
             [
              0.8888888888888888,
              "#fdca26"
             ],
             [
              1,
              "#f0f921"
             ]
            ],
            "type": "heatmapgl"
           }
          ],
          "histogram": [
           {
            "marker": {
             "colorbar": {
              "outlinewidth": 0,
              "ticks": ""
             }
            },
            "type": "histogram"
           }
          ],
          "histogram2d": [
           {
            "colorbar": {
             "outlinewidth": 0,
             "ticks": ""
            },
            "colorscale": [
             [
              0,
              "#0d0887"
             ],
             [
              0.1111111111111111,
              "#46039f"
             ],
             [
              0.2222222222222222,
              "#7201a8"
             ],
             [
              0.3333333333333333,
              "#9c179e"
             ],
             [
              0.4444444444444444,
              "#bd3786"
             ],
             [
              0.5555555555555556,
              "#d8576b"
             ],
             [
              0.6666666666666666,
              "#ed7953"
             ],
             [
              0.7777777777777778,
              "#fb9f3a"
             ],
             [
              0.8888888888888888,
              "#fdca26"
             ],
             [
              1,
              "#f0f921"
             ]
            ],
            "type": "histogram2d"
           }
          ],
          "histogram2dcontour": [
           {
            "colorbar": {
             "outlinewidth": 0,
             "ticks": ""
            },
            "colorscale": [
             [
              0,
              "#0d0887"
             ],
             [
              0.1111111111111111,
              "#46039f"
             ],
             [
              0.2222222222222222,
              "#7201a8"
             ],
             [
              0.3333333333333333,
              "#9c179e"
             ],
             [
              0.4444444444444444,
              "#bd3786"
             ],
             [
              0.5555555555555556,
              "#d8576b"
             ],
             [
              0.6666666666666666,
              "#ed7953"
             ],
             [
              0.7777777777777778,
              "#fb9f3a"
             ],
             [
              0.8888888888888888,
              "#fdca26"
             ],
             [
              1,
              "#f0f921"
             ]
            ],
            "type": "histogram2dcontour"
           }
          ],
          "mesh3d": [
           {
            "colorbar": {
             "outlinewidth": 0,
             "ticks": ""
            },
            "type": "mesh3d"
           }
          ],
          "parcoords": [
           {
            "line": {
             "colorbar": {
              "outlinewidth": 0,
              "ticks": ""
             }
            },
            "type": "parcoords"
           }
          ],
          "pie": [
           {
            "automargin": true,
            "type": "pie"
           }
          ],
          "scatter": [
           {
            "marker": {
             "colorbar": {
              "outlinewidth": 0,
              "ticks": ""
             }
            },
            "type": "scatter"
           }
          ],
          "scatter3d": [
           {
            "line": {
             "colorbar": {
              "outlinewidth": 0,
              "ticks": ""
             }
            },
            "marker": {
             "colorbar": {
              "outlinewidth": 0,
              "ticks": ""
             }
            },
            "type": "scatter3d"
           }
          ],
          "scattercarpet": [
           {
            "marker": {
             "colorbar": {
              "outlinewidth": 0,
              "ticks": ""
             }
            },
            "type": "scattercarpet"
           }
          ],
          "scattergeo": [
           {
            "marker": {
             "colorbar": {
              "outlinewidth": 0,
              "ticks": ""
             }
            },
            "type": "scattergeo"
           }
          ],
          "scattergl": [
           {
            "marker": {
             "colorbar": {
              "outlinewidth": 0,
              "ticks": ""
             }
            },
            "type": "scattergl"
           }
          ],
          "scattermapbox": [
           {
            "marker": {
             "colorbar": {
              "outlinewidth": 0,
              "ticks": ""
             }
            },
            "type": "scattermapbox"
           }
          ],
          "scatterpolar": [
           {
            "marker": {
             "colorbar": {
              "outlinewidth": 0,
              "ticks": ""
             }
            },
            "type": "scatterpolar"
           }
          ],
          "scatterpolargl": [
           {
            "marker": {
             "colorbar": {
              "outlinewidth": 0,
              "ticks": ""
             }
            },
            "type": "scatterpolargl"
           }
          ],
          "scatterternary": [
           {
            "marker": {
             "colorbar": {
              "outlinewidth": 0,
              "ticks": ""
             }
            },
            "type": "scatterternary"
           }
          ],
          "surface": [
           {
            "colorbar": {
             "outlinewidth": 0,
             "ticks": ""
            },
            "colorscale": [
             [
              0,
              "#0d0887"
             ],
             [
              0.1111111111111111,
              "#46039f"
             ],
             [
              0.2222222222222222,
              "#7201a8"
             ],
             [
              0.3333333333333333,
              "#9c179e"
             ],
             [
              0.4444444444444444,
              "#bd3786"
             ],
             [
              0.5555555555555556,
              "#d8576b"
             ],
             [
              0.6666666666666666,
              "#ed7953"
             ],
             [
              0.7777777777777778,
              "#fb9f3a"
             ],
             [
              0.8888888888888888,
              "#fdca26"
             ],
             [
              1,
              "#f0f921"
             ]
            ],
            "type": "surface"
           }
          ],
          "table": [
           {
            "cells": {
             "fill": {
              "color": "#EBF0F8"
             },
             "line": {
              "color": "white"
             }
            },
            "header": {
             "fill": {
              "color": "#C8D4E3"
             },
             "line": {
              "color": "white"
             }
            },
            "type": "table"
           }
          ]
         },
         "layout": {
          "annotationdefaults": {
           "arrowcolor": "#2a3f5f",
           "arrowhead": 0,
           "arrowwidth": 1
          },
          "coloraxis": {
           "colorbar": {
            "outlinewidth": 0,
            "ticks": ""
           }
          },
          "colorscale": {
           "diverging": [
            [
             0,
             "#8e0152"
            ],
            [
             0.1,
             "#c51b7d"
            ],
            [
             0.2,
             "#de77ae"
            ],
            [
             0.3,
             "#f1b6da"
            ],
            [
             0.4,
             "#fde0ef"
            ],
            [
             0.5,
             "#f7f7f7"
            ],
            [
             0.6,
             "#e6f5d0"
            ],
            [
             0.7,
             "#b8e186"
            ],
            [
             0.8,
             "#7fbc41"
            ],
            [
             0.9,
             "#4d9221"
            ],
            [
             1,
             "#276419"
            ]
           ],
           "sequential": [
            [
             0,
             "#0d0887"
            ],
            [
             0.1111111111111111,
             "#46039f"
            ],
            [
             0.2222222222222222,
             "#7201a8"
            ],
            [
             0.3333333333333333,
             "#9c179e"
            ],
            [
             0.4444444444444444,
             "#bd3786"
            ],
            [
             0.5555555555555556,
             "#d8576b"
            ],
            [
             0.6666666666666666,
             "#ed7953"
            ],
            [
             0.7777777777777778,
             "#fb9f3a"
            ],
            [
             0.8888888888888888,
             "#fdca26"
            ],
            [
             1,
             "#f0f921"
            ]
           ],
           "sequentialminus": [
            [
             0,
             "#0d0887"
            ],
            [
             0.1111111111111111,
             "#46039f"
            ],
            [
             0.2222222222222222,
             "#7201a8"
            ],
            [
             0.3333333333333333,
             "#9c179e"
            ],
            [
             0.4444444444444444,
             "#bd3786"
            ],
            [
             0.5555555555555556,
             "#d8576b"
            ],
            [
             0.6666666666666666,
             "#ed7953"
            ],
            [
             0.7777777777777778,
             "#fb9f3a"
            ],
            [
             0.8888888888888888,
             "#fdca26"
            ],
            [
             1,
             "#f0f921"
            ]
           ]
          },
          "colorway": [
           "#636efa",
           "#EF553B",
           "#00cc96",
           "#ab63fa",
           "#FFA15A",
           "#19d3f3",
           "#FF6692",
           "#B6E880",
           "#FF97FF",
           "#FECB52"
          ],
          "font": {
           "color": "#2a3f5f"
          },
          "geo": {
           "bgcolor": "white",
           "lakecolor": "white",
           "landcolor": "#E5ECF6",
           "showlakes": true,
           "showland": true,
           "subunitcolor": "white"
          },
          "hoverlabel": {
           "align": "left"
          },
          "hovermode": "closest",
          "mapbox": {
           "style": "light"
          },
          "paper_bgcolor": "white",
          "plot_bgcolor": "#E5ECF6",
          "polar": {
           "angularaxis": {
            "gridcolor": "white",
            "linecolor": "white",
            "ticks": ""
           },
           "bgcolor": "#E5ECF6",
           "radialaxis": {
            "gridcolor": "white",
            "linecolor": "white",
            "ticks": ""
           }
          },
          "scene": {
           "xaxis": {
            "backgroundcolor": "#E5ECF6",
            "gridcolor": "white",
            "gridwidth": 2,
            "linecolor": "white",
            "showbackground": true,
            "ticks": "",
            "zerolinecolor": "white"
           },
           "yaxis": {
            "backgroundcolor": "#E5ECF6",
            "gridcolor": "white",
            "gridwidth": 2,
            "linecolor": "white",
            "showbackground": true,
            "ticks": "",
            "zerolinecolor": "white"
           },
           "zaxis": {
            "backgroundcolor": "#E5ECF6",
            "gridcolor": "white",
            "gridwidth": 2,
            "linecolor": "white",
            "showbackground": true,
            "ticks": "",
            "zerolinecolor": "white"
           }
          },
          "shapedefaults": {
           "line": {
            "color": "#2a3f5f"
           }
          },
          "ternary": {
           "aaxis": {
            "gridcolor": "white",
            "linecolor": "white",
            "ticks": ""
           },
           "baxis": {
            "gridcolor": "white",
            "linecolor": "white",
            "ticks": ""
           },
           "bgcolor": "#E5ECF6",
           "caxis": {
            "gridcolor": "white",
            "linecolor": "white",
            "ticks": ""
           }
          },
          "title": {
           "x": 0.05
          },
          "xaxis": {
           "automargin": true,
           "gridcolor": "white",
           "linecolor": "white",
           "ticks": "",
           "title": {
            "standoff": 15
           },
           "zerolinecolor": "white",
           "zerolinewidth": 2
          },
          "yaxis": {
           "automargin": true,
           "gridcolor": "white",
           "linecolor": "white",
           "ticks": "",
           "title": {
            "standoff": 15
           },
           "zerolinecolor": "white",
           "zerolinewidth": 2
          }
         }
        },
        "xaxis": {
         "anchor": "y",
         "autorange": true,
         "domain": [
          0,
          1
         ],
         "matches": "x2",
         "range": [
          0,
          31
         ],
         "showticklabels": false,
         "title": {
          "text": ""
         }
        },
        "xaxis2": {
         "anchor": "y2",
         "autorange": true,
         "domain": [
          0,
          1
         ],
         "range": [
          0,
          31
         ],
         "title": {
          "text": "Timestep"
         }
        },
        "yaxis": {
         "anchor": "x",
         "autorange": true,
         "domain": [
          0.575,
          1
         ],
         "range": [
          0,
          32.631578947368425
         ],
         "title": {
          "text": "Power supply (MW)"
         },
         "type": "linear"
        },
        "yaxis2": {
         "anchor": "x2",
         "autorange": true,
         "domain": [
          0,
          0.425
         ],
         "range": [
          0,
          3.1578947368421053
         ],
         "title": {
          "text": "On/off status"
         },
         "type": "linear"
        }
       }
      },
      "image/png": "[encoded data removed]",
      "text/html": [
       "<div>\n",
       "        \n",
       "        \n",
       "            <div id=\"988a99a1-c40d-47b1-82fb-7876301c6d65\" class=\"plotly-graph-div\" style=\"height:600px; width:100%;\"></div>\n",
       "            <script type=\"text/javascript\">\n",
       "                require([\"plotly\"], function(Plotly) {\n",
       "                    window.PLOTLYENV=window.PLOTLYENV || {};\n",
       "                    \n",
       "                if (document.getElementById(\"988a99a1-c40d-47b1-82fb-7876301c6d65\")) {\n",
       "                    Plotly.newPlot(\n",
       "                        '988a99a1-c40d-47b1-82fb-7876301c6d65',\n",
       "                        [{\"legendgroup\": \"GT1\", \"line\": {\"color\": \"rgb(255, 127, 14)\", \"shape\": \"hv\"}, \"name\": \"GT1\", \"stackgroup\": \"P\", \"type\": \"scatter\", \"xaxis\": \"x\", \"y\": [5.0, 5.0, 5.0, 5.0, 5.0, 5.0, 5.0, 5.0, 5.0, 5.0, 5.0, 6.0, 7.0, 8.0, 9.0, 10.0, 5.0, 5.0, 5.0, 9.0, 5.0, 5.0, 12.0, 13.0, 5.0, 15.0, 5.0, 5.0, 5.0, 19.0, 5.0, 6.0], \"yaxis\": \"y\"}, {\"legendgroup\": \"GT1\", \"line\": {\"color\": \"rgb(255, 127, 14)\", \"dash\": \"dash\", \"shape\": \"hv\"}, \"name\": \"GT1\", \"showlegend\": false, \"stackgroup\": \"ison\", \"type\": \"scatter\", \"xaxis\": \"x2\", \"y\": [1.0, 1.0, 1.0, 1.0, 1.0, 1.0, 1.0, 1.0, 1.0, 1.0, 1.0, 1.0, 1.0, 1.0, 1.0, 1.0, 1.0, 1.0, 1.0, 1.0, 1.0, 1.0, 1.0, 1.0, 1.0, 1.0, 1.0, 1.0, 1.0, 1.0, 1.0, 1.0], \"yaxis\": \"y2\"}, {\"legendgroup\": \"GT2\", \"line\": {\"color\": \"rgb(44, 160, 44)\", \"shape\": \"hv\"}, \"name\": \"GT2\", \"stackgroup\": \"P\", \"type\": \"scatter\", \"xaxis\": \"x\", \"y\": [5.0, 5.0, 5.0, 5.0, 5.0, 5.0, 5.0, 5.0, 5.0, 5.0, 5.0, 5.0, 5.0, 5.0, 5.0, 5.0, 6.0, 7.0, 8.0, 5.0, 10.0, 11.0, 5.0, 5.0, 14.0, 5.0, 16.0, 17.0, 18.0, 5.0, 20.0, 20.0], \"yaxis\": \"y\"}, {\"legendgroup\": \"GT2\", \"line\": {\"color\": \"rgb(44, 160, 44)\", \"dash\": \"dash\", \"shape\": \"hv\"}, \"name\": \"GT2\", \"showlegend\": false, \"stackgroup\": \"ison\", \"type\": \"scatter\", \"xaxis\": \"x2\", \"y\": [1.0, 1.0, 1.0, 1.0, 1.0, 1.0, 1.0, 1.0, 1.0, 1.0, 1.0, 1.0, 1.0, 1.0, 1.0, 1.0, 1.0, 1.0, 1.0, 1.0, 1.0, 1.0, 1.0, 1.0, 1.0, 1.0, 1.0, 1.0, 1.0, 1.0, 1.0, 1.0], \"yaxis\": \"y2\"}, {\"legendgroup\": \"GT3\", \"line\": {\"color\": \"rgb(214, 39, 40)\", \"shape\": \"hv\"}, \"name\": \"GT3\", \"stackgroup\": \"P\", \"type\": \"scatter\", \"xaxis\": \"x\", \"y\": [0.0, 0.0, 0.0, 0.0, 0.0, 0.0, 0.0, 0.0, 0.0, 0.0, 0.0, 0.0, 0.0, 0.0, 0.0, 0.0, 5.0, 5.0, 5.0, 5.0, 5.0, 5.0, 5.0, 5.0, 5.0, 5.0, 5.0, 5.0, 5.0, 5.0, 5.0, 5.0], \"yaxis\": \"y\"}, {\"legendgroup\": \"GT3\", \"line\": {\"color\": \"rgb(214, 39, 40)\", \"dash\": \"dash\", \"shape\": \"hv\"}, \"name\": \"GT3\", \"showlegend\": false, \"stackgroup\": \"ison\", \"type\": \"scatter\", \"xaxis\": \"x2\", \"y\": [0.0, 0.0, 0.0, 0.0, 0.0, 0.0, 0.0, 0.0, 0.0, 0.0, 0.0, 0.0, 0.0, 0.0, 0.0, 0.0, 1.0, 1.0, 1.0, 1.0, 1.0, 1.0, 1.0, 1.0, 1.0, 1.0, 1.0, 1.0, 1.0, 1.0, 1.0, 1.0], \"yaxis\": \"y2\"}],\n",
       "                        {\"height\": 600, \"legend\": {\"traceorder\": \"reversed\"}, \"template\": {\"data\": {\"bar\": [{\"error_x\": {\"color\": \"#2a3f5f\"}, \"error_y\": {\"color\": \"#2a3f5f\"}, \"marker\": {\"line\": {\"color\": \"#E5ECF6\", \"width\": 0.5}}, \"type\": \"bar\"}], \"barpolar\": [{\"marker\": {\"line\": {\"color\": \"#E5ECF6\", \"width\": 0.5}}, \"type\": \"barpolar\"}], \"carpet\": [{\"aaxis\": {\"endlinecolor\": \"#2a3f5f\", \"gridcolor\": \"white\", \"linecolor\": \"white\", \"minorgridcolor\": \"white\", \"startlinecolor\": \"#2a3f5f\"}, \"baxis\": {\"endlinecolor\": \"#2a3f5f\", \"gridcolor\": \"white\", \"linecolor\": \"white\", \"minorgridcolor\": \"white\", \"startlinecolor\": \"#2a3f5f\"}, \"type\": \"carpet\"}], \"choropleth\": [{\"colorbar\": {\"outlinewidth\": 0, \"ticks\": \"\"}, \"type\": \"choropleth\"}], \"contour\": [{\"colorbar\": {\"outlinewidth\": 0, \"ticks\": \"\"}, \"colorscale\": [[0.0, \"#0d0887\"], [0.1111111111111111, \"#46039f\"], [0.2222222222222222, \"#7201a8\"], [0.3333333333333333, \"#9c179e\"], [0.4444444444444444, \"#bd3786\"], [0.5555555555555556, \"#d8576b\"], [0.6666666666666666, \"#ed7953\"], [0.7777777777777778, \"#fb9f3a\"], [0.8888888888888888, \"#fdca26\"], [1.0, \"#f0f921\"]], \"type\": \"contour\"}], \"contourcarpet\": [{\"colorbar\": {\"outlinewidth\": 0, \"ticks\": \"\"}, \"type\": \"contourcarpet\"}], \"heatmap\": [{\"colorbar\": {\"outlinewidth\": 0, \"ticks\": \"\"}, \"colorscale\": [[0.0, \"#0d0887\"], [0.1111111111111111, \"#46039f\"], [0.2222222222222222, \"#7201a8\"], [0.3333333333333333, \"#9c179e\"], [0.4444444444444444, \"#bd3786\"], [0.5555555555555556, \"#d8576b\"], [0.6666666666666666, \"#ed7953\"], [0.7777777777777778, \"#fb9f3a\"], [0.8888888888888888, \"#fdca26\"], [1.0, \"#f0f921\"]], \"type\": \"heatmap\"}], \"heatmapgl\": [{\"colorbar\": {\"outlinewidth\": 0, \"ticks\": \"\"}, \"colorscale\": [[0.0, \"#0d0887\"], [0.1111111111111111, \"#46039f\"], [0.2222222222222222, \"#7201a8\"], [0.3333333333333333, \"#9c179e\"], [0.4444444444444444, \"#bd3786\"], [0.5555555555555556, \"#d8576b\"], [0.6666666666666666, \"#ed7953\"], [0.7777777777777778, \"#fb9f3a\"], [0.8888888888888888, \"#fdca26\"], [1.0, \"#f0f921\"]], \"type\": \"heatmapgl\"}], \"histogram\": [{\"marker\": {\"colorbar\": {\"outlinewidth\": 0, \"ticks\": \"\"}}, \"type\": \"histogram\"}], \"histogram2d\": [{\"colorbar\": {\"outlinewidth\": 0, \"ticks\": \"\"}, \"colorscale\": [[0.0, \"#0d0887\"], [0.1111111111111111, \"#46039f\"], [0.2222222222222222, \"#7201a8\"], [0.3333333333333333, \"#9c179e\"], [0.4444444444444444, \"#bd3786\"], [0.5555555555555556, \"#d8576b\"], [0.6666666666666666, \"#ed7953\"], [0.7777777777777778, \"#fb9f3a\"], [0.8888888888888888, \"#fdca26\"], [1.0, \"#f0f921\"]], \"type\": \"histogram2d\"}], \"histogram2dcontour\": [{\"colorbar\": {\"outlinewidth\": 0, \"ticks\": \"\"}, \"colorscale\": [[0.0, \"#0d0887\"], [0.1111111111111111, \"#46039f\"], [0.2222222222222222, \"#7201a8\"], [0.3333333333333333, \"#9c179e\"], [0.4444444444444444, \"#bd3786\"], [0.5555555555555556, \"#d8576b\"], [0.6666666666666666, \"#ed7953\"], [0.7777777777777778, \"#fb9f3a\"], [0.8888888888888888, \"#fdca26\"], [1.0, \"#f0f921\"]], \"type\": \"histogram2dcontour\"}], \"mesh3d\": [{\"colorbar\": {\"outlinewidth\": 0, \"ticks\": \"\"}, \"type\": \"mesh3d\"}], \"parcoords\": [{\"line\": {\"colorbar\": {\"outlinewidth\": 0, \"ticks\": \"\"}}, \"type\": \"parcoords\"}], \"pie\": [{\"automargin\": true, \"type\": \"pie\"}], \"scatter\": [{\"marker\": {\"colorbar\": {\"outlinewidth\": 0, \"ticks\": \"\"}}, \"type\": \"scatter\"}], \"scatter3d\": [{\"line\": {\"colorbar\": {\"outlinewidth\": 0, \"ticks\": \"\"}}, \"marker\": {\"colorbar\": {\"outlinewidth\": 0, \"ticks\": \"\"}}, \"type\": \"scatter3d\"}], \"scattercarpet\": [{\"marker\": {\"colorbar\": {\"outlinewidth\": 0, \"ticks\": \"\"}}, \"type\": \"scattercarpet\"}], \"scattergeo\": [{\"marker\": {\"colorbar\": {\"outlinewidth\": 0, \"ticks\": \"\"}}, \"type\": \"scattergeo\"}], \"scattergl\": [{\"marker\": {\"colorbar\": {\"outlinewidth\": 0, \"ticks\": \"\"}}, \"type\": \"scattergl\"}], \"scattermapbox\": [{\"marker\": {\"colorbar\": {\"outlinewidth\": 0, \"ticks\": \"\"}}, \"type\": \"scattermapbox\"}], \"scatterpolar\": [{\"marker\": {\"colorbar\": {\"outlinewidth\": 0, \"ticks\": \"\"}}, \"type\": \"scatterpolar\"}], \"scatterpolargl\": [{\"marker\": {\"colorbar\": {\"outlinewidth\": 0, \"ticks\": \"\"}}, \"type\": \"scatterpolargl\"}], \"scatterternary\": [{\"marker\": {\"colorbar\": {\"outlinewidth\": 0, \"ticks\": \"\"}}, \"type\": \"scatterternary\"}], \"surface\": [{\"colorbar\": {\"outlinewidth\": 0, \"ticks\": \"\"}, \"colorscale\": [[0.0, \"#0d0887\"], [0.1111111111111111, \"#46039f\"], [0.2222222222222222, \"#7201a8\"], [0.3333333333333333, \"#9c179e\"], [0.4444444444444444, \"#bd3786\"], [0.5555555555555556, \"#d8576b\"], [0.6666666666666666, \"#ed7953\"], [0.7777777777777778, \"#fb9f3a\"], [0.8888888888888888, \"#fdca26\"], [1.0, \"#f0f921\"]], \"type\": \"surface\"}], \"table\": [{\"cells\": {\"fill\": {\"color\": \"#EBF0F8\"}, \"line\": {\"color\": \"white\"}}, \"header\": {\"fill\": {\"color\": \"#C8D4E3\"}, \"line\": {\"color\": \"white\"}}, \"type\": \"table\"}]}, \"layout\": {\"annotationdefaults\": {\"arrowcolor\": \"#2a3f5f\", \"arrowhead\": 0, \"arrowwidth\": 1}, \"coloraxis\": {\"colorbar\": {\"outlinewidth\": 0, \"ticks\": \"\"}}, \"colorscale\": {\"diverging\": [[0, \"#8e0152\"], [0.1, \"#c51b7d\"], [0.2, \"#de77ae\"], [0.3, \"#f1b6da\"], [0.4, \"#fde0ef\"], [0.5, \"#f7f7f7\"], [0.6, \"#e6f5d0\"], [0.7, \"#b8e186\"], [0.8, \"#7fbc41\"], [0.9, \"#4d9221\"], [1, \"#276419\"]], \"sequential\": [[0.0, \"#0d0887\"], [0.1111111111111111, \"#46039f\"], [0.2222222222222222, \"#7201a8\"], [0.3333333333333333, \"#9c179e\"], [0.4444444444444444, \"#bd3786\"], [0.5555555555555556, \"#d8576b\"], [0.6666666666666666, \"#ed7953\"], [0.7777777777777778, \"#fb9f3a\"], [0.8888888888888888, \"#fdca26\"], [1.0, \"#f0f921\"]], \"sequentialminus\": [[0.0, \"#0d0887\"], [0.1111111111111111, \"#46039f\"], [0.2222222222222222, \"#7201a8\"], [0.3333333333333333, \"#9c179e\"], [0.4444444444444444, \"#bd3786\"], [0.5555555555555556, \"#d8576b\"], [0.6666666666666666, \"#ed7953\"], [0.7777777777777778, \"#fb9f3a\"], [0.8888888888888888, \"#fdca26\"], [1.0, \"#f0f921\"]]}, \"colorway\": [\"#636efa\", \"#EF553B\", \"#00cc96\", \"#ab63fa\", \"#FFA15A\", \"#19d3f3\", \"#FF6692\", \"#B6E880\", \"#FF97FF\", \"#FECB52\"], \"font\": {\"color\": \"#2a3f5f\"}, \"geo\": {\"bgcolor\": \"white\", \"lakecolor\": \"white\", \"landcolor\": \"#E5ECF6\", \"showlakes\": true, \"showland\": true, \"subunitcolor\": \"white\"}, \"hoverlabel\": {\"align\": \"left\"}, \"hovermode\": \"closest\", \"mapbox\": {\"style\": \"light\"}, \"paper_bgcolor\": \"white\", \"plot_bgcolor\": \"#E5ECF6\", \"polar\": {\"angularaxis\": {\"gridcolor\": \"white\", \"linecolor\": \"white\", \"ticks\": \"\"}, \"bgcolor\": \"#E5ECF6\", \"radialaxis\": {\"gridcolor\": \"white\", \"linecolor\": \"white\", \"ticks\": \"\"}}, \"scene\": {\"xaxis\": {\"backgroundcolor\": \"#E5ECF6\", \"gridcolor\": \"white\", \"gridwidth\": 2, \"linecolor\": \"white\", \"showbackground\": true, \"ticks\": \"\", \"zerolinecolor\": \"white\"}, \"yaxis\": {\"backgroundcolor\": \"#E5ECF6\", \"gridcolor\": \"white\", \"gridwidth\": 2, \"linecolor\": \"white\", \"showbackground\": true, \"ticks\": \"\", \"zerolinecolor\": \"white\"}, \"zaxis\": {\"backgroundcolor\": \"#E5ECF6\", \"gridcolor\": \"white\", \"gridwidth\": 2, \"linecolor\": \"white\", \"showbackground\": true, \"ticks\": \"\", \"zerolinecolor\": \"white\"}}, \"shapedefaults\": {\"line\": {\"color\": \"#2a3f5f\"}}, \"ternary\": {\"aaxis\": {\"gridcolor\": \"white\", \"linecolor\": \"white\", \"ticks\": \"\"}, \"baxis\": {\"gridcolor\": \"white\", \"linecolor\": \"white\", \"ticks\": \"\"}, \"bgcolor\": \"#E5ECF6\", \"caxis\": {\"gridcolor\": \"white\", \"linecolor\": \"white\", \"ticks\": \"\"}}, \"title\": {\"x\": 0.05}, \"xaxis\": {\"automargin\": true, \"gridcolor\": \"white\", \"linecolor\": \"white\", \"ticks\": \"\", \"title\": {\"standoff\": 15}, \"zerolinecolor\": \"white\", \"zerolinewidth\": 2}, \"yaxis\": {\"automargin\": true, \"gridcolor\": \"white\", \"linecolor\": \"white\", \"ticks\": \"\", \"title\": {\"standoff\": 15}, \"zerolinecolor\": \"white\", \"zerolinewidth\": 2}}}, \"xaxis\": {\"anchor\": \"y\", \"domain\": [0.0, 1.0], \"matches\": \"x2\", \"showticklabels\": false, \"title\": {\"text\": \"\"}}, \"xaxis2\": {\"anchor\": \"y2\", \"domain\": [0.0, 1.0], \"title\": {\"text\": \"Timestep\"}}, \"yaxis\": {\"anchor\": \"x\", \"domain\": [0.575, 1.0], \"title\": {\"text\": \"Power supply (MW)\"}}, \"yaxis2\": {\"anchor\": \"x2\", \"domain\": [0.0, 0.425], \"title\": {\"text\": \"On/off status\"}}},\n",
       "                        {\"responsive\": true}\n",
       "                    ).then(function(){\n",
       "                            \n",
       "var gd = document.getElementById('988a99a1-c40d-47b1-82fb-7876301c6d65');\n",
       "var x = new MutationObserver(function (mutations, observer) {{\n",
       "        var display = window.getComputedStyle(gd).display;\n",
       "        if (!display || display === 'none') {{\n",
       "            console.log([gd, 'removed!']);\n",
       "            Plotly.purge(gd);\n",
       "            observer.disconnect();\n",
       "        }}\n",
       "}});\n",
       "\n",
       "// Listen for the removal of the full notebook cells\n",
       "var notebookContainer = gd.closest('#notebook-container');\n",
       "if (notebookContainer) {{\n",
       "    x.observe(notebookContainer, {childList: true});\n",
       "}}\n",
       "\n",
       "// Listen for the clearing of the current output cell\n",
       "var outputEl = gd.closest('.output');\n",
       "if (outputEl) {{\n",
       "    x.observe(outputEl, {childList: true});\n",
       "}}\n",
       "\n",
       "                        })\n",
       "                };\n",
       "                });\n",
       "            </script>\n",
       "        </div>"
      ]
     },
     "metadata": {},
     "output_type": "display_data"
    }
   ],
   "source": [
    "plots.plot_deviceprofile(mc,devs=['GT1','GT2','GT3'],includeOnOff=True)"
   ]
  },
  {
   "cell_type": "code",
   "execution_count": 165,
   "metadata": {},
   "outputs": [
    {
     "data": {
      "image/png": "[encoded data removed]",
      "text/plain": [
       "<Figure size 864x288 with 1 Axes>"
      ]
     },
     "metadata": {},
     "output_type": "display_data"
    }
   ],
   "source": [
    "#plots.plot_CO2rate(mc)\n",
    "plots.plot_CO2rate_per_dev(mc)"
   ]
  },
  {
   "cell_type": "code",
   "execution_count": 13,
   "metadata": {},
   "outputs": [
    {
     "data": {
      "image/png": "[encoded data removed]",
      "text/plain": [
       "<Figure size 864x288 with 1 Axes>"
      ]
     },
     "metadata": {},
     "output_type": "display_data"
    }
   ],
   "source": [
    "plots.plotElReserve(mc)"
   ]
  },
  {
   "cell_type": "code",
   "execution_count": null,
   "metadata": {},
   "outputs": [],
   "source": []
  }
 ],
 "metadata": {
  "kernelspec": {
   "display_name": "Python 3",
   "language": "python",
   "name": "python3"
  },
  "language_info": {
   "codemirror_mode": {
    "name": "ipython",
    "version": 3
   },
   "file_extension": ".py",
   "mimetype": "text/x-python",
   "name": "python",
   "nbconvert_exporter": "python",
   "pygments_lexer": "ipython3",
   "version": "3.7.4"
  },
  "widgets": {
   "application/vnd.jupyter.widget-state+json": {
    "state": {},
    "version_major": 2,
    "version_minor": 0
   }
  }
 },
 "nbformat": 4,
 "nbformat_minor": 4
}
