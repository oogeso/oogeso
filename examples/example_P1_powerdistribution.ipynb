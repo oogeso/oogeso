{
 "cells": [
  {
   "cell_type": "markdown",
   "id": "563d1a29",
   "metadata": {},
   "source": [
    "# Simple power distribution optimisation example\n",
    "This example includes the electical system, with the aim to optimise power supply and distribution in a cluster of platforms with varying power demand"
   ]
  },
  {
   "cell_type": "code",
   "execution_count": 13,
   "id": "afd75d38",
   "metadata": {},
   "outputs": [
    {
     "name": "stdout",
     "output_type": "stream",
     "text": [
      "The autoreload extension is already loaded. To reload it, use:\n",
      "  %reload_ext autoreload\n"
     ]
    }
   ],
   "source": [
    "%load_ext autoreload\n",
    "%autoreload 2\n",
    "from dataclasses import asdict\n",
    "from oogeso.plots import plots\n",
    "import oogeso.io.file_io\n",
    "import IPython.display\n",
    "import numpy as np\n",
    "import pandas as pd\n",
    "import logging\n",
    "import pprint\n",
    "import ipywidgets\n",
    "import plotly.express as px\n",
    "logging.basicConfig()\n",
    "logger = logging.getLogger()\n",
    "logger.setLevel(logging.INFO)"
   ]
  },
  {
   "cell_type": "markdown",
   "id": "c4371c65",
   "metadata": {},
   "source": [
    "## Read input data and create optimisation problem"
   ]
  },
  {
   "cell_type": "code",
   "execution_count": 14,
   "id": "4f7a38d7",
   "metadata": {},
   "outputs": [
    {
     "ename": "TypeError",
     "evalue": "__init__() got an unexpected keyword argument 'el_reserve_margin'",
     "output_type": "error",
     "traceback": [
      "\u001B[0;31m---------------------------------------------------------------------------\u001B[0m",
      "\u001B[0;31mTypeError\u001B[0m                                 Traceback (most recent call last)",
      "\u001B[0;32m/var/folders/dv/11nzbyvx5jl24307gvr37vxr0000gp/T/ipykernel_22243/260983040.py\u001B[0m in \u001B[0;36m<module>\u001B[0;34m\u001B[0m\n\u001B[1;32m      2\u001B[0m \u001B[0mtime_range\u001B[0m \u001B[0;34m=\u001B[0m \u001B[0;34m[\u001B[0m\u001B[0;36m0\u001B[0m\u001B[0;34m,\u001B[0m\u001B[0;36m6\u001B[0m\u001B[0;34m]\u001B[0m\u001B[0;34m\u001B[0m\u001B[0;34m\u001B[0m\u001B[0m\n\u001B[1;32m      3\u001B[0m \u001B[0;34m\u001B[0m\u001B[0m\n\u001B[0;32m----> 4\u001B[0;31m \u001B[0mdata\u001B[0m \u001B[0;34m=\u001B[0m \u001B[0moogeso\u001B[0m\u001B[0;34m.\u001B[0m\u001B[0mio\u001B[0m\u001B[0;34m.\u001B[0m\u001B[0mfile_io\u001B[0m\u001B[0;34m.\u001B[0m\u001B[0mread_data_from_yaml\u001B[0m\u001B[0;34m(\u001B[0m\u001B[0;34m'example_P1_powerdistribution.yaml'\u001B[0m\u001B[0;34m)\u001B[0m\u001B[0;34m\u001B[0m\u001B[0;34m\u001B[0m\u001B[0m\n\u001B[0m\u001B[1;32m      5\u001B[0m \u001B[0;31m#with open(\"skjold.json\",\"w\") as f:\u001B[0m\u001B[0;34m\u001B[0m\u001B[0;34m\u001B[0m\u001B[0m\n\u001B[1;32m      6\u001B[0m \u001B[0;31m#    f.write(serialize_oogeso_data(data))\u001B[0m\u001B[0;34m\u001B[0m\u001B[0;34m\u001B[0m\u001B[0m\n",
      "\u001B[0;32m~/Projects/oogeso/src/oogeso/io/file_io.py\u001B[0m in \u001B[0;36mread_data_from_yaml\u001B[0;34m(filename, profiles, profiles_nowcast)\u001B[0m\n\u001B[1;32m     32\u001B[0m     \u001B[0mjson_str\u001B[0m \u001B[0;34m=\u001B[0m \u001B[0mjson\u001B[0m\u001B[0;34m.\u001B[0m\u001B[0mdumps\u001B[0m\u001B[0;34m(\u001B[0m\u001B[0mdata_dict\u001B[0m\u001B[0;34m)\u001B[0m\u001B[0;34m\u001B[0m\u001B[0;34m\u001B[0m\u001B[0m\n\u001B[1;32m     33\u001B[0m     \u001B[0mdecoder\u001B[0m \u001B[0;34m=\u001B[0m \u001B[0mDataclassJSONDecoder\u001B[0m\u001B[0;34m(\u001B[0m\u001B[0;34m)\u001B[0m\u001B[0;34m\u001B[0m\u001B[0;34m\u001B[0m\u001B[0m\n\u001B[0;32m---> 34\u001B[0;31m     \u001B[0menergy_system\u001B[0m \u001B[0;34m=\u001B[0m \u001B[0mdecoder\u001B[0m\u001B[0;34m.\u001B[0m\u001B[0mdecode\u001B[0m\u001B[0;34m(\u001B[0m\u001B[0mjson_str\u001B[0m\u001B[0;34m)\u001B[0m\u001B[0;34m\u001B[0m\u001B[0;34m\u001B[0m\u001B[0m\n\u001B[0m\u001B[1;32m     35\u001B[0m     \u001B[0;32mreturn\u001B[0m \u001B[0menergy_system\u001B[0m\u001B[0;34m\u001B[0m\u001B[0;34m\u001B[0m\u001B[0m\n\u001B[1;32m     36\u001B[0m \u001B[0;34m\u001B[0m\u001B[0m\n",
      "\u001B[0;32m/usr/local/Cellar/python@3.9/3.9.9/Frameworks/Python.framework/Versions/3.9/lib/python3.9/json/decoder.py\u001B[0m in \u001B[0;36mdecode\u001B[0;34m(self, s, _w)\u001B[0m\n\u001B[1;32m    335\u001B[0m \u001B[0;34m\u001B[0m\u001B[0m\n\u001B[1;32m    336\u001B[0m         \"\"\"\n\u001B[0;32m--> 337\u001B[0;31m         \u001B[0mobj\u001B[0m\u001B[0;34m,\u001B[0m \u001B[0mend\u001B[0m \u001B[0;34m=\u001B[0m \u001B[0mself\u001B[0m\u001B[0;34m.\u001B[0m\u001B[0mraw_decode\u001B[0m\u001B[0;34m(\u001B[0m\u001B[0ms\u001B[0m\u001B[0;34m,\u001B[0m \u001B[0midx\u001B[0m\u001B[0;34m=\u001B[0m\u001B[0m_w\u001B[0m\u001B[0;34m(\u001B[0m\u001B[0ms\u001B[0m\u001B[0;34m,\u001B[0m \u001B[0;36m0\u001B[0m\u001B[0;34m)\u001B[0m\u001B[0;34m.\u001B[0m\u001B[0mend\u001B[0m\u001B[0;34m(\u001B[0m\u001B[0;34m)\u001B[0m\u001B[0;34m)\u001B[0m\u001B[0;34m\u001B[0m\u001B[0;34m\u001B[0m\u001B[0m\n\u001B[0m\u001B[1;32m    338\u001B[0m         \u001B[0mend\u001B[0m \u001B[0;34m=\u001B[0m \u001B[0m_w\u001B[0m\u001B[0;34m(\u001B[0m\u001B[0ms\u001B[0m\u001B[0;34m,\u001B[0m \u001B[0mend\u001B[0m\u001B[0;34m)\u001B[0m\u001B[0;34m.\u001B[0m\u001B[0mend\u001B[0m\u001B[0;34m(\u001B[0m\u001B[0;34m)\u001B[0m\u001B[0;34m\u001B[0m\u001B[0;34m\u001B[0m\u001B[0m\n\u001B[1;32m    339\u001B[0m         \u001B[0;32mif\u001B[0m \u001B[0mend\u001B[0m \u001B[0;34m!=\u001B[0m \u001B[0mlen\u001B[0m\u001B[0;34m(\u001B[0m\u001B[0ms\u001B[0m\u001B[0;34m)\u001B[0m\u001B[0;34m:\u001B[0m\u001B[0;34m\u001B[0m\u001B[0;34m\u001B[0m\u001B[0m\n",
      "\u001B[0;32m/usr/local/Cellar/python@3.9/3.9.9/Frameworks/Python.framework/Versions/3.9/lib/python3.9/json/decoder.py\u001B[0m in \u001B[0;36mraw_decode\u001B[0;34m(self, s, idx)\u001B[0m\n\u001B[1;32m    351\u001B[0m         \"\"\"\n\u001B[1;32m    352\u001B[0m         \u001B[0;32mtry\u001B[0m\u001B[0;34m:\u001B[0m\u001B[0;34m\u001B[0m\u001B[0;34m\u001B[0m\u001B[0m\n\u001B[0;32m--> 353\u001B[0;31m             \u001B[0mobj\u001B[0m\u001B[0;34m,\u001B[0m \u001B[0mend\u001B[0m \u001B[0;34m=\u001B[0m \u001B[0mself\u001B[0m\u001B[0;34m.\u001B[0m\u001B[0mscan_once\u001B[0m\u001B[0;34m(\u001B[0m\u001B[0ms\u001B[0m\u001B[0;34m,\u001B[0m \u001B[0midx\u001B[0m\u001B[0;34m)\u001B[0m\u001B[0;34m\u001B[0m\u001B[0;34m\u001B[0m\u001B[0m\n\u001B[0m\u001B[1;32m    354\u001B[0m         \u001B[0;32mexcept\u001B[0m \u001B[0mStopIteration\u001B[0m \u001B[0;32mas\u001B[0m \u001B[0merr\u001B[0m\u001B[0;34m:\u001B[0m\u001B[0;34m\u001B[0m\u001B[0;34m\u001B[0m\u001B[0m\n\u001B[1;32m    355\u001B[0m             \u001B[0;32mraise\u001B[0m \u001B[0mJSONDecodeError\u001B[0m\u001B[0;34m(\u001B[0m\u001B[0;34m\"Expecting value\"\u001B[0m\u001B[0;34m,\u001B[0m \u001B[0ms\u001B[0m\u001B[0;34m,\u001B[0m \u001B[0merr\u001B[0m\u001B[0;34m.\u001B[0m\u001B[0mvalue\u001B[0m\u001B[0;34m)\u001B[0m \u001B[0;32mfrom\u001B[0m \u001B[0;32mNone\u001B[0m\u001B[0;34m\u001B[0m\u001B[0;34m\u001B[0m\u001B[0m\n",
      "\u001B[0;32m~/Projects/oogeso/src/oogeso/dto/serialisation.py\u001B[0m in \u001B[0;36mobject_hook\u001B[0;34m(self, dct)\u001B[0m\n\u001B[1;32m     84\u001B[0m             \u001B[0;31m# Top level\u001B[0m\u001B[0;34m\u001B[0m\u001B[0;34m\u001B[0m\u001B[0m\n\u001B[1;32m     85\u001B[0m             \u001B[0md_params\u001B[0m \u001B[0;34m=\u001B[0m \u001B[0mdct\u001B[0m\u001B[0;34m[\u001B[0m\u001B[0;34m\"parameters\"\u001B[0m\u001B[0;34m]\u001B[0m\u001B[0;34m\u001B[0m\u001B[0;34m\u001B[0m\u001B[0m\n\u001B[0;32m---> 86\u001B[0;31m             \u001B[0mparams\u001B[0m \u001B[0;34m=\u001B[0m \u001B[0mdto\u001B[0m\u001B[0;34m.\u001B[0m\u001B[0mOptimisationParametersData\u001B[0m\u001B[0;34m(\u001B[0m\u001B[0;34m**\u001B[0m\u001B[0md_params\u001B[0m\u001B[0;34m)\u001B[0m\u001B[0;34m\u001B[0m\u001B[0;34m\u001B[0m\u001B[0m\n\u001B[0m\u001B[1;32m     87\u001B[0m             \u001B[0;32mfor\u001B[0m \u001B[0mn\u001B[0m \u001B[0;32min\u001B[0m \u001B[0mdct\u001B[0m\u001B[0;34m[\u001B[0m\u001B[0;34m\"carriers\"\u001B[0m\u001B[0;34m]\u001B[0m\u001B[0;34m:\u001B[0m\u001B[0;34m\u001B[0m\u001B[0;34m\u001B[0m\u001B[0m\n\u001B[1;32m     88\u001B[0m                 \u001B[0mcarriers\u001B[0m\u001B[0;34m.\u001B[0m\u001B[0mappend\u001B[0m\u001B[0;34m(\u001B[0m\u001B[0mself\u001B[0m\u001B[0;34m.\u001B[0m\u001B[0m_new_carrier\u001B[0m\u001B[0;34m(\u001B[0m\u001B[0mn\u001B[0m\u001B[0;34m)\u001B[0m\u001B[0;34m)\u001B[0m\u001B[0;34m\u001B[0m\u001B[0;34m\u001B[0m\u001B[0m\n",
      "\u001B[0;31mTypeError\u001B[0m: __init__() got an unexpected keyword argument 'el_reserve_margin'"
     ]
    }
   ],
   "source": [
    "#timerange=[0,400] # testing\n",
    "time_range = [0,6]\n",
    "\n",
    "data = oogeso.io.file_io.read_data_from_yaml('example_P1_powerdistribution.yaml')\n",
    "#with open(\"skjold.json\",\"w\") as f:\n",
    "#    f.write(serialize_oogeso_data(data))\n",
    "    \n",
    "# Creating simulation/optimisation object:\n",
    "sim = oogeso.Simulator(data)"
   ]
  },
  {
   "cell_type": "code",
   "execution_count": null,
   "id": "232a0386",
   "metadata": {},
   "outputs": [],
   "source": [
    "@ipywidgets.interact(datagroup=['','devices','nodes','edges','carriers','parameters','profiles'])\n",
    "def showdata(datagroup):\n",
    "    pprint.pprint(asdict(data)[datagroup],indent=1) if datagroup!='' else print('')\n",
    "yy=['']+list(sim.optimiser.component_objects(oogeso.optimiser.pyo.Constraint, active=True))\n",
    "@ipywidgets.interact(constraint=yy)\n",
    "def showdata(constraint):\n",
    "    pprint.pprint(constraint.pprint(),width=1) if constraint!='' else print('')"
   ]
  },
  {
   "cell_type": "code",
   "execution_count": null,
   "id": "8b0c46df",
   "metadata": {},
   "outputs": [],
   "source": [
    "dotG=plots.plot_network(sim,timestep=None,filename=None,rankdir='LR')\n",
    "IPython.display.Image(dotG.create_png())"
   ]
  },
  {
   "cell_type": "code",
   "execution_count": null,
   "id": "3d6ea080",
   "metadata": {},
   "outputs": [],
   "source": [
    "plots.plot_profiles(data.profiles).update_layout(autosize=False,width=800,height=300,margin=dict(l=0,r=0,t=30,b=0))"
   ]
  },
  {
   "cell_type": "code",
   "execution_count": null,
   "id": "64c30ac0",
   "metadata": {},
   "outputs": [],
   "source": [
    "plotdata=pd.DataFrame()\n",
    "for i,e in sim.optimiser.all_edges.items():\n",
    "    ploss_func=e.edge_data.power_loss_function\n",
    "    if ploss_func is not None:\n",
    "        plotdata=pd.concat([plotdata,pd.DataFrame(data={i:ploss_func[1]},index=ploss_func[0])])\n",
    "px.line(plotdata).update_layout(autosize=False,width=700,height=300,margin=dict(l=0,r=0,t=30,b=0),\n",
    "    xaxis_title=\"Power transfer (MW)\",yaxis_title=\"Power loss (MW)\",legend_title=\"Edge\").show()\n",
    "plotdata={}\n",
    "for d,dev in sim.optimiser.all_devices.items():\n",
    "    if hasattr(dev.dev_data,\"penalty_function\"): \n",
    "        func=dev.dev_data.penalty_function\n",
    "        plotdata[d]=(pd.Series(data=func[1],index=func[0]))\n",
    "plotdata = pd.concat(plotdata,axis=1).interpolate(\"linear\",limit_area=\"inside\")\n",
    "px.line(plotdata).update_layout(autosize=False,width=800,height=300,margin=dict(l=0,r=0,t=30,b=0),\n",
    "    xaxis_title=\"Power (MW)\",yaxis_title=\"Penalty\",legend_title=\"Device\").show()"
   ]
  },
  {
   "cell_type": "markdown",
   "id": "38170869",
   "metadata": {},
   "source": [
    "## Solve"
   ]
  },
  {
   "cell_type": "code",
   "execution_count": null,
   "id": "57f48897",
   "metadata": {},
   "outputs": [],
   "source": [
    "sim_result = sim.runSimulation(solver=\"cbc\",timerange=time_range,write_yaml=False,timelimit=20)"
   ]
  },
  {
   "cell_type": "code",
   "execution_count": null,
   "id": "a5568dce",
   "metadata": {},
   "outputs": [],
   "source": []
  },
  {
   "cell_type": "code",
   "execution_count": null,
   "id": "16641fd4",
   "metadata": {},
   "outputs": [],
   "source": [
    "dotG=plots.plot_network(simulator=sim,timestep=1,filename=None,rankdir='LR')\n",
    "IPython.display.Image(dotG.create_png())"
   ]
  },
  {
   "cell_type": "markdown",
   "id": "ab056245",
   "metadata": {},
   "source": [
    "## Analyse results"
   ]
  },
  {
   "cell_type": "code",
   "execution_count": null,
   "id": "e63a7e09",
   "metadata": {},
   "outputs": [],
   "source": [
    "plots.plot_sum_power_mix(sim_result,\"el\")"
   ]
  },
  {
   "cell_type": "code",
   "execution_count": null,
   "id": "c00be4b7",
   "metadata": {},
   "outputs": [],
   "source": [
    "gts = [d for d,d_obj in sim.optimiser.all_devices.items() if d_obj.dev_data.model=='powersource']\n",
    "fig=plots.plot_device_profile(sim_result,devs=gts,include_on_off=True, include_prep=False)\n",
    "fig.update_layout(autosize=False,width=800,height=400,margin=dict(l=0,r=0,t=30,b=0))"
   ]
  },
  {
   "cell_type": "code",
   "execution_count": null,
   "id": "68f38e2a",
   "metadata": {},
   "outputs": [],
   "source": []
  },
  {
   "cell_type": "code",
   "execution_count": null,
   "id": "0c02be7d",
   "metadata": {},
   "outputs": [],
   "source": [
    "dfplot = sim_result.dfPenalty#.unstack(\"device\")\n",
    "dfplot.index.name=\"Timestep\"\n",
    "dfplot.columns.name=\"Device\"\n",
    "px.area(dfplot,line_shape=\"hv\",title=\"Penalty contribution per device\"\n",
    "    ).update_layout(legend_traceorder=\"reversed\",yaxis_title=\"Penalty\",\n",
    "                    autosize=False,width=800,height=300,\n",
    "                    margin=dict(l=0,r=0,t=30,b=0))"
   ]
  },
  {
   "cell_type": "code",
   "execution_count": null,
   "id": "8404e92f",
   "metadata": {},
   "outputs": [],
   "source": [
    "plots.plot_reserve(sim_result).update_layout(autosize=False,width=800,height=300,margin=dict(l=0,r=0,t=30,b=0))"
   ]
  },
  {
   "cell_type": "code",
   "execution_count": null,
   "id": "4685232c",
   "metadata": {},
   "outputs": [],
   "source": [
    "px.line(sim_result.dfEdgeFlow.unstack(\"edge\"),title=\"Edge flow\",line_shape=\"hv\").update_layout(\n",
    "    autosize=False,width=700,height=300,margin=dict(l=0,r=0,t=30,b=0))"
   ]
  },
  {
   "cell_type": "code",
   "execution_count": null,
   "id": "5ff66ca2",
   "metadata": {},
   "outputs": [],
   "source": []
  },
  {
   "cell_type": "code",
   "execution_count": null,
   "id": "2d7d55e0",
   "metadata": {},
   "outputs": [],
   "source": [
    "#sim.optimiser.varEdgeLoss12[\"e1\",10]"
   ]
  },
  {
   "cell_type": "code",
   "execution_count": null,
   "id": "6629cf62",
   "metadata": {},
   "outputs": [],
   "source": [
    "#sim.optimiser.varDeviceIsOn.pprint()"
   ]
  },
  {
   "cell_type": "code",
   "execution_count": null,
   "id": "cff50d49",
   "metadata": {},
   "outputs": [],
   "source": [
    "#sim.optimiser.varDevicePenalty[\"GT_A1\",\"el\",\"out\",:].pprint()"
   ]
  },
  {
   "cell_type": "code",
   "execution_count": null,
   "id": "30b00400",
   "metadata": {},
   "outputs": [],
   "source": [
    "#sim.optimiser.varEdgeLoss.pprint()"
   ]
  },
  {
   "cell_type": "code",
   "execution_count": null,
   "id": "150bb84c",
   "metadata": {},
   "outputs": [],
   "source": [
    "plots.plot_el_backup(sim_result, show_margin=True)"
   ]
  },
  {
   "cell_type": "markdown",
   "id": "308f987f",
   "metadata": {},
   "source": [
    "Thermal losses in conductors:\n",
    "\n",
    "3-phase power: $P = \\sqrt {3} V_L I_L \\cos{\\theta} \\Rightarrow I_L = \\frac{P}{V_L \\sqrt{3}\\cos{\\theta}}$  \n",
    "Total losses:  $P^{loss} = 3 I_L^2 R_L = \\frac{P^2 R_L}{V_L^2 \\cos{\\theta}}$"
   ]
  },
  {
   "cell_type": "code",
   "execution_count": null,
   "id": "1cb41a66",
   "metadata": {},
   "outputs": [],
   "source": [
    "def cable_loss(power_flow_mw,voltage_kv,resistance_per_conductor_ohm,cos_theta=1):\n",
    "    # TODO: check factors\n",
    "    current_per_conductor_ka = power_flow_mw/(voltage_kv*np.sqrt(3)*cos_theta)\n",
    "    losses=3*(current_per_conductor_ka**2 * resistance_per_conductor_ohm)\n",
    "    return losses"
   ]
  },
  {
   "cell_type": "code",
   "execution_count": null,
   "id": "2c26ffed",
   "metadata": {},
   "outputs": [],
   "source": [
    "# losses 20 km cable, R=0.1 ohm/km per conductor\n",
    "df=pd.DataFrame()\n",
    "df[\"pwflow\"]=range(0,51,5)\n",
    "df[\"pwloss_10\"] = df[\"pwflow\"].apply(cable_loss,voltage_kv=10,resistance_per_conductor_ohm=0.1*20)\n",
    "df[\"pwloss_20\"] = df[\"pwflow\"].apply(cable_loss,voltage_kv=20,resistance_per_conductor_ohm=0.1*20)\n",
    "df[\"pwloss_30\"] = df[\"pwflow\"].apply(cable_loss,voltage_kv=30,resistance_per_conductor_ohm=0.1*20)\n",
    "px.line(df.set_index(\"pwflow\"))"
   ]
  },
  {
   "cell_type": "code",
   "execution_count": null,
   "id": "dcb5c2ac",
   "metadata": {},
   "outputs": [],
   "source": []
  },
  {
   "cell_type": "code",
   "execution_count": null,
   "id": "bf4022d9",
   "metadata": {},
   "outputs": [],
   "source": []
  }
 ],
 "metadata": {
  "kernelspec": {
   "display_name": "Python 3",
   "language": "python",
   "name": "python3"
  },
  "language_info": {
   "codemirror_mode": {
    "name": "ipython",
    "version": 3
   },
   "file_extension": ".py",
   "mimetype": "text/x-python",
   "name": "python",
   "nbconvert_exporter": "python",
   "pygments_lexer": "ipython3",
   "version": "3.7.4"
  }
 },
 "nbformat": 4,
 "nbformat_minor": 5
}