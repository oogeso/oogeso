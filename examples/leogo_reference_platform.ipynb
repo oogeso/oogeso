{
 "cells": [
  {
   "cell_type": "markdown",
   "metadata": {},
   "source": [
    "# LowEmission Oil and Gas Open (LEOGO) reference platform\n",
    "# October 2021\n",
    "Representing a hypothetical, but realistic Norwegian offshore oil and gas platform\n",
    "\n",
    "* wellstream: 50 Sm3/s, of which:\n",
    "    * gas: 49.75 Sm3/s = 4.3 mill Sm3/day = 4300 Sm3oe/day\n",
    "    * oil:  0.1 Sm3/s = 8640 Sm3/day  \n",
    "    * water: 0.15 Sm3/s = 12960 Sm3/day \n",
    "\n",
    "Gas oil ratio and water cut (standard units):\n",
    "* GOR = 4.3 mill/8640 = 497\n",
    "* WC = 12960/(12960+8640) = 0.6\n"
   ]
  },
  {
   "cell_type": "code",
   "execution_count": 73,
   "metadata": {},
   "outputs": [
    {
     "name": "stderr",
     "output_type": "stream",
     "text": [
      "[autoreload of numpy.matrixlib failed: Traceback (most recent call last):\n",
      "  File \"/Users/morten.aslesen/Projects/oogeso/venv/lib/python3.9/site-packages/IPython/extensions/autoreload.py\", line 245, in check\n",
      "    superreload(m, reload, self.old_objects)\n",
      "  File \"/Users/morten.aslesen/Projects/oogeso/venv/lib/python3.9/site-packages/IPython/extensions/autoreload.py\", line 394, in superreload\n",
      "    module = reload(module)\n",
      "  File \"/usr/local/Cellar/python@3.9/3.9.9/Frameworks/Python.framework/Versions/3.9/lib/python3.9/imp.py\", line 314, in reload\n",
      "    return importlib.reload(module)\n",
      "  File \"/usr/local/Cellar/python@3.9/3.9.9/Frameworks/Python.framework/Versions/3.9/lib/python3.9/importlib/__init__.py\", line 169, in reload\n",
      "    _bootstrap._exec(spec, module)\n",
      "  File \"<frozen importlib._bootstrap>\", line 613, in _exec\n",
      "  File \"<frozen importlib._bootstrap_external>\", line 850, in exec_module\n",
      "  File \"<frozen importlib._bootstrap>\", line 228, in _call_with_frames_removed\n",
      "  File \"/Users/morten.aslesen/Projects/oogeso/venv/lib/python3.9/site-packages/numpy/matrixlib/__init__.py\", line 6, in <module>\n",
      "    __all__ = defmatrix.__all__\n",
      "NameError: name 'defmatrix' is not defined\n",
      "]\n",
      "[autoreload of numpy.lib failed: Traceback (most recent call last):\n",
      "  File \"/Users/morten.aslesen/Projects/oogeso/venv/lib/python3.9/site-packages/IPython/extensions/autoreload.py\", line 245, in check\n",
      "    superreload(m, reload, self.old_objects)\n",
      "  File \"/Users/morten.aslesen/Projects/oogeso/venv/lib/python3.9/site-packages/IPython/extensions/autoreload.py\", line 394, in superreload\n",
      "    module = reload(module)\n",
      "  File \"/usr/local/Cellar/python@3.9/3.9.9/Frameworks/Python.framework/Versions/3.9/lib/python3.9/imp.py\", line 314, in reload\n",
      "    return importlib.reload(module)\n",
      "  File \"/usr/local/Cellar/python@3.9/3.9.9/Frameworks/Python.framework/Versions/3.9/lib/python3.9/importlib/__init__.py\", line 169, in reload\n",
      "    _bootstrap._exec(spec, module)\n",
      "  File \"<frozen importlib._bootstrap>\", line 613, in _exec\n",
      "  File \"<frozen importlib._bootstrap_external>\", line 850, in exec_module\n",
      "  File \"<frozen importlib._bootstrap>\", line 228, in _call_with_frames_removed\n",
      "  File \"/Users/morten.aslesen/Projects/oogeso/venv/lib/python3.9/site-packages/numpy/lib/__init__.py\", line 44, in <module>\n",
      "    __all__ += type_check.__all__\n",
      "NameError: name 'type_check' is not defined\n",
      "]\n",
      "[autoreload of numpy failed: Traceback (most recent call last):\n",
      "  File \"/Users/morten.aslesen/Projects/oogeso/venv/lib/python3.9/site-packages/IPython/extensions/autoreload.py\", line 245, in check\n",
      "    superreload(m, reload, self.old_objects)\n",
      "  File \"/Users/morten.aslesen/Projects/oogeso/venv/lib/python3.9/site-packages/IPython/extensions/autoreload.py\", line 394, in superreload\n",
      "    module = reload(module)\n",
      "  File \"/usr/local/Cellar/python@3.9/3.9.9/Frameworks/Python.framework/Versions/3.9/lib/python3.9/imp.py\", line 314, in reload\n",
      "    return importlib.reload(module)\n",
      "  File \"/usr/local/Cellar/python@3.9/3.9.9/Frameworks/Python.framework/Versions/3.9/lib/python3.9/importlib/__init__.py\", line 169, in reload\n",
      "    _bootstrap._exec(spec, module)\n",
      "  File \"<frozen importlib._bootstrap>\", line 613, in _exec\n",
      "  File \"<frozen importlib._bootstrap_external>\", line 850, in exec_module\n",
      "  File \"<frozen importlib._bootstrap>\", line 228, in _call_with_frames_removed\n",
      "  File \"/Users/morten.aslesen/Projects/oogeso/venv/lib/python3.9/site-packages/numpy/__init__.py\", line 200, in <module>\n",
      "    core.numerictypes.typeDict,\n",
      "AttributeError: module 'numpy.core' has no attribute 'numerictypes'\n",
      "]\n",
      "[autoreload of numpy.testing._private.utils failed: Traceback (most recent call last):\n",
      "  File \"/Users/morten.aslesen/Projects/oogeso/venv/lib/python3.9/site-packages/IPython/extensions/autoreload.py\", line 245, in check\n",
      "    superreload(m, reload, self.old_objects)\n",
      "  File \"/Users/morten.aslesen/Projects/oogeso/venv/lib/python3.9/site-packages/IPython/extensions/autoreload.py\", line 394, in superreload\n",
      "    module = reload(module)\n",
      "  File \"/usr/local/Cellar/python@3.9/3.9.9/Frameworks/Python.framework/Versions/3.9/lib/python3.9/imp.py\", line 314, in reload\n",
      "    return importlib.reload(module)\n",
      "  File \"/usr/local/Cellar/python@3.9/3.9.9/Frameworks/Python.framework/Versions/3.9/lib/python3.9/importlib/__init__.py\", line 169, in reload\n",
      "    _bootstrap._exec(spec, module)\n",
      "  File \"<frozen importlib._bootstrap>\", line 613, in _exec\n",
      "  File \"<frozen importlib._bootstrap_external>\", line 850, in exec_module\n",
      "  File \"<frozen importlib._bootstrap>\", line 228, in _call_with_frames_removed\n",
      "  File \"/Users/morten.aslesen/Projects/oogeso/venv/lib/python3.9/site-packages/numpy/testing/_private/utils.py\", line 53, in <module>\n",
      "    HAS_LAPACK64 = numpy.linalg.lapack_lite._ilp64\n",
      "AttributeError: module 'numpy.linalg' has no attribute 'lapack_lite'\n",
      "]\n",
      "[autoreload of numpy.testing failed: Traceback (most recent call last):\n",
      "  File \"/Users/morten.aslesen/Projects/oogeso/venv/lib/python3.9/site-packages/IPython/extensions/autoreload.py\", line 245, in check\n",
      "    superreload(m, reload, self.old_objects)\n",
      "  File \"/Users/morten.aslesen/Projects/oogeso/venv/lib/python3.9/site-packages/IPython/extensions/autoreload.py\", line 394, in superreload\n",
      "    module = reload(module)\n",
      "  File \"/usr/local/Cellar/python@3.9/3.9.9/Frameworks/Python.framework/Versions/3.9/lib/python3.9/imp.py\", line 314, in reload\n",
      "    return importlib.reload(module)\n",
      "  File \"/usr/local/Cellar/python@3.9/3.9.9/Frameworks/Python.framework/Versions/3.9/lib/python3.9/importlib/__init__.py\", line 169, in reload\n",
      "    _bootstrap._exec(spec, module)\n",
      "  File \"<frozen importlib._bootstrap>\", line 613, in _exec\n",
      "  File \"<frozen importlib._bootstrap_external>\", line 850, in exec_module\n",
      "  File \"<frozen importlib._bootstrap>\", line 228, in _call_with_frames_removed\n",
      "  File \"/Users/morten.aslesen/Projects/oogeso/venv/lib/python3.9/site-packages/numpy/testing/__init__.py\", line 16, in <module>\n",
      "    __all__ = _private.utils.__all__ + ['TestCase', 'run_module_suite']\n",
      "NameError: name '_private' is not defined\n",
      "]\n",
      "[autoreload of attr._make failed: Traceback (most recent call last):\n",
      "  File \"/Users/morten.aslesen/Projects/oogeso/venv/lib/python3.9/site-packages/IPython/extensions/autoreload.py\", line 245, in check\n",
      "    superreload(m, reload, self.old_objects)\n",
      "  File \"/Users/morten.aslesen/Projects/oogeso/venv/lib/python3.9/site-packages/IPython/extensions/autoreload.py\", line 410, in superreload\n",
      "    update_generic(old_obj, new_obj)\n",
      "  File \"/Users/morten.aslesen/Projects/oogeso/venv/lib/python3.9/site-packages/IPython/extensions/autoreload.py\", line 347, in update_generic\n",
      "    update(a, b)\n",
      "  File \"/Users/morten.aslesen/Projects/oogeso/venv/lib/python3.9/site-packages/IPython/extensions/autoreload.py\", line 302, in update_class\n",
      "    if update_generic(old_obj, new_obj): continue\n",
      "  File \"/Users/morten.aslesen/Projects/oogeso/venv/lib/python3.9/site-packages/IPython/extensions/autoreload.py\", line 347, in update_generic\n",
      "    update(a, b)\n",
      "  File \"/Users/morten.aslesen/Projects/oogeso/venv/lib/python3.9/site-packages/IPython/extensions/autoreload.py\", line 266, in update_function\n",
      "    setattr(old, name, getattr(new, name))\n",
      "ValueError: __repr__() requires a code object with 2 free vars, not 0\n",
      "]\n"
     ]
    },
    {
     "name": "stdout",
     "output_type": "stream",
     "text": [
      "The autoreload extension is already loaded. To reload it, use:\n",
      "  %reload_ext autoreload\n"
     ]
    },
    {
     "name": "stderr",
     "output_type": "stream",
     "text": [
      "[autoreload of attr.validators failed: Traceback (most recent call last):\n",
      "  File \"/Users/morten.aslesen/Projects/oogeso/venv/lib/python3.9/site-packages/IPython/extensions/autoreload.py\", line 245, in check\n",
      "    superreload(m, reload, self.old_objects)\n",
      "  File \"/Users/morten.aslesen/Projects/oogeso/venv/lib/python3.9/site-packages/IPython/extensions/autoreload.py\", line 410, in superreload\n",
      "    update_generic(old_obj, new_obj)\n",
      "  File \"/Users/morten.aslesen/Projects/oogeso/venv/lib/python3.9/site-packages/IPython/extensions/autoreload.py\", line 347, in update_generic\n",
      "    update(a, b)\n",
      "  File \"/Users/morten.aslesen/Projects/oogeso/venv/lib/python3.9/site-packages/IPython/extensions/autoreload.py\", line 317, in update_class\n",
      "    update_instances(old, new)\n",
      "  File \"/Users/morten.aslesen/Projects/oogeso/venv/lib/python3.9/site-packages/IPython/extensions/autoreload.py\", line 280, in update_instances\n",
      "    ref.__class__ = new\n",
      "TypeError: __class__ assignment: '_OptionalValidator' object layout differs from '_OptionalValidator'\n",
      "]\n",
      "[autoreload of attr._version_info failed: Traceback (most recent call last):\n",
      "  File \"/Users/morten.aslesen/Projects/oogeso/venv/lib/python3.9/site-packages/IPython/extensions/autoreload.py\", line 245, in check\n",
      "    superreload(m, reload, self.old_objects)\n",
      "  File \"/Users/morten.aslesen/Projects/oogeso/venv/lib/python3.9/site-packages/IPython/extensions/autoreload.py\", line 410, in superreload\n",
      "    update_generic(old_obj, new_obj)\n",
      "  File \"/Users/morten.aslesen/Projects/oogeso/venv/lib/python3.9/site-packages/IPython/extensions/autoreload.py\", line 347, in update_generic\n",
      "    update(a, b)\n",
      "  File \"/Users/morten.aslesen/Projects/oogeso/venv/lib/python3.9/site-packages/IPython/extensions/autoreload.py\", line 302, in update_class\n",
      "    if update_generic(old_obj, new_obj): continue\n",
      "  File \"/Users/morten.aslesen/Projects/oogeso/venv/lib/python3.9/site-packages/IPython/extensions/autoreload.py\", line 347, in update_generic\n",
      "    update(a, b)\n",
      "  File \"/Users/morten.aslesen/Projects/oogeso/venv/lib/python3.9/site-packages/IPython/extensions/autoreload.py\", line 266, in update_function\n",
      "    setattr(old, name, getattr(new, name))\n",
      "ValueError: __repr__() requires a code object with 2 free vars, not 0\n",
      "]\n"
     ]
    }
   ],
   "source": [
    "%load_ext autoreload\n",
    "%autoreload 2\n",
    "\n",
    "from oogeso.io import file_io\n",
    "import oogeso.plots as plots\n",
    "from oogeso.utils import create_time_series_data\n",
    "import oogeso.dto\n",
    "import matplotlib.pyplot as plt\n",
    "import IPython.display\n",
    "import pandas as pd\n",
    "import logging\n",
    "import pprint\n",
    "import ipywidgets\n",
    "import pickle\n",
    "import plotly.express as px\n",
    "import pyomo.environ as pyo\n",
    "from dataclasses import asdict\n",
    "\n",
    "logging.basicConfig()\n",
    "logger = logging.getLogger()\n",
    "logger.setLevel('INFO') #INFO\n",
    "#print(\"Using Oogeso version {}\".format(oogeso.__version__))"
   ]
  },
  {
   "cell_type": "markdown",
   "metadata": {},
   "source": [
    "## Read input data"
   ]
  },
  {
   "cell_type": "code",
   "execution_count": 74,
   "metadata": {
    "tags": []
   },
   "outputs": [
    {
     "ename": "FileNotFoundError",
     "evalue": "[Errno 2] No such file or directory: 'leogo_reference_platform.yaml'",
     "output_type": "error",
     "traceback": [
      "\u001B[0;31m---------------------------------------------------------------------------\u001B[0m",
      "\u001B[0;31mFileNotFoundError\u001B[0m                         Traceback (most recent call last)",
      "\u001B[0;32m/var/folders/dv/11nzbyvx5jl24307gvr37vxr0000gp/T/ipykernel_22230/657479737.py\u001B[0m in \u001B[0;36m<module>\u001B[0;34m\u001B[0m\n\u001B[1;32m     11\u001B[0m \u001B[0mplots\u001B[0m\u001B[0;34m.\u001B[0m\u001B[0mplotter\u001B[0m\u001B[0;34m=\u001B[0m\u001B[0;34m\"plotly\"\u001B[0m\u001B[0;34m\u001B[0m\u001B[0;34m\u001B[0m\u001B[0m\n\u001B[1;32m     12\u001B[0m \u001B[0;34m\u001B[0m\u001B[0m\n\u001B[0;32m---> 13\u001B[0;31m \u001B[0mdata\u001B[0m \u001B[0;34m=\u001B[0m \u001B[0mfile_io\u001B[0m\u001B[0;34m.\u001B[0m\u001B[0mread_data_from_yaml\u001B[0m\u001B[0;34m(\u001B[0m\u001B[0;34m'leogo_reference_platform.yaml'\u001B[0m\u001B[0;34m)\u001B[0m\u001B[0;34m\u001B[0m\u001B[0;34m\u001B[0m\u001B[0m\n\u001B[0m\u001B[1;32m     14\u001B[0m timeseries = file_io.read_profiles_from_csv(\n\u001B[1;32m     15\u001B[0m     \u001B[0mfilename_nowcasts\u001B[0m\u001B[0;34m=\u001B[0m\u001B[0;34m\"leogo_profiles_nowcasts.csv\"\u001B[0m\u001B[0;34m,\u001B[0m\u001B[0;34m\u001B[0m\u001B[0;34m\u001B[0m\u001B[0m\n",
      "\u001B[0;32m~/Projects/oogeso/src/oogeso/io/file_io.py\u001B[0m in \u001B[0;36mread_data_from_yaml\u001B[0;34m(filename, profiles, profiles_nowcast)\u001B[0m\n\u001B[1;32m     17\u001B[0m \u001B[0;32mdef\u001B[0m \u001B[0mread_data_from_yaml\u001B[0m\u001B[0;34m(\u001B[0m\u001B[0mfilename\u001B[0m\u001B[0;34m,\u001B[0m \u001B[0mprofiles\u001B[0m\u001B[0;34m=\u001B[0m\u001B[0;32mNone\u001B[0m\u001B[0;34m,\u001B[0m \u001B[0mprofiles_nowcast\u001B[0m\u001B[0;34m=\u001B[0m\u001B[0;32mNone\u001B[0m\u001B[0;34m)\u001B[0m \u001B[0;34m->\u001B[0m \u001B[0mdto\u001B[0m\u001B[0;34m.\u001B[0m\u001B[0mEnergySystemData\u001B[0m\u001B[0;34m:\u001B[0m\u001B[0;34m\u001B[0m\u001B[0;34m\u001B[0m\u001B[0m\n\u001B[1;32m     18\u001B[0m     \u001B[0;34m\"\"\"Read input data from yaml file\"\"\"\u001B[0m\u001B[0;34m\u001B[0m\u001B[0;34m\u001B[0m\u001B[0m\n\u001B[0;32m---> 19\u001B[0;31m     \u001B[0;32mwith\u001B[0m \u001B[0mopen\u001B[0m\u001B[0;34m(\u001B[0m\u001B[0mfilename\u001B[0m\u001B[0;34m,\u001B[0m \u001B[0;34m\"r\"\u001B[0m\u001B[0;34m)\u001B[0m \u001B[0;32mas\u001B[0m \u001B[0mtext_file\u001B[0m\u001B[0;34m:\u001B[0m\u001B[0;34m\u001B[0m\u001B[0;34m\u001B[0m\u001B[0m\n\u001B[0m\u001B[1;32m     20\u001B[0m         \u001B[0mdata_dict\u001B[0m \u001B[0;34m=\u001B[0m \u001B[0myaml\u001B[0m\u001B[0;34m.\u001B[0m\u001B[0msafe_load\u001B[0m\u001B[0;34m(\u001B[0m\u001B[0mtext_file\u001B[0m\u001B[0;34m)\u001B[0m\u001B[0;34m\u001B[0m\u001B[0;34m\u001B[0m\u001B[0m\n\u001B[1;32m     21\u001B[0m \u001B[0;34m\u001B[0m\u001B[0m\n",
      "\u001B[0;31mFileNotFoundError\u001B[0m: [Errno 2] No such file or directory: 'leogo_reference_platform.yaml'"
     ]
    }
   ],
   "source": [
    "case='Base' # base case without wind\n",
    "#case='A' # case with 24 MW wind capacity\n",
    "#case='B' # case with 24 MW wind capacity AND 4 MW, 4 MWh battery\n",
    "#case=\"C\"\n",
    "#case=\"all\"\n",
    "#timerange=[0,12*24*7] #one week (with 5 min timestep)\n",
    "timerange=[0,200] # testing\n",
    "#timerange=[0,4]\n",
    "#timerange=[1030,1050] #no wind period\n",
    "outpath = \"result/\"\n",
    "plots.plotter=\"plotly\"\n",
    "\n",
    "data = file_io.read_data_from_yaml('leogo_reference_platform.yaml')\n",
    "timeseries = file_io.read_profiles_from_csv(\n",
    "    filename_nowcasts=\"leogo_profiles_nowcasts.csv\",\n",
    "    filename_forecasts=\"leogo_profiles_forecasts.csv\")\n",
    "profiles = create_time_series_data(\n",
    "    df_forecast= timeseries[\"forecast\"],\n",
    "    df_nowcast=timeseries[\"nowcast\"],\n",
    "    time_start=None,time_end=None,\n",
    "    timestep_minutes=5,\n",
    "    resample_method=\"linear\")\n",
    "data.profiles = profiles\n",
    "\n",
    "#data['paramParameters']['planning_horizon']=12\n",
    "\n",
    "incl_battery=0\n",
    "incl_hydrogen=0\n",
    "if case=='Base':\n",
    "    wind_P_max=0 # no wind\n",
    "elif case=='A':\n",
    "    wind_P_max=8*3 # 3x8 MW, as agreed with ABB\n",
    "elif case=='B':\n",
    "    wind_P_max=8*3 # 3x8 MW, as agreed with ABB\n",
    "    incl_battery=1\n",
    "elif case==\"C\":\n",
    "    wind_P_max=8*12 # Large wind farm Pmax=2x demand\n",
    "    incl_hydrogen=1\n",
    "    data.parameters.co2_tax=1000\n",
    "    prof_h2target=oogeso.dto.oogeso_input_data_objects.TimeSeriesData(id=\"h2target\",data=[0.5]*len(data.profiles[0].data))\n",
    "    data.profiles.append(prof_h2target)\n",
    "elif case=='BaseX':\n",
    "    # CASE for illustration (to make plots for paper)\n",
    "    wind_P_max=0 # no wind\n",
    "    # oilgas prod down at timestep 100\n",
    "    xlist=data.profiles[2].data\n",
    "    pr2=[xlist[i]*0.8 if (i>100) and (i<150) else xlist[i] for i in range(len(xlist))]\n",
    "    data.profiles[2].data=pr2\n",
    "elif case==\"all\":\n",
    "    # CASE for illustration (to make plots for paper)\n",
    "    wind_P_max=8*12 # Large wind farm Pmax=2x demand\n",
    "    incl_battery=1\n",
    "    incl_hydrogen=1\n",
    "    data.parameters.co2_tax=1000\n",
    "    prof_h2target=oogeso.dto.oogeso_input_data_objects.TimeSeriesData(id=\"h2target\",data=[0.5]*len(data.profiles[0].data))\n",
    "    data.profiles.append(prof_h2target)\n",
    "\n",
    "\n",
    "gts = ['Gen1','Gen2','Gen3']\n",
    "wells = ['wellL1', 'wellL2']\n",
    "hydrogendevices = ['electrolyser','fuelcell','h2storage']\n",
    "for dev in data.devices:\n",
    "    if dev.id in gts:\n",
    "        dev.start_stop.is_on_init = True\n",
    "    if dev.id == \"wind\":\n",
    "        dev.flow_max = wind_P_max\n",
    "    if dev.id == \"battery\":\n",
    "        dev.include = incl_battery\n",
    "    if dev.id in wells:\n",
    "        # fixed production - not allowed to reduce:\n",
    "        dev.flow_min = dev.flow_max\n",
    "    if dev.id in hydrogendevices:\n",
    "        dev.include = incl_hydrogen\n",
    "\n",
    "simulator = oogeso.Simulator(data)\n"
   ]
  },
  {
   "cell_type": "code",
   "execution_count": null,
   "metadata": {},
   "outputs": [],
   "source": [
    "# Test solve:\n",
    "# simulator.optimiser.solve(solver=\"gurobi\")"
   ]
  },
  {
   "cell_type": "code",
   "execution_count": null,
   "metadata": {},
   "outputs": [],
   "source": []
  },
  {
   "cell_type": "code",
   "execution_count": null,
   "metadata": {},
   "outputs": [],
   "source": [
    "#simulator.optimiser.paramDeviceEnergyInitially.pprint()"
   ]
  },
  {
   "cell_type": "code",
   "execution_count": null,
   "metadata": {},
   "outputs": [],
   "source": [
    "#simulator.optimiser.dual.pprint()"
   ]
  },
  {
   "cell_type": "code",
   "execution_count": null,
   "metadata": {},
   "outputs": [],
   "source": [
    "#optimiser.paramProfiles.pprint() # all 1 before update, from profile after\n",
    "#optimiser.paramDeviceIsOnInitially.pprint() # all 1 before and after update\n",
    "#optimiser.paramDevicePrepTimestepsInitially.pprint() # all 0 before and after update\n",
    "#optimiser.paramDevicePowerInitially.pprint() # unchanged before/after"
   ]
  },
  {
   "cell_type": "markdown",
   "metadata": {},
   "source": [
    "### Inspect input data"
   ]
  },
  {
   "cell_type": "code",
   "execution_count": null,
   "metadata": {},
   "outputs": [],
   "source": [
    "@ipywidgets.interact(datagroup=['','devices','nodes','edges','carriers','parameters'])\n",
    "def showdata(datagroup):\n",
    "    pprint.pprint(asdict(data)[datagroup],indent=1) if datagroup!='' else print('')"
   ]
  },
  {
   "cell_type": "code",
   "execution_count": null,
   "metadata": {},
   "outputs": [],
   "source": [
    "yy=['']+list(simulator.optimiser.component_objects(oogeso.optimiser.pyo.Constraint, active=True))\n",
    "@ipywidgets.interact(constraint=yy)\n",
    "def showdata(constraint):\n",
    "    pprint.pprint(constraint.pprint(),width=1) if constraint!='' else print('')"
   ]
  },
  {
   "cell_type": "code",
   "execution_count": null,
   "metadata": {},
   "outputs": [],
   "source": [
    "#data.devices[25]\n",
    "#for e in data.edges: print(e.id,e.bidirectional)"
   ]
  },
  {
   "cell_type": "code",
   "execution_count": null,
   "metadata": {},
   "outputs": [],
   "source": [
    "import matplotlib.dates as mdates\n",
    "plt.figure(figsize=(8,3))\n",
    "ax=plt.gca()\n",
    "#day 6, hour 22: 6*24*12 + 22*12 = \n",
    "#tstart=7*24*12\n",
    "#tlen=12*12\n",
    "#xvalues = pd.date_range(start=\"00:00:00\",freq=\"5min\",periods=tlen)\n",
    "#myFmt = mdates.DateFormatter('%H:%M')\n",
    "#ax.xaxis.set_major_formatter(myFmt)\n",
    "tstart=0\n",
    "tlen=7*24*12\n",
    "xvalues=range(tstart,tstart+tlen)\n",
    "print(tstart,tlen)\n",
    "for pr in profiles:\n",
    "    if pr.id in [\"curve_const\",\"waterinj\",\"h2target\"]: continue\n",
    "    color = next(ax._get_lines.prop_cycler)['color']\n",
    "    plt.step(xvalues,pr.data[tstart:(tstart+tlen)],label=pr.id,color=color,where=\"post\")\n",
    "    if pr.data_nowcast is not None:\n",
    "        color = next(ax._get_lines.prop_cycler)['color']\n",
    "        plt.step(xvalues,pr.data_nowcast[tstart:(tstart+tlen)],\"--\",\n",
    "                 label=\"{} (nowcast)\".format(pr.id),color=color,where=\"post\")        \n",
    "plt.legend(loc=\"upper left\",bbox_to_anchor=(1,1),frameon=False)\n",
    "plt.xlabel(\"Time\")\n",
    "plt.ylabel(\"Relative value\")\n",
    "plt.savefig(outpath+\"timerseries_ts{}_{}.pdf\".format(tstart,case),dpi=300,bbox_inches=\"tight\")"
   ]
  },
  {
   "cell_type": "code",
   "execution_count": null,
   "metadata": {},
   "outputs": [],
   "source": [
    "outpath"
   ]
  },
  {
   "cell_type": "code",
   "execution_count": null,
   "metadata": {},
   "outputs": [],
   "source": [
    "# View profiles (entire available time windows)\n",
    "scale=300/96 # ratio print vs screen dpi\n",
    "fig=plots.plot_profiles(profiles,filename=None)\n",
    "fig.update_layout(template=\"plotly_white\",autosize=False,width=600,height=200,margin=dict(l=0,r=0,t=0,b=0))\n",
    "fig.show()\n",
    "#300 dpi and 4 inch: 1200 pixels\n",
    "fig.write_image(outpath+\"profiles.pdf\",width=600,height=200,scale=scale)"
   ]
  },
  {
   "cell_type": "code",
   "execution_count": null,
   "metadata": {},
   "outputs": [],
   "source": [
    "dev=simulator.optimiser.all_devices['Gen1'].dev_data\n",
    "fuelA = dev.fuel_A\n",
    "fuelB = dev.fuel_B\n",
    "Pmax = dev.flow_max\n",
    "#plots.plotGasTurbineEfficiency(filename='gasturbine_Gen1.png',fuelA=fuelA,fuelB=fuelB,Pmax=Pmax)"
   ]
  },
  {
   "cell_type": "code",
   "execution_count": null,
   "metadata": {},
   "outputs": [],
   "source": [
    "# View energy system\n",
    "dotG=plots.plot_network(simulator,timestep=None,filename=None,rankdir=\"LR\",hide_edgelabel=True,only_carrier=None,fontsize=20,fontname = \"helvetica\",)\n",
    "IPython.display.Image(dotG.create_png(prog=\"dot\")) #scales automatically to page width\n",
    "#dotG.write_pdf(path=outpath+\"diagram0_{}.pdf\".format(case))"
   ]
  },
  {
   "cell_type": "markdown",
   "metadata": {},
   "source": [
    "### Some checks on input data"
   ]
  },
  {
   "cell_type": "code",
   "execution_count": null,
   "metadata": {},
   "outputs": [],
   "source": [
    "print(\"flow per pipe = {:.4} Sm3/s\".format(50/15))\n",
    "flow1=oogeso.networks.pipelines.darcy_weissbach_Q(p1=6.164,p2=6,f=0.001,rho=5.63,\n",
    "    diameter_mm=200,length_km=1,height_difference_m=100)\n",
    "flow2=oogeso.networks.pipelines.darcy_weissbach_Q(p1=6.164,p2=4,f=0.0136,rho=5.63,\n",
    "    diameter_mm=200,length_km=1,height_difference_m=100)\n",
    "flow3=oogeso.networks.pipelines.darcy_weissbach_Q(p1=7,p2=4,f=0.0189,rho=5.63,\n",
    "    diameter_mm=200,length_km=1,height_difference_m=100)\n",
    "print(\"flow1 (6.164->6): {:.4}\".format(flow1))\n",
    "print(\"flow2 (6.164->4): {:.4}\".format(flow2))\n",
    "print(\"flow3 (7->4):     {:.4}\".format(flow3))"
   ]
  },
  {
   "cell_type": "code",
   "execution_count": null,
   "metadata": {},
   "outputs": [],
   "source": [
    "oogeso.networks.pipelines.darcy_weissbach_p2(p1=25e6,Q=2.37,f=0.001,rho=5.63,\n",
    "    diameter=0.2,length=1000,height_difference=100,p0_from=25e6,p0_to=24e6,linear=False)"
   ]
  },
  {
   "cell_type": "code",
   "execution_count": null,
   "metadata": {},
   "outputs": [],
   "source": [
    "# Water pipe pressure drop ('w3')\n",
    "#mc.instance.paramEdge['w3']['num_pipes']=15\n",
    "#mc.instance.paramEdge['w1']['diameter_mm']=200\n",
    "edge = simulator.optimiser.all_edges['w3']\n",
    "#edge.edge_data.pressure_from=25.12\n",
    "water_network = simulator.optimiser.all_networks[\"water\"]\n",
    "#water_network.carrier_data.viscosity=None\n",
    "#water_network.carrier_data.darcy_friction=0.01\n",
    "print(water_network.carrier_data)\n",
    "print(edge.edge_data)\n",
    "print(\"=> Pressure out={:.4} MPa\".format(water_network.compute_edge_pressuredrop(edge,\n",
    "    p1=25.063,Q=0.277/15,linear=False)))\n",
    "print(\"Nonlinear computation of Q from pressure difference: Q={:.3g} Sm3/s\".format(\n",
    "    15*oogeso.networks.pipelines.darcy_weissbach_Q(p1=25.063,p2=26,f=0.01,rho=1000,diameter_mm=135,length_km=1,height_difference_m=-100)))"
   ]
  },
  {
   "cell_type": "code",
   "execution_count": null,
   "metadata": {},
   "outputs": [],
   "source": []
  },
  {
   "cell_type": "code",
   "execution_count": null,
   "metadata": {
    "tags": []
   },
   "outputs": [],
   "source": [
    "# Darcy -Weissbach flow calculations - testing\n",
    "import numpy as np\n",
    "p10=25.063e6 # Pa\n",
    "p20=26e6 # Pa\n",
    "D=0.135 # m\n",
    "f=0.01\n",
    "L=1100 # m\n",
    "z=-100 # m\n",
    "rho=1000\n",
    "grav=9.8\n",
    "p1=25.081e6 # Pa\n",
    "Q=0.277\n",
    "num_pipes=15\n",
    "k=np.sqrt(np.pi**2*D**5/(8*rho*f*L))\n",
    "X=np.sqrt((p10-p20)-rho*grav*z)\n",
    "p2 = p1 -(Q/num_pipes-k*X)*2*X/k -(p10-p20)\n",
    "print(\"k={}\".format(k))\n",
    "print(\"X={}\".format(X))\n",
    "print(\"qhat={:.4g} Sm3/s (per pipe), {:.4g} Sm3/s (total)\".format(X*k,15*k*X))\n",
    "print(\"p2={:.6g} MPa (linear computation)\".format(p2*1e-6))\n",
    "print(\"flow part: {:.4g}, static part: p20-p10: {}\".format(-1e-6*(Q/num_pipes-k*X)*2*X/k,(p20-p10)))\n",
    "print(\"--\")\n",
    "k2 = (8 * f * rho * L) / (np.pi ** 2 * D ** 5)\n",
    "q0 = np.sqrt(1 / k2 * ((p10 - p20) - rho * grav * z))\n",
    "p22 = p1 - rho * grav * z - k2 * (2 * q0 * Q/num_pipes - q0 ** 2)\n",
    "print(\"k2 = {}  (linear)\".format(k2))\n",
    "print(\"q0 = {:.4g} Sm3/s ({:.4g} Sm3/s total)\".format(q0,q0*num_pipes))\n",
    "print(\"p2 = {:.9g} MPa (linear)\".format(p22*1e-6))\n",
    "print(\"Pressure change: static={:.4g} MPa, friction={:.4g} MPa\".format(\n",
    "    -rho*grav*z*1e-6,-k2*(2*q0*Q/num_pipes-q0**2)*1e-6))\n",
    "assert np.abs(p22-25.9960035e6)<1, \"Pressure calculation error\"\n",
    "print(\"--\")\n",
    "(p222,q000)=oogeso.networks.pipelines.darcy_weissbach_p2(\n",
    "    Q/num_pipes,p1=p1,f=f,rho=rho,diameter=D,length=L,height_difference=z,linear=True,p0_from=p10,p0_to=p20)\n",
    "print(\"q0= {} Sm3/s (oogeso)\".format(q000))\n",
    "print(\"p2= {} MPa (oogeso)\".format(p222*1e-6))\n",
    "(p222,q000)=oogeso.networks.pipelines.darcy_weissbach_p2(\n",
    "    Q/num_pipes,p1=p1,f=f,rho=rho,diameter=D,length=L,height_difference=z,linear=False,p0_from=p10,p0_to=p20)\n",
    "print(\"p2= {} MPa (oogeso, nonlinear)\".format(p222*1e-6))\n"
   ]
  },
  {
   "cell_type": "code",
   "execution_count": null,
   "metadata": {},
   "outputs": [],
   "source": []
  },
  {
   "cell_type": "code",
   "execution_count": null,
   "metadata": {},
   "outputs": [],
   "source": [
    "25.12, 25.063, 25.081"
   ]
  },
  {
   "cell_type": "code",
   "execution_count": null,
   "metadata": {},
   "outputs": [],
   "source": [
    "print(simulator.optimiser.all_edges['w3'].edge_data)"
   ]
  },
  {
   "cell_type": "markdown",
   "metadata": {},
   "source": [
    "## Solve"
   ]
  },
  {
   "cell_type": "markdown",
   "metadata": {},
   "source": [
    "If the problem is infeasible, try \n",
    "* relaxing pressure deviation limits (generic value and per-node value)\n",
    "* add a high cost emergency generator (that could represent load shedding) to ensure energy balance can be satisfied\n",
    "* make sure excess heat/water/gas has a place to go\n"
   ]
  },
  {
   "cell_type": "code",
   "execution_count": null,
   "metadata": {},
   "outputs": [],
   "source": [
    "dev_d=simulator.optimiser.all_devices[\"Gen1\"].dev_data\n",
    "node_d=simulator.optimiser.all_nodes[\"powersupply\"].node_data"
   ]
  },
  {
   "cell_type": "code",
   "execution_count": null,
   "metadata": {},
   "outputs": [],
   "source": [
    "#simulator.optimiser.write(\"testplatform.mps\")\n",
    "sim_result = simulator.runSimulation(solver=\"gurobi\",timerange=timerange,write_yaml=False,timelimit=20)\n",
    "print(\"Mean CO2 emission rate      = {:.1f} kgCO2/s\".format(sim_result.dfCO2rate.mean()))\n",
    "print(\"Mean CO2 emission intensity = {:.1f} kgCO2/Sm3oe\".format(sim_result.dfCO2intensity.mean()))\n",
    "print(\"Mean export revenue         =\",*[\"{}:{:.1f} \".format(x,v) for x,v in sim_result.dfExportRevenue.mean().items() if v!=0],\"$/s\")"
   ]
  },
  {
   "cell_type": "code",
   "execution_count": null,
   "metadata": {},
   "outputs": [],
   "source": [
    "#simulator.optimiser.updateOptimisationModel(timestep=0,profiles=data.profiles,first=True)\n",
    "simulator.optimiser.write(\"test.mps\",io_options = {\"symbolic_solver_labels\":True})"
   ]
  },
  {
   "cell_type": "code",
   "execution_count": null,
   "metadata": {},
   "outputs": [],
   "source": [
    "#simulator.optimiser.constr_injectionwell_Pmax.pprint()\n",
    "#simulator.optimiser.constrO_elReserveMargin[6].pprint()\n",
    "pyo.value(simulator.optimiser.varEdgeFlow[\"w2\",0])\n",
    "#simulator.optimiser.constrE_w2_flow.pprint()"
   ]
  },
  {
   "cell_type": "code",
   "execution_count": null,
   "metadata": {},
   "outputs": [],
   "source": [
    "print(pyo.value(simulator.optimiser.paramProfiles[\"curve_wind\",6]),\n",
    "    pyo.value(simulator.optimiser.varDeviceIsOn[\"Gen1\",6]),\n",
    "    pyo.value(simulator.optimiser.varDeviceIsOn[\"Gen2\",6]),\n",
    "    pyo.value(simulator.optimiser.varDeviceIsOn[\"Gen3\",6]),\n",
    ")"
   ]
  },
  {
   "cell_type": "markdown",
   "metadata": {},
   "source": [
    "## Save/Load simulation results\n",
    "By saving to pickle file, it easy to later open and analyse the results without having to re-run the simulation"
   ]
  },
  {
   "cell_type": "code",
   "execution_count": null,
   "metadata": {},
   "outputs": [],
   "source": [
    "pickle_save='{}case{}.pkl'.format(outpath,case)\n",
    "# Save (pickle) - for later opening and analysis\n",
    "dumpdata={\"data\":data,\"result\":sim_result}\n",
    "with open(pickle_save, mode='wb') as file:\n",
    "   pickle.dump(dumpdata, file)\n",
    "print(\"Results were saved to {}\".format(pickle_save))"
   ]
  },
  {
   "cell_type": "code",
   "execution_count": null,
   "metadata": {},
   "outputs": [],
   "source": [
    "# Open previously saved object (including simulation results)\n",
    "#with open(pickle_save, mode='rb') as file:\n",
    "#   sim_data = cloudpickle.load(file)\n",
    "#data=sim_data[\"data\"]\n",
    "#sim_result=sim_data[\"result\"]"
   ]
  },
  {
   "cell_type": "code",
   "execution_count": null,
   "metadata": {},
   "outputs": [],
   "source": []
  },
  {
   "cell_type": "markdown",
   "metadata": {
    "tags": []
   },
   "source": [
    "## Analyse results"
   ]
  },
  {
   "cell_type": "code",
   "execution_count": null,
   "metadata": {},
   "outputs": [],
   "source": [
    "import oogeso.result_analysis\n",
    "kpi = oogeso.result_analysis.compute_kpis(sim_result, sim_data=data, wind_turbines=['wind'])\n",
    "kpi = pd.DataFrame.from_dict(kpi,orient=\"index\",columns=[case])\n",
    "kpi "
   ]
  },
  {
   "cell_type": "code",
   "execution_count": null,
   "metadata": {},
   "outputs": [],
   "source": [
    "tstep=151\n",
    "gCombined = plots.plot_network(simulator=simulator,timestep=tstep,numberformat=\"{:.3g}\",\n",
    "                              filename=None,only_carrier=None,fontsize=30,fontname = \"helvetica\",\n",
    "                              hide_losses=True)\n",
    "IPython.display.Image(gCombined.create_png())\n",
    "#gCombined.write_png(path=outpath+\"diagram_{}.pdf\".format(case),f=\"pdf\")\n",
    "#gCombined.write_pdf(path=outpath+\"diagram_{}.pdf\".format(case))"
   ]
  },
  {
   "cell_type": "code",
   "execution_count": null,
   "metadata": {},
   "outputs": [],
   "source": [
    "#simulator.optimiser.all_nodes['wells'].devices_serial\n",
    "#sim_result.dfEdgeFlow.unstack(\"edge\").loc[151]\n",
    "simulator.optimiser.constrN_wells_energybalance[\"gas\",\"out\",0].pprint()\n",
    "print(pyo.value(simulator.optimiser.varDeviceFlow[\"wellL1\",\"gas\",\"out\",0]))\n",
    "print(pyo.value(simulator.optimiser.varDeviceFlow[\"wellL2\",\"gas\",\"out\",0]))\n",
    "print(pyo.value(simulator.optimiser.varEdgeFlow[\"cL2g\",0]))\n",
    "print(pyo.value(simulator.optimiser.varEdgeLoss21[\"cL2g\",0]))"
   ]
  },
  {
   "cell_type": "code",
   "execution_count": null,
   "metadata": {},
   "outputs": [],
   "source": [
    "print(\"CHECKING edge pressure drop on selected edges:\")\n",
    "optimiser = simulator.optimiser\n",
    "print('w1: {:.5g} MPa'.format(optimiser.all_networks[\"water\"].compute_edge_pressuredrop(optimiser.all_edges['w1'],Q=1.15,p1=0.7,linear=True)))\n",
    "print('w3: {:.5g} MPa'.format(optimiser.all_networks[\"water\"].compute_edge_pressuredrop(optimiser.all_edges['w3'],Q=1.3/15,p1=7,linear=False)))\n",
    "print('o2: {:.5g} MPa'.format(optimiser.all_networks[\"oil\"].compute_edge_pressuredrop(optimiser.all_edges['o2'],Q=0.1,p1=5,linear=True)))\n",
    "print('g2: {:.5g} MPa'.format(optimiser.all_networks[\"gas\"].compute_edge_pressuredrop(optimiser.all_edges['g2'],Q=48,p1=10,linear=True)))"
   ]
  },
  {
   "cell_type": "code",
   "execution_count": null,
   "metadata": {},
   "outputs": [],
   "source": [
    "#mc.checkEdgePressureDrop(timestep=1,var=\"outer\")"
   ]
  },
  {
   "cell_type": "code",
   "execution_count": null,
   "metadata": {},
   "outputs": [],
   "source": []
  },
  {
   "cell_type": "code",
   "execution_count": null,
   "metadata": {},
   "outputs": [],
   "source": [
    "plots.plotter='matplotlib'\n",
    "fig2=plots.plot_sum_power_mix(sim_result,simulator.optimiser,carrier=\"el\",filename=None,devs_shareload=[])\n",
    "#fig2.update_layout(autosize=False,width=800,height=500,margin=dict(l=0,r=0,t=0,b=0))\n",
    "#fig2.write_image(\"{}/elpowermix_{}.png\".format(outpath,case))\n",
    "fig2.set_size_inches(6,4)\n",
    "plt.suptitle(\"\")\n",
    "plt.savefig(\"result/poweroutput_{}x.pdf\".format(case),dpi=300,bbox_inches=\"tight\")"
   ]
  },
  {
   "cell_type": "code",
   "execution_count": null,
   "metadata": {},
   "outputs": [],
   "source": []
  },
  {
   "cell_type": "code",
   "execution_count": null,
   "metadata": {
    "tags": []
   },
   "outputs": [],
   "source": [
    "mean_el_demand = sim_result.dfDeviceFlow.unstack('carrier')['el'].unstack('terminal')['in'].dropna().unstack().T.mean()\n",
    "mean_heat_demand = sim_result.dfDeviceFlow.unstack('carrier')['heat'].unstack('terminal')['in'].dropna().unstack().T.mean()\n",
    "energydemand = pd.concat({'el':mean_el_demand,'heat':mean_heat_demand},axis=1)\n",
    "energydemand.drop('heatdump',inplace=True)\n",
    "energydemand.plot.barh(title=\"Mean power demand (MW)\")\n",
    "energydemand"
   ]
  },
  {
   "cell_type": "code",
   "execution_count": null,
   "metadata": {},
   "outputs": [],
   "source": [
    "energydemand.sum()"
   ]
  },
  {
   "cell_type": "code",
   "execution_count": null,
   "metadata": {},
   "outputs": [],
   "source": [
    "mean_flows=sim_result.dfDeviceFlow.unstack([\"carrier\",\"device\",\"terminal\"]).mean().unstack([\"carrier\",\"terminal\"])\n",
    "print(\"Mean flows:\\n\",mean_flows.sum())\n",
    "print(\"Mean flow per device:\")\n",
    "mean_flows"
   ]
  },
  {
   "cell_type": "code",
   "execution_count": null,
   "metadata": {},
   "outputs": [],
   "source": [
    "mean_flows.loc[[\"Gen1\",\"Gen2\",\"Gen3\"]].sum()"
   ]
  },
  {
   "cell_type": "code",
   "execution_count": null,
   "metadata": {},
   "outputs": [],
   "source": [
    "well_inout=sim_result.dfDeviceFlow.unstack('device')[['wellL1','wellL2']].sum(axis=1).unstack('time').mean(axis=1).unstack('terminal')\n",
    "print(\"Net gas production = {:.5g} Sm3/s\".format((well_inout['out']-well_inout['in']).sum()))\n",
    "print(\"Gas circulated =     {:.5g} Sm3/s\".format(well_inout['in'].sum()))"
   ]
  },
  {
   "cell_type": "code",
   "execution_count": null,
   "metadata": {},
   "outputs": [],
   "source": []
  },
  {
   "cell_type": "code",
   "execution_count": null,
   "metadata": {},
   "outputs": [],
   "source": []
  },
  {
   "cell_type": "code",
   "execution_count": null,
   "metadata": {},
   "outputs": [],
   "source": []
  },
  {
   "cell_type": "code",
   "execution_count": null,
   "metadata": {},
   "outputs": [],
   "source": [
    "plots.plotter=\"plotly\"\n",
    "gts = [d for d,d_obj in simulator.optimiser.all_devices.items() if d_obj.dev_data.model in [\"gasturbine\",\"source_el\"]]\n",
    "fig=plots.plot_device_profile(sim_result,simulator.optimiser,devs=gts,filename=None,include_on_off=True, include_prep=False,devs_shareload=None)\n",
    "fig.update_layout(autosize=False,width=700,height=300,margin=dict(l=0,r=0,t=30,b=0),template=\"plotly_white\")\n",
    "fig.show()\n",
    "#300 dpi and 4 inch: 1200 pixels\n",
    "scale=300/96 # ratio print vs screen dpi\n",
    "#fig.write_image(outpath+\"powersupply.pdf\",width=700,height=300,scale=scale)"
   ]
  },
  {
   "cell_type": "code",
   "execution_count": null,
   "metadata": {},
   "outputs": [],
   "source": []
  },
  {
   "cell_type": "code",
   "execution_count": null,
   "metadata": {},
   "outputs": [],
   "source": [
    "dfStartopt = pd.DataFrame()\n",
    "inst=simulator.optimiser\n",
    "for t in inst.setHorizon: \n",
    "    dfStartopt.loc[t,'start']=inst.varDeviceStarting['Gen2',t].value\n",
    "    dfStartopt.loc[t,'prep']=inst.varDeviceIsPrep['Gen2',t].value\n",
    "    dfStartopt.loc[t,'on']=inst.varDeviceIsOn['Gen2',t].value\n",
    "    dfStartopt.loc[t,'stop']=inst.varDeviceStopping['Gen2',t].value\n",
    "dfStartopt.head()"
   ]
  },
  {
   "cell_type": "code",
   "execution_count": null,
   "metadata": {},
   "outputs": [],
   "source": []
  },
  {
   "cell_type": "code",
   "execution_count": null,
   "metadata": {},
   "outputs": [],
   "source": [
    "fig=plots.plot_device_profile(sim_result,simulator.optimiser,devs=['wind'],filename=None,include_forecasts=True)\n",
    "fig.update_layout(autosize=False,width=800,height=300,margin=dict(l=0,r=0,t=0,b=0))"
   ]
  },
  {
   "cell_type": "code",
   "execution_count": null,
   "metadata": {},
   "outputs": [],
   "source": [
    "df=sim_result.dfDeviceFlow.unstack([0,1,2])[[('ex_g','gas','in'),('ex_o','oil','in')]]\n",
    "df.columns=['gas','oil']\n",
    "df=df.reset_index()\n",
    "df[\"gas\"]=df[\"gas\"]/1000 # convert to oil equivalents\n",
    "df = df.melt(var_name=\"Product\",value_name=\"Volume rate (Sm3oe/s)\",id_vars=('time'))\n",
    "px.line(df,x=\"time\",y=\"Volume rate (Sm3oe/s)\",color=\"Product\",title=\"Oil/gas export volumes (Sm3oe/s)\").show()\n",
    "\n",
    "plots.plot_export_revenue(sim_result)"
   ]
  },
  {
   "cell_type": "code",
   "execution_count": null,
   "metadata": {},
   "outputs": [],
   "source": []
  },
  {
   "cell_type": "code",
   "execution_count": null,
   "metadata": {},
   "outputs": [],
   "source": [
    "simulator.optimiser.setDevice.pprint()"
   ]
  },
  {
   "cell_type": "code",
   "execution_count": null,
   "metadata": {},
   "outputs": [],
   "source": [
    "plots.plotter=\"plotly\"\n",
    "if 'battery' in simulator.optimiser.setDevice:\n",
    "    fig=plots.plot_device_profile(sim_result,'battery',\n",
    "                                 filename=None)#outpath+\"battery_opt.png\")\n",
    "    fig.update_layout(autosize=False,width=800,height=300,margin=dict(l=0,r=0,t=30,b=0)).show()\n",
    "    # oogeso.milp_plot.plotDevicePowerLastOptimisation1(mc,device='battery', filename=None)#outpath+\"lastopt_battery.png\")"
   ]
  },
  {
   "cell_type": "code",
   "execution_count": null,
   "metadata": {},
   "outputs": [],
   "source": []
  },
  {
   "cell_type": "code",
   "execution_count": null,
   "metadata": {},
   "outputs": [],
   "source": [
    "plots.plotter=\"plotly\"\n",
    "fig=plots.plot_CO2_rate_per_device(sim_result,simulator.optimiser,reverse_legend=True,filename=outpath+\"co2rate_opt.png\",device_shareload=gts)\n",
    "fig.update_layout(autosize=False,width=800,height=300,margin=dict(l=0,r=0,t=0,b=0))"
   ]
  },
  {
   "cell_type": "code",
   "execution_count": null,
   "metadata": {},
   "outputs": [],
   "source": []
  },
  {
   "cell_type": "code",
   "execution_count": null,
   "metadata": {},
   "outputs": [],
   "source": [
    "fig=plots.plot_CO2_intensity(sim_result,filename=outpath+\"co2intensity_opt.png\")\n",
    "fig.update_layout(autosize=False,width=700,height=300,margin=dict(l=0,r=0,t=0,b=0))"
   ]
  },
  {
   "cell_type": "code",
   "execution_count": null,
   "metadata": {},
   "outputs": [],
   "source": [
    "plots.plotter=\"matplotlib\"\n",
    "fig=plots.plot_reserve(sim_result,simulator.optimiser,dynamic_margin=True, include_sum=False)\n",
    "plt.legend(loc=\"upper left\",bbox_to_anchor=(1,1),frameon=False)\n",
    "fig.set_size_inches(5.92,1.5)\n",
    "plt.savefig(\"result/reserve_{}x.pdf\".format(case),dpi=300,bbox_inches=\"tight\")\n",
    "#fig.update_layout(autosize=False,width=700,height=200,margin=dict(l=0,r=0,t=30,b=0),template=\"plotly_white\")\n",
    "#fig.update_layout(legend_traceorder=\"reversed\")\n",
    "#fig.show()\n",
    "#300 dpi and 4 inch: 1200 pixels\n",
    "#scale=300/96 # ratio print vs screen dpi\n",
    "#fig.write_image(outpath+\"reserve.pdf\",width=700,height=200,scale=scale)"
   ]
  },
  {
   "cell_type": "code",
   "execution_count": null,
   "metadata": {},
   "outputs": [],
   "source": []
  },
  {
   "cell_type": "code",
   "execution_count": null,
   "metadata": {},
   "outputs": [],
   "source": [
    "# This plot shows per device its output (dotted line) and the available online backup, iel reserve \n",
    "# by _other_ devices (solid line). MARGIN(t) = min_devices(backup(t) - output(t))\n",
    "#plots.plotElBackup(mc,showMargin=True,returnMargin=False)"
   ]
  },
  {
   "cell_type": "code",
   "execution_count": null,
   "metadata": {},
   "outputs": [],
   "source": [
    "fig=plots.plot_device_power_energy(sim_result,simulator.optimiser,\"h2storage\")\n",
    "fig.update_layout(autosize=False,width=800,height=250,margin=dict(l=0,r=0,t=30,b=0),template=\"plotly_white\")\n",
    "fig.update_yaxes(tick0=0, dtick=1,secondary_y=True,range=[0,5.5])\n",
    "fig.update_yaxes(tick0=0, dtick=100e3,secondary_y=False,range=[0,550e3])\n",
    "fig.show()\n",
    "fig.write_image(outpath+\"h2storage_{}.pdf\".format(case))"
   ]
  },
  {
   "cell_type": "code",
   "execution_count": null,
   "metadata": {},
   "outputs": [],
   "source": []
  }
 ],
 "metadata": {
  "kernelspec": {
   "display_name": "Python 3 (ipykernel)",
   "language": "python",
   "name": "python3"
  },
  "language_info": {
   "codemirror_mode": {
    "name": "ipython",
    "version": 3
   },
   "file_extension": ".py",
   "mimetype": "text/x-python",
   "name": "python",
   "nbconvert_exporter": "python",
   "pygments_lexer": "ipython3",
   "version": "3.7.10"
  },
  "widgets": {
   "application/vnd.jupyter.widget-state+json": {
    "state": {
     "14c9346021504fad87acb50aebaa1a4b": {
      "model_module": "@jupyter-widgets/output",
      "model_module_version": "1.0.0",
      "model_name": "OutputModel",
      "state": {
       "layout": "IPY_MODEL_74fd062f284d483a90c3de06b027dc64",
       "outputs": [
        {
         "name": "stdout",
         "output_type": "stream",
         "text": "\n"
        }
       ]
      }
     },
     "1ae74b29fb914e829b3acbbf5bb02625": {
      "model_module": "@jupyter-widgets/base",
      "model_module_version": "1.2.0",
      "model_name": "LayoutModel",
      "state": {}
     },
     "22fd6d15542c4a44acff1cc6d955711a": {
      "model_module": "@jupyter-widgets/base",
      "model_module_version": "1.2.0",
      "model_name": "LayoutModel",
      "state": {}
     },
     "267a0eab2cf9469892ee2890fbeffb6a": {
      "model_module": "@jupyter-widgets/controls",
      "model_module_version": "1.5.0",
      "model_name": "VBoxModel",
      "state": {
       "_dom_classes": [
        "widget-interact"
       ],
       "children": [
        "IPY_MODEL_d3d15215f5bb4bc5b83ba1c5926a4851",
        "IPY_MODEL_14c9346021504fad87acb50aebaa1a4b"
       ],
       "layout": "IPY_MODEL_43ee3cfee856455a869e3ab25c55de0c"
      }
     },
     "279edafd58f04ba6adbb54e73ad9d0bb": {
      "model_module": "@jupyter-widgets/controls",
      "model_module_version": "1.5.0",
      "model_name": "DropdownModel",
      "state": {
       "_options_labels": [
        "",
        "paramNode",
        "paramEdge",
        "paramDevice",
        "paramCarriers",
        "paramParameters",
        "setProfile"
       ],
       "description": "datagroup",
       "index": 0,
       "layout": "IPY_MODEL_2a3ca48b605f40f1892431d992619176",
       "style": "IPY_MODEL_38b3507b0a1b409eb00d214c78c03c29"
      }
     },
     "2a3ca48b605f40f1892431d992619176": {
      "model_module": "@jupyter-widgets/base",
      "model_module_version": "1.2.0",
      "model_name": "LayoutModel",
      "state": {}
     },
     "38b3507b0a1b409eb00d214c78c03c29": {
      "model_module": "@jupyter-widgets/controls",
      "model_module_version": "1.5.0",
      "model_name": "DescriptionStyleModel",
      "state": {
       "description_width": ""
      }
     },
     "43ee3cfee856455a869e3ab25c55de0c": {
      "model_module": "@jupyter-widgets/base",
      "model_module_version": "1.2.0",
      "model_name": "LayoutModel",
      "state": {}
     },
     "46cedfac98154a17aee7363ed071160e": {
      "model_module": "@jupyter-widgets/output",
      "model_module_version": "1.0.0",
      "model_name": "OutputModel",
      "state": {
       "layout": "IPY_MODEL_a6f570ee17254b019dd769b010a0fbec",
       "outputs": [
        {
         "name": "stdout",
         "output_type": "stream",
         "text": "\n"
        }
       ]
      }
     },
     "50155d1caae34580a79422301318b0f9": {
      "model_module": "@jupyter-widgets/controls",
      "model_module_version": "1.5.0",
      "model_name": "VBoxModel",
      "state": {
       "_dom_classes": [
        "widget-interact"
       ],
       "children": [
        "IPY_MODEL_279edafd58f04ba6adbb54e73ad9d0bb",
        "IPY_MODEL_46cedfac98154a17aee7363ed071160e"
       ],
       "layout": "IPY_MODEL_22fd6d15542c4a44acff1cc6d955711a"
      }
     },
     "74fd062f284d483a90c3de06b027dc64": {
      "model_module": "@jupyter-widgets/base",
      "model_module_version": "1.2.0",
      "model_name": "LayoutModel",
      "state": {}
     },
     "a6f570ee17254b019dd769b010a0fbec": {
      "model_module": "@jupyter-widgets/base",
      "model_module_version": "1.2.0",
      "model_name": "LayoutModel",
      "state": {}
     },
     "d35b07cb3da44079876880d779d80993": {
      "model_module": "@jupyter-widgets/controls",
      "model_module_version": "1.5.0",
      "model_name": "DescriptionStyleModel",
      "state": {
       "description_width": ""
      }
     },
     "d3d15215f5bb4bc5b83ba1c5926a4851": {
      "model_module": "@jupyter-widgets/controls",
      "model_module_version": "1.5.0",
      "model_name": "DropdownModel",
      "state": {
       "_options_labels": [
        "",
        "paramNode",
        "paramEdge",
        "paramDevice",
        "paramCarriers",
        "paramParameters",
        "setProfile"
       ],
       "description": "datagroup",
       "index": 0,
       "layout": "IPY_MODEL_1ae74b29fb914e829b3acbbf5bb02625",
       "style": "IPY_MODEL_d35b07cb3da44079876880d779d80993"
      }
     }
    },
    "version_major": 2,
    "version_minor": 0
   }
  }
 },
 "nbformat": 4,
 "nbformat_minor": 4
}